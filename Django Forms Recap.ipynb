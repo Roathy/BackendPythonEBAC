{
 "cells": [
  {
   "cell_type": "markdown",
   "id": "a3d60c70-1d46-4586-98c8-c13d07f9abd0",
   "metadata": {},
   "source": [
    "# Django Forms"
   ]
  },
  {
   "cell_type": "code",
   "execution_count": null,
   "id": "ffa7f3de-dfb6-4bdb-a086-acd359c8f7bc",
   "metadata": {},
   "outputs": [],
   "source": [
    "python manage.py startapp forms_test_recap"
   ]
  },
  {
   "cell_type": "markdown",
   "id": "a4fae36f-c634-4df7-a223-cea7848faa61",
   "metadata": {},
   "source": [
    "### src/forms_test_recap/forms.py"
   ]
  },
  {
   "cell_type": "code",
   "execution_count": null,
   "id": "201137aa-2368-4d3d-aa7c-66db82d3665b",
   "metadata": {},
   "outputs": [],
   "source": [
    "from django import forms\n",
    "\n",
    "class SearchForm(forms.Form):\n",
    "    q = forms.CharField()"
   ]
  },
  {
   "cell_type": "markdown",
   "id": "fcc61a7b-f813-497f-97d4-c8b9c9ffa3fe",
   "metadata": {},
   "source": [
    "### Mostrar el form en una vista"
   ]
  },
  {
   "cell_type": "markdown",
   "id": "23d70cdd-4827-4852-a52b-cfb3ad554db3",
   "metadata": {},
   "source": [
    "### src/forms_test_recap/views.py"
   ]
  },
  {
   "cell_type": "code",
   "execution_count": null,
   "id": "71e2315d-5251-402e-8d57-94396c7878a0",
   "metadata": {},
   "outputs": [],
   "source": [
    "from django.shortcuts import render\n",
    "\n",
    "from .forms import SearchForm\n",
    "\n",
    "def home(request):\n",
    "    form = RecapForm()\n",
    "    return render(request, \"forms.html\", {\"form\":form})"
   ]
  },
  {
   "cell_type": "markdown",
   "id": "52514a5f-110e-49f9-8f4d-fee3d5c2e780",
   "metadata": {},
   "source": [
    "### src/config/urls.py"
   ]
  },
  {
   "cell_type": "code",
   "execution_count": null,
   "id": "4a5a2c14-61d1-444d-b10b-2028e2734485",
   "metadata": {},
   "outputs": [],
   "source": [
    "from django.conf import settings\n",
    "from django.contrib import admin\n",
    "from django.urls import include, path\n",
    "\n",
    "urlpatterns = [\n",
    "    path(\"up/\", include(\"up.urls\")),\n",
    "    path(\"\", include(\"pages.urls\")),\n",
    "    path(\"ecommerce/\", include(\"ecommerce.urls\")),\n",
    "    path(\"products/\", include(\"products.urls\")), \n",
    "    path(\"forms/\", include(\"forms_test.urls\")), \n",
    "    path(\"forms-recap/\", include(\"forms_test_recap.urls\")), # <-------\n",
    "    path(\"admin/\", admin.site.urls),\n",
    "]\n",
    "if not settings.TESTING:\n",
    "    urlpatterns = [\n",
    "        *urlpatterns,\n",
    "        path(\"__debug__/\", include(\"debug_toolbar.urls\")),\n",
    "    ]\n"
   ]
  },
  {
   "cell_type": "markdown",
   "id": "b2c961db-69c5-4580-acf3-f749166a211a",
   "metadata": {},
   "source": [
    "### src/forms_test_recap/urls.py"
   ]
  },
  {
   "cell_type": "code",
   "execution_count": null,
   "id": "854ce46f-048b-4200-a478-62a4a7b4b0c2",
   "metadata": {},
   "outputs": [],
   "source": [
    "from django.contrib import admin\n",
    "from django.urls import path\n",
    "\n",
    "from .views import home\n",
    "\n",
    "urlpatterns = [\n",
    "    path(\"admin/\", admin.site.urls),\n",
    "    path(\"\", home),\n",
    "]"
   ]
  },
  {
   "cell_type": "markdown",
   "id": "94cd20f7-5e42-4441-83ad-f8c4018f20dd",
   "metadata": {},
   "source": [
    "### src/config/settings.py"
   ]
  },
  {
   "cell_type": "code",
   "execution_count": null,
   "id": "2fe5df95-2f3a-4c5a-a7fe-2c16a28e6d09",
   "metadata": {},
   "outputs": [],
   "source": [
    "# Application definitions\n",
    "INSTALLED_APPS = [\n",
    "    \"pages.apps.PagesConfig\",\n",
    "    \"products.apps.ProductsConfig\",\n",
    "    \"ecommerce.apps.EcommerceConfig\",\n",
    "    \"base.apps.BaseConfig\", \n",
    "    \"forms_test.apps.FormsTestConfig\",\n",
    "    \"forms_test_recap.apps.FormsTestRecapConfig\", # <-------\n",
    "    \"django.contrib.admin\",\n",
    "    \"django.contrib.auth\",\n",
    "    \"django.contrib.contenttypes\",\n",
    "    \"django.contrib.sessions\",\n",
    "    \"django.contrib.messages\",\n",
    "    \"django.contrib.staticfiles\",\n",
    "]"
   ]
  },
  {
   "cell_type": "markdown",
   "id": "ee32fbf7-9ed1-47c7-a59b-ad3241814b7b",
   "metadata": {},
   "source": [
    "## Validación en campos de un Form"
   ]
  },
  {
   "cell_type": "markdown",
   "id": "038ec00b-c857-45cf-8bb1-f417017a15a8",
   "metadata": {},
   "source": [
    "### src/forms_test_recap/forms.py"
   ]
  },
  {
   "cell_type": "code",
   "execution_count": null,
   "id": "ea92aa0d-232a-45f6-8c17-ba9118535689",
   "metadata": {},
   "outputs": [],
   "source": [
    "from django import forms\n",
    "\n",
    "class RecapForm(forms.Form):\n",
    "    text_input = forms.CharField(max_length=255)\n",
    "    bool_input = forms.BooleanField(required=False)\n",
    "    int_input = forms.IntegerField(min_value=0,max_value=99)\n",
    "    email_input = forms.EmailField()"
   ]
  },
  {
   "cell_type": "markdown",
   "id": "eada04e3-90cf-4dab-9393-45b2906f8867",
   "metadata": {},
   "source": [
    "### src/forms_test_recap/views.py"
   ]
  },
  {
   "cell_type": "code",
   "execution_count": null,
   "id": "4ef2fe68-50e0-4a59-bcf2-f9034bf3855e",
   "metadata": {},
   "outputs": [],
   "source": [
    "from django.shortcuts import render\n",
    "\n",
    "from .forms import RecapForm\n",
    "\n",
    "def home(request):\n",
    "    form = RecapForm()\n",
    "    return render(request, \"forms.html\", {\"form\": form}"
   ]
  },
  {
   "cell_type": "markdown",
   "id": "4df15491-43b0-4ed6-9fc2-36cf69e34b82",
   "metadata": {},
   "source": [
    "## Obtener data de un Django form"
   ]
  },
  {
   "cell_type": "markdown",
   "id": "5b036891-d65b-4349-b4d6-f6078c42420b",
   "metadata": {},
   "source": [
    "### src/forms_test_recap/views.py"
   ]
  },
  {
   "cell_type": "code",
   "execution_count": null,
   "id": "a363939d-bc69-48b4-9769-7a3282cefaba",
   "metadata": {},
   "outputs": [],
   "source": [
    "from django.shortcuts import render\n",
    "\n",
    "from .forms import RecapForm\n",
    "\n",
    "def home(request):\n",
    "    form = RecapForm(request.POST or None)\n",
    "    if form.is_valid():\n",
    "        print(form.data)\n",
    "    return render(request, \"forms.html\", {\"form\": form})"
   ]
  },
  {
   "cell_type": "markdown",
   "id": "ea9d6248-7e47-41ac-bd65-c881adda0bfe",
   "metadata": {},
   "source": [
    "### Validaciones básicas en un Form"
   ]
  },
  {
   "cell_type": "markdown",
   "id": "9d1cefaa-df44-4660-b5b6-61841f098c6c",
   "metadata": {},
   "source": [
    "### src/forms_test_recap/forms.py"
   ]
  },
  {
   "cell_type": "code",
   "execution_count": null,
   "id": "c7bf4de8-442e-4bf7-aeff-7fea7a4c7ac9",
   "metadata": {},
   "outputs": [],
   "source": [
    "from django import forms\n",
    "\n",
    "class RecapForm(forms.Form):\n",
    "    text_input = forms.CharField(max_length=255)\n",
    "    bool_input = forms.BooleanField(required=False)\n",
    "    int_input = forms.IntegerField(min_value=0,max_value=99)\n",
    "    email_input = forms.EmailField()\n",
    "\n",
    "    def clean_text(self, *args, **kwargs):\n",
    "        raw_text = self.cleaned_data.get(\"text_input\")\n",
    "        if len(raw_text) < 10:\n",
    "            raise forms.ValidateError(\"Text must be at least 10 characters long\")\n",
    "        return text_input\n",
    "\n",
    "    def clean_int(self, *args, **kwargs):\n",
    "        raw_int = self.cleaned_data.get(\"int_input\")\n",
    "        if raw_int < 18:\n",
    "            raise forms.ValidateError(\"Value must be at least 18\")\n",
    "        return int_input"
   ]
  },
  {
   "cell_type": "markdown",
   "id": "bdecf0c0-28ae-4d48-8861-5cc10d7456aa",
   "metadata": {},
   "source": [
    "## Data inicial en un Form"
   ]
  },
  {
   "cell_type": "code",
   "execution_count": null,
   "id": "293c47dc-0c66-4eba-9d21-f4bd6ba4d95e",
   "metadata": {},
   "outputs": [],
   "source": [
    "from django.shortcuts import render\n",
    "\n",
    "from .forms import RecapForm\n",
    "\n",
    "def home(request):\n",
    "    initial_data = {\n",
    "        \"text_input\": \"initial\",\n",
    "        \"bool_input\": True,\n",
    "        \"int_input\": 18,\n",
    "        \"email_input\": \"email@email.com\",\n",
    "    }\n",
    "    form = RecapForm(request.POST or None, initial=initial_data)\n",
    "    if form.is_valid():\n",
    "        print(form.data)\n",
    "    return render(request, \"forms.html\", {\"form\": form})"
   ]
  },
  {
   "cell_type": "markdown",
   "id": "1a20e181-2083-4cc2-bc71-4640438a9105",
   "metadata": {},
   "source": [
    "### src/forms_test_recap/forms.py"
   ]
  },
  {
   "cell_type": "code",
   "execution_count": null,
   "id": "619d2f86-0353-4464-bde0-be23cc150c18",
   "metadata": {},
   "outputs": [],
   "source": [
    "from django import forms\n",
    "\n",
    "class RecapForm(forms.Form):\n",
    "    text_input = forms.CharField(initial=\"no sobreescrito\")\n",
    "    bool_input = forms.BooleanField(required=False, initial=False)\n",
    "    int_input = forms.IntegerField(initial=99)\n",
    "    email_input = forms.EmailField(initial=\"sobre@escrito.com\")\n",
    "\n",
    "    def clean_text_input(self):\n",
    "        raw_text = self.cleaned_data.get(\"text_input\")\n",
    "        if len(raw_text) < 10:\n",
    "            print(raw_text)\n",
    "            raise forms.ValidationError(\"Text must be at least 10 characters long\")\n",
    "        return raw_text\n",
    "\n",
    "    def clean_int_input(self):\n",
    "        raw_int = self.cleaned_data.get(\"int_input\")\n",
    "        if raw_int < 18:\n",
    "            raise forms.ValidationError(\"Value must be at least 18\")\n",
    "        return raw_int"
   ]
  },
  {
   "cell_type": "markdown",
   "id": "f1d530ba-f88e-45dc-8bcd-e12f26447777",
   "metadata": {},
   "source": [
    "## Etiqueta y Widgets de Forms"
   ]
  },
  {
   "cell_type": "code",
   "execution_count": null,
   "id": "93b2eda4-30ff-4a13-b55d-471094c36caf",
   "metadata": {},
   "outputs": [],
   "source": [
    "### src/forms_test_recap/forms.py"
   ]
  },
  {
   "cell_type": "code",
   "execution_count": null,
   "id": "a0400615-b36d-4367-ab06-2414b0c45bc1",
   "metadata": {},
   "outputs": [],
   "source": [
    "from django import forms\n",
    "\n",
    "YEARS = [x for x in range(1950, 2030)]\n",
    "\n",
    "OPTIONS = [\n",
    "    (\"oA\", \"Opción A\"),\n",
    "    (\"oB\", \"Opción B\"),\n",
    "    (\"oC\", \"Opción C\"),\n",
    "]\n",
    "\n",
    "class RecapForm(forms.Form):\n",
    "    date_input = forms.DateField(widget=forms.SelectDateWidget(years=YEARS))\n",
    "    text_input = forms.CharField(\n",
    "        initial=\"no sobreescrito\",\n",
    "        label=\"Descripción del producto\",\n",
    "        widget=forms.Textarea(attrs={\"rows\": 3, \"cols\": 42})\n",
    "    )\n",
    "    bool_input = forms.BooleanField(required=False, initial=False)\n",
    "    int_input = forms.IntegerField(initial=99)\n",
    "    email_input = forms.EmailField(initial=\"sobre@escrito.com\")\n",
    "    select_input = forms.CharField(label=\"Selecciona una opción\", widget=forms.Select(choices=OPTIONS))\n",
    "    radio_input = forms.CharField(label=\"Pick one!\", widget=forms.RadioSelect(choices=OPTIONS))\n",
    "    checkbox_input = forms.CharField(label=\"Cuáles aplican\", widget=forms.CheckboxSelectMultiple(choices=OPTIONS))\n",
    "\n",
    "    def clean_text_input(self):\n",
    "        raw_text = self.cleaned_data.get(\"text_input\")\n",
    "        if len(raw_text) < 30:\n",
    "            print(raw_text)\n",
    "            raise forms.ValidationError(\"Text must be at least 30 characters long\")\n",
    "        return raw_text\n",
    "\n",
    "    def clean_int_input(self):\n",
    "        raw_int = self.cleaned_data.get(\"int_input\")\n",
    "        if raw_int < 18:\n",
    "            raise forms.ValidationError(\"Value must be at least 18\")\n",
    "        return raw_int"
   ]
  },
  {
   "cell_type": "markdown",
   "id": "d09ab389-077c-422d-b0e4-5201d7e275d0",
   "metadata": {},
   "source": [
    "## Model Form"
   ]
  },
  {
   "cell_type": "markdown",
   "id": "ecfddeb9-b6fb-4b75-84af-cf423d9ab800",
   "metadata": {},
   "source": [
    "### src/forms_test_recap/forms.py"
   ]
  },
  {
   "cell_type": "code",
   "execution_count": null,
   "id": "e4be3116-f446-4ff5-a57f-e8b1ec9ead98",
   "metadata": {},
   "outputs": [],
   "source": [
    "from .models import Product\n",
    "\n",
    "...\n",
    "\n",
    "class ProductModelForm(forms.ModelForm):\n",
    "    class Meta:\n",
    "        model = Product\n",
    "        fields =  [\n",
    "            \"title\",\n",
    "            \"slug\",\n",
    "            \"price\",\n",
    "        ]\n",
    "        exclude = []"
   ]
  },
  {
   "cell_type": "markdown",
   "id": "47b373c2-99d2-4e1b-baed-f8694c770bf1",
   "metadata": {},
   "source": [
    "### src/forms_test_recap/models.py"
   ]
  },
  {
   "cell_type": "code",
   "execution_count": null,
   "id": "2c7d6a64-e079-4edc-ba9d-bbbbc59cf434",
   "metadata": {},
   "outputs": [],
   "source": [
    "from django.conf import settings\n",
    "from django.db import models\n",
    "\n",
    "class Product(models.Model):\n",
    "    title = models.CharField(max_length=120)\n",
    "    slug = models.SlugField(unique=True)\n",
    "    price = models.FloatField()"
   ]
  },
  {
   "cell_type": "code",
   "execution_count": null,
   "id": "9a78c5a8-f4b0-4a27-a79c-8e3693a84158",
   "metadata": {},
   "outputs": [],
   "source": [
    "python manage.py makemigrations\n",
    "python manage.py migrate"
   ]
  },
  {
   "cell_type": "markdown",
   "id": "b00e0fce-2446-4587-a349-859429ce0906",
   "metadata": {},
   "source": [
    "### src/forms_test_recap/admin.py"
   ]
  },
  {
   "cell_type": "code",
   "execution_count": null,
   "id": "ffa4a179-a0c2-4826-9050-04a2393ae595",
   "metadata": {},
   "outputs": [],
   "source": [
    "...\n",
    "\n",
    "from .models import RecapProduct\n",
    "\n",
    "admin.site.register(RecapProduct)"
   ]
  },
  {
   "cell_type": "markdown",
   "id": "a49d77cf-ebd9-4c16-a452-3142df0bd179",
   "metadata": {},
   "source": [
    "### src/forms_test_recap/views.py\n",
    "- actulizar initial_data\n",
    "- invocar form.save"
   ]
  },
  {
   "cell_type": "code",
   "execution_count": null,
   "id": "e57acf69-32e9-42f0-a734-f1952acb9b81",
   "metadata": {},
   "outputs": [],
   "source": [
    "from django.shortcuts import render\n",
    "\n",
    "from .forms import RecapModelForm\n",
    "\n",
    "def home(request):\n",
    "    initial_data = {\n",
    "        \"title\": \"Product's title\",\n",
    "        \"slug\": \"this-is-a-slug\",\n",
    "        \"price\": \"9.99\",\n",
    "    }\n",
    "    form = RecapModelForm(request.POST or None, initial=initial_data)\n",
    "    if form.is_valid():\n",
    "        form.save()\n",
    "    return render(request, \"forms.html\", {\"form\": form})"
   ]
  },
  {
   "cell_type": "markdown",
   "id": "8a3fe6c6-3f88-4726-83b1-66182f7372d1",
   "metadata": {},
   "source": [
    "## Mensajes de error personalizados"
   ]
  },
  {
   "cell_type": "markdown",
   "id": "844d2fb8-e77e-4a1b-ad78-2fd5c28f7911",
   "metadata": {},
   "source": [
    "### src/forms_test_recap/urls.py"
   ]
  },
  {
   "cell_type": "code",
   "execution_count": null,
   "id": "29cc89b0-e969-4722-9b01-fb05636ac374",
   "metadata": {},
   "outputs": [],
   "source": [
    "path(\""
   ]
  },
  {
   "cell_type": "markdown",
   "id": "61590150-30a9-475c-8973-abcd74878c3d",
   "metadata": {},
   "source": [
    "## src/forms_test_recap/forms.py"
   ]
  },
  {
   "cell_type": "code",
   "execution_count": null,
   "id": "6bb56064-4219-4ef9-b858-3caff8a4019b",
   "metadata": {},
   "outputs": [],
   "source": [
    "from django import forms\n",
    "\n",
    "from .models import RecapProduct\n",
    "\n",
    "class RecapProductModelForm(forms.ModelForm):\n",
    "    class Meta:\n",
    "        model = RecapProduct\n",
    "        fields = [\n",
    "            \"title\",\n",
    "            \"slug\",\n",
    "            \"price\",\n",
    "        ]\n",
    "        labels = {\n",
    "            \"title\": \"Etiqueta Título\",\n",
    "            \"slug\": \"Etiqueta Slug\",\n",
    "            \"price\": \"Etiqueta Price\",\n",
    "        }\n",
    "        exclude = []\n",
    "        \n",
    "    def clean_title(self):\n",
    "        cleaned_title = self.cleaned_data.get(\"title\")\n",
    "        if len(cleaned_title) < 3:\n",
    "            raise forms.ValidationError(\"Title is too short.\")\n",
    "        return cleaned_title\n",
    "    \n",
    "    def clean_slug(self):\n",
    "        cleaned_slug = self.cleaned_data.get(\"slug\")\n",
    "        if len(cleaned_slug) < 3:\n",
    "            raise forms.ValidationError(\"Slug is too short.\")\n",
    "        if (\"recap\" not in cleaned_slug):\n",
    "            raise forms.ValidationError(\"Slug must contain 'recap'.\")\n",
    "        return cleaned_slug"
   ]
  },
  {
   "cell_type": "markdown",
   "id": "7c397457-dee0-4494-b926-6a2d8bf54468",
   "metadata": {},
   "source": [
    "## Django Formsets"
   ]
  },
  {
   "cell_type": "markdown",
   "id": "9d1d9003-e864-4df2-a0b8-7132025d4a5f",
   "metadata": {},
   "source": [
    "### src/templates/base.html"
   ]
  },
  {
   "cell_type": "code",
   "execution_count": null,
   "id": "d6c22b55-443b-4b01-b352-f0503b162ebb",
   "metadata": {},
   "outputs": [],
   "source": [
    "<body>\n",
    "    <div class=\"container\">\n",
    "\n",
    "        {% block content %}\n",
    "        {% endblock %}\n",
    "\n",
    "    </div>\n",
    "</body>"
   ]
  },
  {
   "cell_type": "markdown",
   "id": "1604a704-02f2-412e-be08-3064f4850e73",
   "metadata": {},
   "source": [
    "### src/templates/formset_view.html"
   ]
  },
  {
   "cell_type": "code",
   "execution_count": null,
   "id": "127b31d0-3377-4fd4-9437-a7de75f1b529",
   "metadata": {},
   "outputs": [],
   "source": [
    "{% extends \"base.html\" %}\n",
    "\n",
    "{% block content %}\n",
    "\n",
    "<h1>Formset View</h1>\n",
    "\n",
    "<form action=\"\" method=\"POST\">\n",
    "    {% csrf_token %}\n",
    "\n",
    "    {{ formset.management_form }}\n",
    "    {% for form in formset %}\n",
    "        <div>\n",
    "            {{ form.as_p }}\n",
    "            <br/>\n",
    "        </div>\n",
    "    {% endfor %}\n",
    "\n",
    "    <input type=\"submit\" value=\"Guardar\">\n",
    "</form>\n",
    "\n",
    "{% endblock %}"
   ]
  },
  {
   "cell_type": "markdown",
   "id": "850dfd97-8b73-463f-8dd4-36980feb83c9",
   "metadata": {},
   "source": [
    "### src/forms_test_recap/views.py"
   ]
  },
  {
   "cell_type": "code",
   "execution_count": null,
   "id": "6d8c4a90-e262-42d1-aa89-16bf2b509162",
   "metadata": {},
   "outputs": [],
   "source": [
    "from django.forms import formset_factory, modelformset_factory\n",
    "from django.shortcuts import render\n",
    "\n",
    "from .forms import RecapForm, RecapProductModelForm\n",
    "\n",
    "def create_recap_product(request):\n",
    "    RecapFormSet = formset_factory(RecapForm, extra=3)\n",
    "    formset = RecapFormSet(request.POST or None)\n",
    "    for form in formset:\n",
    "        print(form.data)\n",
    "    context = {\n",
    "        \"formset\": formset\n",
    "    }\n",
    "    return render(request, \"formset_view.html\", context)\n"
   ]
  },
  {
   "cell_type": "markdown",
   "id": "c8f664b8-bfe7-49f4-b05c-fa1a08667f02",
   "metadata": {},
   "source": [
    "## Django ModelFormsets"
   ]
  },
  {
   "cell_type": "code",
   "execution_count": null,
   "id": "2457f636-ead0-48e9-b1e5-34772a134b61",
   "metadata": {},
   "outputs": [],
   "source": [
    "from django.forms import formset_factory, modelformset_factory\n",
    "from django.shortcuts import render\n",
    "\n",
    "from .forms import RecapForm, RecapProductModelForm\n",
    "from .models import RecapProduct\n",
    "\n",
    "def create_recap_product(request):\n",
    "    RecapModelFormSet = modelformset_factory(RecapProduct, form=RecapProductModelForm)\n",
    "    formset = RecapModelFormSet(request.POST or None, queryset=RecapProduct.objects.all())\n",
    "    \n",
    "    print(\"formset.data\")\n",
    "    print(formset.data)\n",
    "\n",
    "    print(\"formset.errors\")\n",
    "    print(formset.errors)\n",
    "    \n",
    "    if formset.is_valid():\n",
    "        print(\"ModelFormset es válido\")\n",
    "        formset.save()\n",
    "    context = {\n",
    "        \"formset\": formset\n",
    "    }\n",
    "    return render(request, \"formset_view.html\", context)"
   ]
  },
  {
   "cell_type": "markdown",
   "id": "235b499b-6ca6-4853-b720-76597560e853",
   "metadata": {},
   "source": [
    "# Actividad de módulo"
   ]
  },
  {
   "cell_type": "markdown",
   "id": "045b823f-4f36-4d50-a043-a6f9612dcff7",
   "metadata": {},
   "source": [
    "### src/forms_test_recap/models.py"
   ]
  },
  {
   "cell_type": "code",
   "execution_count": null,
   "id": "4f88efd9-88de-4f08-8174-341e7407fc88",
   "metadata": {},
   "outputs": [],
   "source": [
    "from django.db import models\n",
    "\n",
    "class RecapProduct(models.Model):\n",
    "    title = models.CharField(max_length=255)\n",
    "    slug = models.SlugField(max_length=255, unique=True)\n",
    "    price = models.DecimalField(max_digits=10, decimal_places=2)\n",
    "    \n",
    "class User(models.Model):\n",
    "    username = models.CharField(max_length=150, unique=True)\n",
    "    email = models.EmailField(unique=True)\n",
    "    password = models.CharField(max_length=128)"
   ]
  },
  {
   "cell_type": "code",
   "execution_count": null,
   "id": "9d993269-8f32-409f-8b8b-4856428b8c13",
   "metadata": {},
   "outputs": [],
   "source": []
  },
  {
   "cell_type": "code",
   "execution_count": null,
   "id": "ea604f6d-83d7-4307-be1b-394eed29c0cb",
   "metadata": {},
   "outputs": [],
   "source": []
  },
  {
   "cell_type": "code",
   "execution_count": null,
   "id": "4678aad1-44a0-47df-ab27-853c5a0c665a",
   "metadata": {},
   "outputs": [],
   "source": []
  },
  {
   "cell_type": "code",
   "execution_count": null,
   "id": "6e6004d7-67c2-4337-be3e-08d69c7c6b0b",
   "metadata": {},
   "outputs": [],
   "source": []
  },
  {
   "cell_type": "code",
   "execution_count": null,
   "id": "b6e3d113-32a5-416a-876e-01f38a02be7e",
   "metadata": {},
   "outputs": [],
   "source": []
  },
  {
   "cell_type": "code",
   "execution_count": null,
   "id": "a708ce2e-0755-45bf-be40-30b0f01ee359",
   "metadata": {},
   "outputs": [],
   "source": []
  },
  {
   "cell_type": "code",
   "execution_count": null,
   "id": "45a5a54f-8d6a-44b8-b839-95b2fcd4db21",
   "metadata": {},
   "outputs": [],
   "source": []
  },
  {
   "cell_type": "code",
   "execution_count": null,
   "id": "61ab4c5e-e68d-4894-9d5b-1b9e6dd4bf42",
   "metadata": {},
   "outputs": [],
   "source": []
  },
  {
   "cell_type": "code",
   "execution_count": null,
   "id": "03f7418f-bed1-4d21-bfdd-c1bd69046fb4",
   "metadata": {},
   "outputs": [],
   "source": []
  },
  {
   "cell_type": "code",
   "execution_count": null,
   "id": "b22a62b0-73b9-4e1f-a3fa-2c5047b7ad83",
   "metadata": {},
   "outputs": [],
   "source": []
  }
 ],
 "metadata": {
  "kernelspec": {
   "display_name": "Python [conda env:base] *",
   "language": "python",
   "name": "conda-base-py"
  },
  "language_info": {
   "codemirror_mode": {
    "name": "ipython",
    "version": 3
   },
   "file_extension": ".py",
   "mimetype": "text/x-python",
   "name": "python",
   "nbconvert_exporter": "python",
   "pygments_lexer": "ipython3",
   "version": "3.12.7"
  }
 },
 "nbformat": 4,
 "nbformat_minor": 5
}
