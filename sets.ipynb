{
 "cells": [
  {
   "cell_type": "markdown",
   "id": "a173f8a2-e287-406f-931d-50116dd58da1",
   "metadata": {},
   "source": [
    "# Creación y modificación de sets"
   ]
  },
  {
   "cell_type": "code",
   "execution_count": 32,
   "id": "7a870c37-4ccb-4360-baae-e47708979371",
   "metadata": {},
   "outputs": [
    {
     "name": "stdout",
     "output_type": "stream",
     "text": [
      "set()\n",
      "{'backend'}\n"
     ]
    }
   ],
   "source": [
    "mySet = set()\n",
    "print(mySet)\n",
    "mySet.add(\"backend\")\n",
    "print(mySet)"
   ]
  },
  {
   "cell_type": "code",
   "execution_count": 33,
   "id": "66497ef6-19ce-4fc7-b1c6-0a476a368f4e",
   "metadata": {},
   "outputs": [
    {
     "name": "stdout",
     "output_type": "stream",
     "text": [
      "{'cajero', 1, 3.1416, 'backend', 'valor', 'cajaval'}\n"
     ]
    }
   ],
   "source": [
    "mySet.add(\"cajaval\")\n",
    "mySet.update((\"cajero\", 1, 3.1416, \"valor\"))  # esta sintaxis con la tupla interpreta la string como una lista y añade caracter por caracter\n",
    "print(mySet)"
   ]
  },
  {
   "cell_type": "code",
   "execution_count": 34,
   "id": "ef1edd2b-3d71-4e22-a993-1d303b232a94",
   "metadata": {},
   "outputs": [
    {
     "name": "stdout",
     "output_type": "stream",
     "text": [
      "{'cajero', 1, 3.1416}\n"
     ]
    }
   ],
   "source": [
    "newSet = set()\n",
    "# mySet.update((\"cajero\", 1, 3.1416)) esta sintaxis con la tupla interpreta la string como una lista y añade caracter por caracter\n",
    "newSet.update([\"cajero\", 1, 3.1416])\n",
    "print(newSet)"
   ]
  },
  {
   "cell_type": "markdown",
   "id": "8530e094-ee2b-4384-a8f5-7ae9d4a82091",
   "metadata": {},
   "source": [
    "## add()"
   ]
  },
  {
   "cell_type": "code",
   "execution_count": 6,
   "id": "13a16611-126f-423b-abc6-b6192ffb3b39",
   "metadata": {},
   "outputs": [
    {
     "name": "stdout",
     "output_type": "stream",
     "text": [
      "{'hola', 'hello', 'bye', 'adiós'}\n",
      "{1, 3.14, 'hello', 'bye'}\n"
     ]
    }
   ],
   "source": [
    "mySet = {\"hola\", \"adiós\", \"hello\"}\n",
    "newSet = {1, 3.14, \"hello\"}\n",
    "newSet.add(\"bye\")\n",
    "mySet.add(\"bye\")\n",
    "print(mySet)\n",
    "print(newSet)"
   ]
  },
  {
   "cell_type": "markdown",
   "id": "01918937-ba9f-4e5b-b60f-f8f9f9a3991e",
   "metadata": {},
   "source": [
    "## clear()"
   ]
  },
  {
   "cell_type": "code",
   "execution_count": 8,
   "id": "37c13f83-f116-45e3-adf6-3eeae1a64ac5",
   "metadata": {},
   "outputs": [
    {
     "name": "stdout",
     "output_type": "stream",
     "text": [
      "0\n",
      "set()\n"
     ]
    }
   ],
   "source": [
    "mySet.clear()\n",
    "print(len(mySet))\n",
    "print(mySet)"
   ]
  },
  {
   "cell_type": "markdown",
   "id": "52a458c0-833f-47c0-b825-535fb1e3f34c",
   "metadata": {},
   "source": [
    "## copy()"
   ]
  },
  {
   "cell_type": "code",
   "execution_count": 9,
   "id": "07a0266b-a8c9-41e4-b798-9e43094aa927",
   "metadata": {},
   "outputs": [
    {
     "name": "stdout",
     "output_type": "stream",
     "text": [
      "set()\n",
      "{'hola', 'hello', 'adiós'}\n"
     ]
    }
   ],
   "source": [
    "mySet = {\"hola\", \"hello\", \"adiós\"}\n",
    "myCopy = mySet.copy()\n",
    "mySet.clear()\n",
    "print(mySet)\n",
    "print(myCopy)\n"
   ]
  },
  {
   "cell_type": "markdown",
   "id": "fbdba972-a0f7-43ec-ab91-d8e32edbc308",
   "metadata": {},
   "source": [
    "## difference()"
   ]
  },
  {
   "cell_type": "code",
   "execution_count": 11,
   "id": "d51b2539-ed4a-4d32-a054-78bea46a64dd",
   "metadata": {},
   "outputs": [
    {
     "name": "stdout",
     "output_type": "stream",
     "text": [
      "{2, 4}\n",
      "{9, 7}\n"
     ]
    }
   ],
   "source": [
    "setOne = {2,4,6,8,10}\n",
    "setTwo = {6,7,8,9,10}\n",
    "print(setOne.difference(setTwo))\n",
    "print(setTwo.difference(setOne))"
   ]
  },
  {
   "cell_type": "markdown",
   "id": "8f703aa4-8f3b-4c7c-9efc-c99fb2cb85d3",
   "metadata": {},
   "source": [
    "## difference_update()\n"
   ]
  },
  {
   "cell_type": "markdown",
   "id": "efa04c82-b945-496e-a5cc-973aa4917a9d",
   "metadata": {},
   "source": [
    "setOne.difference_update(setTwo)\n",
    "print(setOne)\n",
    "setTwo.difference_update(setOne)\n",
    "print(setTwo)"
   ]
  },
  {
   "cell_type": "markdown",
   "id": "6e29b257-419d-4a18-b3e1-cfabaaf3bded",
   "metadata": {},
   "source": [
    "## discard()"
   ]
  },
  {
   "cell_type": "code",
   "execution_count": 13,
   "id": "6071d35e-2d24-4d87-b0ff-7af8fc43b890",
   "metadata": {},
   "outputs": [
    {
     "name": "stdout",
     "output_type": "stream",
     "text": [
      "{2, 4, 27}\n",
      "27\n"
     ]
    }
   ],
   "source": [
    "setOne.add(27)\n",
    "print(setOne)\n",
    "setOne.discard(27)\n",
    "print(27)"
   ]
  },
  {
   "cell_type": "markdown",
   "id": "ce5d1d97-23a7-4084-9a3c-c841cdfa2133",
   "metadata": {},
   "source": [
    "## intersection()"
   ]
  },
  {
   "cell_type": "code",
   "execution_count": 14,
   "id": "d698ebaa-3558-4c63-b7db-a4ca114aefe4",
   "metadata": {},
   "outputs": [
    {
     "name": "stdout",
     "output_type": "stream",
     "text": [
      "{8, 10, 6}\n",
      "{8, 10, 6}\n",
      "{8, 10, 6}\n"
     ]
    }
   ],
   "source": [
    "setOne = {2,4,6,8,10}\n",
    "setTwo = {6,7,8,9,10}\n",
    "print(setOne.intersection(setTwo))\n",
    "setOne.intersection_update(setTwo)\n",
    "print(setOne)\n",
    "setTwo.intersection_update(setOne)\n",
    "print(setTwo)"
   ]
  },
  {
   "cell_type": "markdown",
   "id": "902743bb-05dd-43b9-a3ee-b0d8fec6a3ad",
   "metadata": {},
   "source": [
    "## isdisjoint()"
   ]
  },
  {
   "cell_type": "code",
   "execution_count": 16,
   "id": "50c55424-5d5d-4bdc-a0dc-ee4fb3b8fbf2",
   "metadata": {},
   "outputs": [
    {
     "name": "stdout",
     "output_type": "stream",
     "text": [
      "False\n",
      "True\n"
     ]
    }
   ],
   "source": [
    "setOne = {2,4,6,8,10}\n",
    "setTwo = {6,7,8,9,10}\n",
    "setThree = {100,200,300,400,500}\n",
    "print(setOne.isdisjoint(setTwo))\n",
    "print(setOne.isdisjoint(setThree))"
   ]
  },
  {
   "cell_type": "code",
   "execution_count": 17,
   "id": "42d57d83-b2cc-4c64-99a7-1bf18e68217d",
   "metadata": {},
   "outputs": [],
   "source": [
    "## issubset()"
   ]
  },
  {
   "cell_type": "code",
   "execution_count": 18,
   "id": "924282a3-c80e-40d2-92b2-88db3e644db9",
   "metadata": {},
   "outputs": [
    {
     "name": "stdout",
     "output_type": "stream",
     "text": [
      "False\n",
      "False\n"
     ]
    }
   ],
   "source": [
    "setOne = {2,4,6,8,10}\n",
    "setTwo = {6,7,8,9,10}\n",
    "setThree = {100,200,300,400,500}\n",
    "print(setTwo.issubset(setOne))\n",
    "print(setThree.issubset(setOne))"
   ]
  },
  {
   "cell_type": "markdown",
   "id": "f9dc37e9-0869-460d-842d-f99baeaf969b",
   "metadata": {},
   "source": [
    "## issuperset() # todo el set debe ser contenido por el primer set\n",
    "## pop() # remueve un elemento del set, comenzando por el primero \n",
    "## remove() # remueve el elemento pasado como parámetro, debe estar presente en el set\n",
    "## union() # junta dos sets\n",
    "## update() # añade a los valores del set original los nuevos parámetros\n",
    "## symmetric_difference # diferencias entre ambos sets\n",
    "## symmetric_difference_update # diferencias entre ambos sets y asigna valores al set llamado"
   ]
  },
  {
   "cell_type": "markdown",
   "id": "4783495a-8837-4874-a68d-152cda876f68",
   "metadata": {},
   "source": [
    "## Conversión de sets"
   ]
  },
  {
   "cell_type": "markdown",
   "id": "382f6a5f-56d5-4e4e-9ecf-63e0bbc45769",
   "metadata": {},
   "source": [
    "### String -> set"
   ]
  },
  {
   "cell_type": "code",
   "execution_count": 27,
   "id": "f49e8ebb-3e5a-46af-a9bb-406f6fbadeee",
   "metadata": {},
   "outputs": [
    {
     "name": "stdout",
     "output_type": "stream",
     "text": [
      "{'t', 'u', 'n', 'd', ' ', 'e', 'a', 's', 'c', 'r'}\n"
     ]
    }
   ],
   "source": [
    "phrase = \"esta es una cadena de caracteres\"\n",
    "converted = set(phrase)\n",
    "print(converted)"
   ]
  },
  {
   "cell_type": "markdown",
   "id": "54ec5070-f827-48b8-912a-3bba24a1e684",
   "metadata": {},
   "source": [
    "### list -> set"
   ]
  },
  {
   "cell_type": "code",
   "execution_count": 22,
   "id": "4ca0775e-2c0b-4ddf-8e1b-6004c4dac664",
   "metadata": {},
   "outputs": [
    {
     "name": "stdout",
     "output_type": "stream",
     "text": [
      "{'esta', 'una', 'es', 'lista'}\n"
     ]
    }
   ],
   "source": [
    "myList = [\"esta\", \"es\", \"una\", \"lista\"]\n",
    "converted = set(myList)\n",
    "print(converted)"
   ]
  },
  {
   "cell_type": "markdown",
   "id": "e7c61bc1-82d9-48aa-bc92-4efb0ed1998c",
   "metadata": {},
   "source": [
    "### tuple -> set"
   ]
  },
  {
   "cell_type": "code",
   "execution_count": 28,
   "id": "ffa81b10-21cc-479e-a22e-1e9c923667e4",
   "metadata": {},
   "outputs": [
    {
     "name": "stdout",
     "output_type": "stream",
     "text": [
      "{0, 1, 2, 3, 4, 5, 6, 7, 8, 9}\n"
     ]
    }
   ],
   "source": [
    "myTuple = 1,2,1,2,1,2,3,4,5,6,7,8,9,0,0,0\n",
    "converted = set(myTuple)\n",
    "print(converted)"
   ]
  },
  {
   "cell_type": "markdown",
   "id": "cba951d6-b9c9-4a40-a88e-463980a95e26",
   "metadata": {},
   "source": [
    "### set -> string"
   ]
  },
  {
   "cell_type": "code",
   "execution_count": 29,
   "id": "e577925b-1f05-4e46-aa39-146619d8816c",
   "metadata": {},
   "outputs": [
    {
     "name": "stdout",
     "output_type": "stream",
     "text": [
      "upacl\n"
     ]
    }
   ],
   "source": [
    "mySet = {\"a\", \"c\", \"l\", \"p\",\"u\"}\n",
    "converted = \"\".join(mySet)\n",
    "print(converted)"
   ]
  },
  {
   "cell_type": "markdown",
   "id": "6701044c-6da3-474a-a13a-346471095b26",
   "metadata": {},
   "source": [
    "### set -> list"
   ]
  },
  {
   "cell_type": "code",
   "execution_count": 31,
   "id": "10d645c1-eca2-48a2-80f8-47afba2e2ded",
   "metadata": {},
   "outputs": [
    {
     "name": "stdout",
     "output_type": "stream",
     "text": [
      "[1, 2, 44467, 6, 7, 22, 111]\n"
     ]
    }
   ],
   "source": [
    "mySet = {1,6,2,7,111,22,44467}\n",
    "converted = list(mySet)\n",
    "print(converted)"
   ]
  },
  {
   "cell_type": "markdown",
   "id": "00ae3d07-d9b8-442d-8e03-b336cbbf7d90",
   "metadata": {},
   "source": [
    "### set -> tuple"
   ]
  },
  {
   "cell_type": "code",
   "execution_count": 32,
   "id": "390c50fc-eaf0-4664-9ed4-25992def44d8",
   "metadata": {},
   "outputs": [
    {
     "name": "stdout",
     "output_type": "stream",
     "text": [
      "('hola', 'cena', 'casa', 'avión', 'comida')\n"
     ]
    }
   ],
   "source": [
    "mySet = {\"hola\", \"casa\", \"comida\", \"cena\", \"avión\"}\n",
    "converted = tuple(mySet)\n",
    "print(converted)"
   ]
  },
  {
   "cell_type": "code",
   "execution_count": null,
   "id": "64cb4945-6ac3-46a0-bea7-bf3793b2e514",
   "metadata": {},
   "outputs": [],
   "source": []
  }
 ],
 "metadata": {
  "kernelspec": {
   "display_name": "Python 3 (ipykernel)",
   "language": "python",
   "name": "python3"
  },
  "language_info": {
   "codemirror_mode": {
    "name": "ipython",
    "version": 3
   },
   "file_extension": ".py",
   "mimetype": "text/x-python",
   "name": "python",
   "nbconvert_exporter": "python",
   "pygments_lexer": "ipython3",
   "version": "3.12.7"
  }
 },
 "nbformat": 4,
 "nbformat_minor": 5
}
