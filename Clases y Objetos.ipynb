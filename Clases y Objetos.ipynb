{
 "cells": [
  {
   "cell_type": "markdown",
   "id": "f18d1676-5cda-4ee1-b464-323a32767f6a",
   "metadata": {},
   "source": [
    "# Introducción"
   ]
  },
  {
   "cell_type": "markdown",
   "id": "99183eb8-ec34-4fc3-b3d5-67937b190e35",
   "metadata": {},
   "source": [
    "Las clases son fábricas o moldes que sirven para crear objetos de un tipo específico"
   ]
  },
  {
   "cell_type": "code",
   "execution_count": 3,
   "id": "d980e504-751b-436c-abe0-3f5da02061be",
   "metadata": {},
   "outputs": [],
   "source": [
    "class Car:\n",
    "    make = \"BMW\"\n",
    "    model = \"BMW BWM\"\n",
    "    year = \"2025\"\n",
    "\n",
    "    def turn_on():\n",
    "        pass\n",
    "    def turn_off():\n",
    "        pass"
   ]
  },
  {
   "cell_type": "markdown",
   "id": "f6835f12-88f9-410e-9e84-d44986324d09",
   "metadata": {},
   "source": [
    "### Ahora que tenemos definidos los atributos y funciones con los que se van a generar de \"fábrica\" los objetos, podemos crearlos:"
   ]
  },
  {
   "cell_type": "code",
   "execution_count": 4,
   "id": "b3994c64-6d47-4664-978c-282a4d2cb5f1",
   "metadata": {},
   "outputs": [
    {
     "data": {
      "text/plain": [
       "['__class__',\n",
       " '__delattr__',\n",
       " '__dict__',\n",
       " '__dir__',\n",
       " '__doc__',\n",
       " '__eq__',\n",
       " '__format__',\n",
       " '__ge__',\n",
       " '__getattribute__',\n",
       " '__getstate__',\n",
       " '__gt__',\n",
       " '__hash__',\n",
       " '__init__',\n",
       " '__init_subclass__',\n",
       " '__le__',\n",
       " '__lt__',\n",
       " '__module__',\n",
       " '__ne__',\n",
       " '__new__',\n",
       " '__reduce__',\n",
       " '__reduce_ex__',\n",
       " '__repr__',\n",
       " '__setattr__',\n",
       " '__sizeof__',\n",
       " '__str__',\n",
       " '__subclasshook__',\n",
       " '__weakref__',\n",
       " 'make',\n",
       " 'model',\n",
       " 'turn_off',\n",
       " 'turn_on',\n",
       " 'year']"
      ]
     },
     "execution_count": 4,
     "metadata": {},
     "output_type": "execute_result"
    }
   ],
   "source": [
    "carOne = Car()\n",
    "carTwo = Car()\n",
    "carThree = Car()\n",
    "\n",
    "dir(carOne)"
   ]
  },
  {
   "cell_type": "markdown",
   "id": "23fd8e80-2732-421e-873b-044ce8782dfd",
   "metadata": {},
   "source": [
    "## Ejemplos de clases"
   ]
  },
  {
   "cell_type": "code",
   "execution_count": 7,
   "id": "d0ccae0b-a8e7-445e-b73e-7763a9583e82",
   "metadata": {},
   "outputs": [],
   "source": [
    "class Car: \n",
    "    def __init__(self, make, model, year): # constructor\n",
    "        self.make = make\n",
    "        self.model = model\n",
    "        self.year = year\n",
    "        print(\"nueva instancia creada\")\n",
    "    def print_att(self):\n",
    "        print(\"Make: \", self.make)\n",
    "        print(\"Model: \", self.model)\n",
    "        print(\"Year: \", self.year)"
   ]
  },
  {
   "cell_type": "code",
   "execution_count": 8,
   "id": "480f4c4a-aebf-402c-9e00-656f7b5a0b0f",
   "metadata": {},
   "outputs": [
    {
     "name": "stdout",
     "output_type": "stream",
     "text": [
      "nueva instancia creada\n",
      "Make:  marca\n",
      "Model:  modelo\n",
      "Year:  año\n"
     ]
    }
   ],
   "source": [
    "newCar = Car(\"marca\", \"modelo\", \"año\")\n",
    "newCar.print_att()"
   ]
  },
  {
   "cell_type": "code",
   "execution_count": 9,
   "id": "eed9dc20-bb57-4a78-b170-c130cd06e5e9",
   "metadata": {},
   "outputs": [
    {
     "data": {
      "text/plain": [
       "['__class__',\n",
       " '__delattr__',\n",
       " '__dict__',\n",
       " '__dir__',\n",
       " '__doc__',\n",
       " '__eq__',\n",
       " '__format__',\n",
       " '__ge__',\n",
       " '__getattribute__',\n",
       " '__getstate__',\n",
       " '__gt__',\n",
       " '__hash__',\n",
       " '__init__',\n",
       " '__init_subclass__',\n",
       " '__le__',\n",
       " '__lt__',\n",
       " '__module__',\n",
       " '__ne__',\n",
       " '__new__',\n",
       " '__reduce__',\n",
       " '__reduce_ex__',\n",
       " '__repr__',\n",
       " '__setattr__',\n",
       " '__sizeof__',\n",
       " '__str__',\n",
       " '__subclasshook__',\n",
       " '__weakref__',\n",
       " 'make',\n",
       " 'model',\n",
       " 'print_att',\n",
       " 'year']"
      ]
     },
     "execution_count": 9,
     "metadata": {},
     "output_type": "execute_result"
    }
   ],
   "source": [
    "dir(newCar)"
   ]
  },
  {
   "cell_type": "code",
   "execution_count": 10,
   "id": "417ec189-de13-4ab7-a294-2849c242599b",
   "metadata": {},
   "outputs": [
    {
     "data": {
      "text/plain": [
       "'marca'"
      ]
     },
     "execution_count": 10,
     "metadata": {},
     "output_type": "execute_result"
    }
   ],
   "source": [
    "newCar.make"
   ]
  },
  {
   "cell_type": "code",
   "execution_count": 11,
   "id": "382c7f5f-7417-4d90-9cea-84a7ada592e4",
   "metadata": {},
   "outputs": [
    {
     "data": {
      "text/plain": [
       "'modelo'"
      ]
     },
     "execution_count": 11,
     "metadata": {},
     "output_type": "execute_result"
    }
   ],
   "source": [
    "newCar.model"
   ]
  },
  {
   "cell_type": "code",
   "execution_count": 12,
   "id": "4ddb4566-9d74-4550-b3c0-2281c4a9bf60",
   "metadata": {},
   "outputs": [
    {
     "data": {
      "text/plain": [
       "'año'"
      ]
     },
     "execution_count": 12,
     "metadata": {},
     "output_type": "execute_result"
    }
   ],
   "source": [
    "newCar.year"
   ]
  },
  {
   "cell_type": "markdown",
   "id": "eb6a53d4-7fec-4806-85f7-f53d02630038",
   "metadata": {},
   "source": [
    "### Variables de clase"
   ]
  },
  {
   "cell_type": "code",
   "execution_count": 14,
   "id": "fd1498e2-bf55-4783-b06b-524f7d2b8ce3",
   "metadata": {},
   "outputs": [],
   "source": [
    "class Car:\n",
    "    opus = 0\n",
    "    def __init__(self, make, model, year):\n",
    "        Car.opus += 1\n",
    "        self.make = make\n",
    "        self.model = model\n",
    "        self.yaer = year\n",
    "    def print_att():\n",
    "        print(\"Marca: \", self.make)\n",
    "        print(\"Modelo: \", self.model)\n",
    "        print(\"Año: \", self.year)"
   ]
  },
  {
   "cell_type": "code",
   "execution_count": 15,
   "id": "0106e525-beb2-4b90-bae4-e2b8b0d2c988",
   "metadata": {},
   "outputs": [],
   "source": [
    "newCar = Car(\"1\",\"1\",\"1\")\n",
    "newCarTwo = Car(\"2\",\"2\",\"2\")"
   ]
  },
  {
   "cell_type": "code",
   "execution_count": 16,
   "id": "fe978a75-ab1d-41a8-ab4a-94e37e998e41",
   "metadata": {},
   "outputs": [
    {
     "name": "stdout",
     "output_type": "stream",
     "text": [
      "Hay:  2 unidades\n"
     ]
    }
   ],
   "source": [
    "print(\"Hay: \", Car.opus, \"unidades\")"
   ]
  },
  {
   "cell_type": "code",
   "execution_count": 17,
   "id": "01c1e9dc-8464-43b5-97fc-b585c3882a13",
   "metadata": {},
   "outputs": [],
   "source": [
    "threeCar = Car(\"3\",\"3\",\"3\")\n",
    "fourCar = Car(\"4\",\"4\",\"4\")"
   ]
  },
  {
   "cell_type": "code",
   "execution_count": 18,
   "id": "2930b92a-52be-47d6-a0f6-f99de1aa06b2",
   "metadata": {},
   "outputs": [
    {
     "name": "stdout",
     "output_type": "stream",
     "text": [
      "Hay:  4 unidades\n"
     ]
    }
   ],
   "source": [
    "print(\"Hay: \", Car.opus, \"unidades\")"
   ]
  },
  {
   "cell_type": "code",
   "execution_count": 33,
   "id": "bfb5573c-aacb-4f12-9b8f-49c1e6f0215d",
   "metadata": {},
   "outputs": [],
   "source": [
    "class Car:\n",
    "    total = 0\n",
    "    def __init__(self, make, model, year):\n",
    "        Car.total += 1\n",
    "        self.make = make\n",
    "        self.model = model\n",
    "        self.yaer = year\n",
    "        print(\"unidad creada\")\n",
    "\n",
    "    def __del__(self):\n",
    "            Car.total-=1\n",
    "            print(\"unidad destruida\")\n",
    "    \n",
    "    def print_att(self):\n",
    "        print(\"Marca: \", self.make)\n",
    "        print(\"Modelo: \", self.model)\n",
    "        print(\"Año: \", self.year)"
   ]
  },
  {
   "cell_type": "code",
   "execution_count": 36,
   "id": "d7fcc73e-0425-42ec-83f6-1960663cf915",
   "metadata": {},
   "outputs": [
    {
     "name": "stdout",
     "output_type": "stream",
     "text": [
      "unidad creada\n",
      "unidad creada\n",
      "unidad creada\n",
      "unidad creada\n"
     ]
    }
   ],
   "source": [
    "one = Car(\"1\",\"1\",\"1\")\n",
    "two = Car(\"2\",\"2\",\"2\")\n",
    "three = Car(\"3\",\"3\",\"3\")\n",
    "four = Car(\"4\",\"4\",\"4\")"
   ]
  },
  {
   "cell_type": "code",
   "execution_count": 37,
   "id": "c26a027a-3be3-4a62-854c-d9ab636dd26c",
   "metadata": {},
   "outputs": [
    {
     "name": "stdout",
     "output_type": "stream",
     "text": [
      "Hay:  4 unidades\n"
     ]
    }
   ],
   "source": [
    "print(\"Hay: \", Car.total, \"unidades\")"
   ]
  },
  {
   "cell_type": "code",
   "execution_count": 40,
   "id": "5e819221-c53b-4a32-90e3-87d99a244371",
   "metadata": {},
   "outputs": [
    {
     "name": "stdout",
     "output_type": "stream",
     "text": [
      "unidad destruida\n"
     ]
    }
   ],
   "source": [
    "del one"
   ]
  },
  {
   "cell_type": "code",
   "execution_count": 41,
   "id": "b148885b-69bc-48d4-b981-d9ab83f66487",
   "metadata": {},
   "outputs": [
    {
     "name": "stdout",
     "output_type": "stream",
     "text": [
      "Hay:  2 unidades\n"
     ]
    }
   ],
   "source": [
    "print(\"Hay: \", Car.total, \"unidades\")"
   ]
  },
  {
   "cell_type": "markdown",
   "id": "b4437a0e-d6bf-480f-b16e-cefdd4254a61",
   "metadata": {},
   "source": [
    "# Herencia | Súper clases y sub clases"
   ]
  },
  {
   "cell_type": "code",
   "execution_count": 90,
   "id": "e1248bd4-b0ec-4a4b-bc7b-9675d0877a8d",
   "metadata": {},
   "outputs": [],
   "source": [
    "class Car:\n",
    "    carClassAtt = \"for adults\"\n",
    "\n",
    "    def __init__(self, color):\n",
    "        self.color = color\n",
    "    def turn_on(self):\n",
    "        print(\"engine started\")\n",
    "    def display_info(self):\n",
    "        print(\"Color: \", self.color)\n",
    "\n",
    "class ToyCar(Car):\n",
    "    toyClassAtt = \"for kids\"\n",
    "\n",
    "    def __init__(self, color, price):\n",
    "        super().__init__(color)\n",
    "        self.price = price\n",
    "    def display_low_battery(self):\n",
    "        print(\"need to recharge Batteries\")\n",
    "    def display_info(self):\n",
    "        print(\"Color: \",self.color,\" Price: \", self.price)\n",
    "        \n",
    "class ClassicCar(ToyCar):\n",
    "    classicCarAtt = \"for collection\"\n",
    "\n",
    "    def __init__(self, color, price, year):\n",
    "        super().__init__(color,price)\n",
    "        self.year = year\n",
    "    def rawr(self):\n",
    "        print(\"brrruuummm bruuuuummmmmmm\")\n",
    "    def display_info(self):\n",
    "        print(\"Color: \",self.color,\" Price: \",self.price,\" Year: \",self.year)"
   ]
  },
  {
   "cell_type": "code",
   "execution_count": 91,
   "id": "d161a91b-8223-46cd-b134-91f5cc29d4d0",
   "metadata": {},
   "outputs": [],
   "source": [
    "classicMustang = ClassicCar(\"red\", \"60,000\", 1970)"
   ]
  },
  {
   "cell_type": "code",
   "execution_count": 92,
   "id": "7ce49f9c-0149-421a-9c9e-25b6dc8cba8f",
   "metadata": {},
   "outputs": [
    {
     "name": "stdout",
     "output_type": "stream",
     "text": [
      "engine started\n"
     ]
    }
   ],
   "source": [
    "classicMustang.turn_on()"
   ]
  },
  {
   "cell_type": "code",
   "execution_count": 93,
   "id": "e754745b-dceb-418f-93cd-da8e64492f26",
   "metadata": {},
   "outputs": [
    {
     "name": "stdout",
     "output_type": "stream",
     "text": [
      "brrruuummm bruuuuummmmmmm\n"
     ]
    }
   ],
   "source": [
    "classicMustang.rawr()"
   ]
  },
  {
   "cell_type": "code",
   "execution_count": 94,
   "id": "099b108a-00c5-4881-86d3-8507abdc72f1",
   "metadata": {},
   "outputs": [
    {
     "name": "stdout",
     "output_type": "stream",
     "text": [
      "red\n"
     ]
    }
   ],
   "source": [
    "print(classicMustang.color)"
   ]
  },
  {
   "cell_type": "code",
   "execution_count": 95,
   "id": "68025b23-fae5-4590-a301-e32311472c8c",
   "metadata": {},
   "outputs": [
    {
     "name": "stdout",
     "output_type": "stream",
     "text": [
      "Color:  red  Price:  60,000  Year:  1970\n"
     ]
    }
   ],
   "source": [
    "classicMustang.display_info()"
   ]
  },
  {
   "cell_type": "code",
   "execution_count": null,
   "id": "7dc606fa-863d-42a4-84da-2a320b7d278b",
   "metadata": {},
   "outputs": [],
   "source": []
  }
 ],
 "metadata": {
  "kernelspec": {
   "display_name": "Python 3 (ipykernel)",
   "language": "python",
   "name": "python3"
  },
  "language_info": {
   "codemirror_mode": {
    "name": "ipython",
    "version": 3
   },
   "file_extension": ".py",
   "mimetype": "text/x-python",
   "name": "python",
   "nbconvert_exporter": "python",
   "pygments_lexer": "ipython3",
   "version": "3.12.7"
  }
 },
 "nbformat": 4,
 "nbformat_minor": 5
}
