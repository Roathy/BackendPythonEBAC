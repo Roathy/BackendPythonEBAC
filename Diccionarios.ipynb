{
 "cells": [
  {
   "cell_type": "markdown",
   "id": "17864d42-7b35-4cc4-b7d5-7ac46a8b635b",
   "metadata": {},
   "source": [
    "# Creación de Diccionarios"
   ]
  },
  {
   "cell_type": "code",
   "execution_count": 3,
   "id": "7e993d3e-b2b3-4419-8147-d32c019c85a8",
   "metadata": {},
   "outputs": [
    {
     "name": "stdout",
     "output_type": "stream",
     "text": [
      "{1: 'Enero', 2: 'Febrero', 3: 'Marzo', 4: 'Abril', 5: 'Mayo', 6: 'Junio', 7: 'Julio', 8: 'Agosto', 9: 'Septiembre', 10: 'Octubre', 11: 'Noviembre', 12: 'Diciembre'}\n",
      "Enero\n"
     ]
    }
   ],
   "source": [
    "monthsInDictionary = { 1: \"Enero\", 2: \"Febrero\", 3: \"Marzo\", 4: \"Abril\", 5: \"Mayo\", 6: \"Junio\", 7: \"Julio\", 8: \"Agosto\", 9: \"Septiembre\", 10: \"Octubre\", 11: \"Noviembre\", 12: \"Diciembre\"}\n",
    "print(monthsInDictionary)\n",
    "print(monthsInDictionary[1])"
   ]
  },
  {
   "cell_type": "code",
   "execution_count": 4,
   "id": "6c85f79e-bc3b-4eff-912d-117a868b2ba5",
   "metadata": {},
   "outputs": [
    {
     "name": "stdout",
     "output_type": "stream",
     "text": [
      "{'enero': 1, 'febrero': 2}\n"
     ]
    }
   ],
   "source": [
    "works = {\"enero\": 1, \"febrero\": 2}\n",
    "print(works)"
   ]
  },
  {
   "cell_type": "code",
   "execution_count": 8,
   "id": "11684f01-88b1-4bd9-996a-d8e8221b48c3",
   "metadata": {},
   "outputs": [
    {
     "name": "stdout",
     "output_type": "stream",
     "text": [
      "{'enero': 1, 'febrero': 2}\n"
     ]
    }
   ],
   "source": [
    "alsoWorks = dict(enero = 1, febrero = 2)\n",
    "print(alsoWorks)"
   ]
  },
  {
   "cell_type": "markdown",
   "id": "b4564406-d874-46fa-bbdc-088373b9eddc",
   "metadata": {},
   "source": [
    "## Creación pasando una lista de tuplas"
   ]
  },
  {
   "cell_type": "code",
   "execution_count": 11,
   "id": "51b47f0d-9631-423b-9000-dd821b9c1b7e",
   "metadata": {},
   "outputs": [
    {
     "name": "stdout",
     "output_type": "stream",
     "text": [
      "<class 'dict'>\n",
      "{1: 'Enero', 2: '', 3: '', 4: '', 5: '', 6: '', 7: '', 8: '', 9: ''}\n"
     ]
    }
   ],
   "source": [
    "myDixi = dict([(1, \"Enero\"),(2,\"\"),(3,\"\"),(4,\"\"),(5,\"\"),(6,\"\"),(7,\"\"),(8,\"\"),(9,\"\")])\n",
    "print(type(myDixi))\n",
    "print(myDixi)"
   ]
  },
  {
   "cell_type": "code",
   "execution_count": 20,
   "id": "fddedf21-314a-4165-aaae-8e66a4489826",
   "metadata": {},
   "outputs": [
    {
     "name": "stdout",
     "output_type": "stream",
     "text": [
      "{1: 'Enero', 2: 'Febrero', 3: '', 4: '', 5: '', 6: '', 7: '', 8: '', 9: '', 10: ''}\n"
     ]
    }
   ],
   "source": [
    "myDixi.update({2: \"Febrero\", 10: ''})\n",
    "print(myDixi)"
   ]
  },
  {
   "cell_type": "markdown",
   "id": "f1bca487-dbdd-42b9-a92f-065429f57aac",
   "metadata": {},
   "source": [
    "copy() & alias()"
   ]
  },
  {
   "cell_type": "code",
   "execution_count": 1,
   "id": "8547f467-b400-4657-8db8-4467f006f686",
   "metadata": {},
   "outputs": [
    {
     "name": "stdout",
     "output_type": "stream",
     "text": [
      "{'hp': 7999.99, 'mac': 999999.99, 'lenovo': 12999.99, 'asus': 11499.99}\n",
      "{'hp': 7999.99, 'mac': 999999.99, 'lenovo': 12999.99, 'asus': 11499.99}\n",
      "{'hp': 9999.99, 'mac': 999999.99, 'lenovo': 12999.99, 'asus': 11499.99}\n"
     ]
    }
   ],
   "source": [
    "laptops = {\"hp\": 9999.99, \"mac\": 999999.99, \"lenovo\": 12999.99, \"asus\": 11499.99}\n",
    "asigned = laptops;\n",
    "copied = laptops.copy()\n",
    "laptops[\"hp\"] = 7999.99\n",
    "print(laptops)\n",
    "print(asigned)\n",
    "print(copied)"
   ]
  },
  {
   "cell_type": "markdown",
   "id": "1091b2b7-8552-4b32-be86-64fcca2bb894",
   "metadata": {},
   "source": [
    "## Obtención de valores por separados utilizando keys"
   ]
  },
  {
   "cell_type": "markdown",
   "id": "122cee98-678f-44b1-8054-eb2e7e07826f",
   "metadata": {},
   "source": [
    "### keys() values() items()\n",
    "- Acceder a todas las llaves\n",
    "- Acceder a todos los valores\n",
    "- Acceder a todos los elementos (llave/valor)"
   ]
  },
  {
   "cell_type": "code",
   "execution_count": 7,
   "id": "df9057a6-fdcc-4993-843e-7b466c74bf4e",
   "metadata": {},
   "outputs": [
    {
     "name": "stdout",
     "output_type": "stream",
     "text": [
      "Llave: hp | Valor: 7999.99\n",
      "Llave: mac | Valor: 999999.99\n",
      "Llave: lenovo | Valor: 12999.99\n",
      "Llave: asus | Valor: 11499.99\n"
     ]
    }
   ],
   "source": [
    "for key in laptops:\n",
    "    print(\"Llave: {} | Valor: {}\".format(key, laptops[key]))"
   ]
  },
  {
   "cell_type": "code",
   "execution_count": 10,
   "id": "1589207a-c88b-404d-9c1d-66c192b2b6cd",
   "metadata": {},
   "outputs": [],
   "source": [
    "laptops[\"hp\"] = 3999.99"
   ]
  },
  {
   "cell_type": "code",
   "execution_count": 11,
   "id": "d45352ed-8bf7-47a7-9ddc-0f763de87ce8",
   "metadata": {},
   "outputs": [
    {
     "name": "stdout",
     "output_type": "stream",
     "text": [
      "{'hp': 3999.99, 'mac': 999999.99, 'lenovo': 12999.99, 'asus': 11499.99}\n"
     ]
    }
   ],
   "source": [
    "print(laptops)"
   ]
  },
  {
   "cell_type": "code",
   "execution_count": 12,
   "id": "0d668830-32f4-4ff3-ae47-f4f7cbf09ebe",
   "metadata": {},
   "outputs": [],
   "source": [
    "laptops[\"hp\"] = 7999.99"
   ]
  },
  {
   "cell_type": "code",
   "execution_count": 13,
   "id": "bd7757ae-41a5-4c18-8e97-6be5f3458642",
   "metadata": {},
   "outputs": [
    {
     "name": "stdout",
     "output_type": "stream",
     "text": [
      "{'hp': 7999.99, 'mac': 999999.99, 'lenovo': 12999.99, 'asus': 11499.99}\n"
     ]
    }
   ],
   "source": [
    "print(laptops)"
   ]
  },
  {
   "cell_type": "code",
   "execution_count": 21,
   "id": "211901be-fe87-4a57-9d91-e0e9b886215a",
   "metadata": {},
   "outputs": [
    {
     "name": "stdout",
     "output_type": "stream",
     "text": [
      "Brands:\n",
      "\tThe brand is: hp\n",
      "\tThe brand is: mac\n",
      "\tThe brand is: lenovo\n",
      "\tThe brand is: asus\n",
      "Prices:\n",
      "\tThe price is: 7999.99\n",
      "\tThe price is: 999999.99\n",
      "\tThe price is: 12999.99\n",
      "\tThe price is: 11499.99\n"
     ]
    }
   ],
   "source": [
    "print(\"Brands:\")\n",
    "for brand in laptops:\n",
    "    print(\"\\tThe brand is: {}\".format(brand))\n",
    "print(\"Prices:\")\n",
    "for price in laptops.values():\n",
    "    print(\"\\tThe price is: {}\".format(price))"
   ]
  },
  {
   "cell_type": "markdown",
   "id": "2152f7b1-0d72-48bd-98f4-f1bf3a3f4ba3",
   "metadata": {},
   "source": [
    "### Forma ideal de obtener keys y valores: items()"
   ]
  },
  {
   "cell_type": "code",
   "execution_count": 23,
   "id": "75353155-f76d-4a75-95c1-5370b3edc8e3",
   "metadata": {},
   "outputs": [
    {
     "name": "stdout",
     "output_type": "stream",
     "text": [
      "La llave es: hp | El precio es: 7999.99\n",
      "La llave es: mac | El precio es: 999999.99\n",
      "La llave es: lenovo | El precio es: 12999.99\n",
      "La llave es: asus | El precio es: 11499.99\n"
     ]
    }
   ],
   "source": [
    "for key, value in laptops.items():\n",
    "    print(\"La llave es: {} | El precio es: {}\".format(key, value))"
   ]
  },
  {
   "cell_type": "markdown",
   "id": "af39d890-1e34-486b-b86b-aa2509d71d8c",
   "metadata": {},
   "source": [
    "### clear() copy() fromkeys()"
   ]
  },
  {
   "cell_type": "code",
   "execution_count": 29,
   "id": "dd406789-3019-4c06-af04-638378c709c6",
   "metadata": {},
   "outputs": [
    {
     "name": "stdout",
     "output_type": "stream",
     "text": [
      "{'hp': 'laptop brand', 'mac': 'laptop brand', 'lenovo': 'laptop brand', 'asus': 'laptop brand'}\n",
      "hp laptop brand\n",
      "mac laptop brand\n",
      "lenovo laptop brand\n",
      "asus laptop brand\n"
     ]
    }
   ],
   "source": [
    "defaultValue = \"laptop brand\"\n",
    "print(newDixi)\n",
    "newDixi = dict.fromkeys(laptops, defaultValue)\n",
    "for key, value in newDixi.items():\n",
    "    print(key, value)"
   ]
  },
  {
   "cell_type": "code",
   "execution_count": 32,
   "id": "5e1383e2-91c2-4421-9b0c-67a18cf6b56e",
   "metadata": {},
   "outputs": [
    {
     "name": "stdout",
     "output_type": "stream",
     "text": [
      "None\n"
     ]
    }
   ],
   "source": [
    "# print(laptops[\"dell\"]) # de esta forma si el valor no se encuentra el programa se rompe\n",
    "print(laptops.get(\"dell\")) # el método get puede validar si existe o no la llave y responder en casa de que no esté"
   ]
  },
  {
   "cell_type": "code",
   "execution_count": 34,
   "id": "a9309577-7a73-403d-a8d9-7ad7c481c140",
   "metadata": {},
   "outputs": [
    {
     "name": "stdout",
     "output_type": "stream",
     "text": [
      "no existe\n",
      "{'hp': 7999.99, 'mac': 999999.99, 'lenovo': 12999.99, 'asus': 11499.99}\n"
     ]
    }
   ],
   "source": [
    "print(laptops.get(\"dell\", \"no existe\"))\n",
    "print(laptops)"
   ]
  },
  {
   "cell_type": "markdown",
   "id": "b56fa27c-160d-43af-87df-9025f77dab3a",
   "metadata": {},
   "source": [
    "### pop()"
   ]
  },
  {
   "cell_type": "code",
   "execution_count": 51,
   "id": "cc7182fb-38a3-4c72-a3e1-332a7ad69d90",
   "metadata": {},
   "outputs": [
    {
     "name": "stdout",
     "output_type": "stream",
     "text": [
      "{'hp': 9999.99, 'mac': 999999.99, 'lenovo': 12999.99, 'asus': 11499.99}\n",
      "{'mac': 999999.99, 'lenovo': 12999.99, 'asus': 11499.99}\n",
      "borrando último elemento\n",
      "{'mac': 999999.99, 'lenovo': 12999.99}\n",
      "{}\n"
     ]
    }
   ],
   "source": [
    "laptops = {\"hp\": 9999.99, \"mac\": 999999.99, \"lenovo\": 12999.99, \"asus\": 11499.99}\n",
    "print(laptops)\n",
    "if \"hp\" in laptops.keys():\n",
    "    laptops.pop(\"hp\")\n",
    "else:\n",
    "    print(\"la llave no existe\")\n",
    "print(laptops)\n",
    "if \"hp\" in laptops.keys():\n",
    "    laptops.pop(\"hp\")\n",
    "else:\n",
    "    laptops.popitem()\n",
    "    print(\"borrando último elemento\")\n",
    "print(laptops)\n",
    "laptops.popitem()\n",
    "laptops.popitem()\n",
    "#laptops.popitem()\n",
    "print(laptops)"
   ]
  },
  {
   "cell_type": "code",
   "execution_count": null,
   "id": "00ae95c0-a0cb-4cac-a20d-a33432aaf5fa",
   "metadata": {},
   "outputs": [],
   "source": []
  }
 ],
 "metadata": {
  "kernelspec": {
   "display_name": "Python 3 (ipykernel)",
   "language": "python",
   "name": "python3"
  },
  "language_info": {
   "codemirror_mode": {
    "name": "ipython",
    "version": 3
   },
   "file_extension": ".py",
   "mimetype": "text/x-python",
   "name": "python",
   "nbconvert_exporter": "python",
   "pygments_lexer": "ipython3",
   "version": "3.12.7"
  }
 },
 "nbformat": 4,
 "nbformat_minor": 5
}
