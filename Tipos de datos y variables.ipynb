{
 "cells": [
  {
   "cell_type": "markdown",
   "id": "901de15c-ae11-42fd-b482-4ec7fba0e2d8",
   "metadata": {},
   "source": [
    "# Panorama\n",
    "\n",
    "int - enteros\n",
    "float - números con decimales\n",
    "complex - números con una parte real y una imaginaria\n",
    "bool - valores lógicos de True o False\n",
    "str - cadenas de caracteres"
   ]
  },
  {
   "cell_type": "markdown",
   "id": "37327429-03a7-4ac4-a6cf-408e9997f895",
   "metadata": {},
   "source": [
    "## int - Enteros"
   ]
  },
  {
   "cell_type": "code",
   "execution_count": 7,
   "id": "95b8ec6f-359b-46f0-94dc-adf53986718b",
   "metadata": {},
   "outputs": [
    {
     "name": "stdout",
     "output_type": "stream",
     "text": [
      "el valor de my_int es:  11\n",
      "el tipo de dato de my_int es:  <class 'int'>\n",
      "el nuevo valor de my_int es:  11000.0\n",
      "el nuevo tipo de dato de my_int es:  <class 'float'>\n"
     ]
    }
   ],
   "source": [
    "my_int = 11\n",
    "print(\"el valor de my_int es: \", my_int)\n",
    "print(\"el tipo de dato de my_int es: \", type(my_int))\n",
    "my_int = 11e3\n",
    "print(\"el nuevo valor de my_int es: \", my_int)\n",
    "print(\"el nuevo tipo de dato de my_int es: \", type(my_int))\n"
   ]
  },
  {
   "cell_type": "markdown",
   "id": "ef4163ea-ed30-4fb1-9031-544a8d5cd5db",
   "metadata": {},
   "source": [
    "## float - Valores con decimales"
   ]
  },
  {
   "cell_type": "code",
   "execution_count": 9,
   "id": "a96e0abf-571e-4df9-9281-94931181bc3e",
   "metadata": {},
   "outputs": [
    {
     "name": "stdout",
     "output_type": "stream",
     "text": [
      "El valor de my_float es:  31416000000.0\n",
      "El tipo de my_float es:  <class 'float'>\n"
     ]
    }
   ],
   "source": [
    "my_float = 3.1416e10    # 3.1416 * 10 ** 3\n",
    "                        # 2 por 10 a la 3\n",
    "print(\"El valor de my_float es: \", my_float)\n",
    "print(\"El tipo de my_float es: \", type(my_float))"
   ]
  },
  {
   "cell_type": "code",
   "execution_count": 10,
   "id": "ccc1257c-ee22-4e0e-b730-cb46869a8035",
   "metadata": {},
   "outputs": [
    {
     "data": {
      "text/plain": [
       "27"
      ]
     },
     "execution_count": 10,
     "metadata": {},
     "output_type": "execute_result"
    }
   ],
   "source": [
    "3**3"
   ]
  },
  {
   "cell_type": "code",
   "execution_count": 11,
   "id": "69fd9348-d555-4770-9c42-91a97cceda68",
   "metadata": {},
   "outputs": [
    {
     "data": {
      "text/plain": [
       "9"
      ]
     },
     "execution_count": 11,
     "metadata": {},
     "output_type": "execute_result"
    }
   ],
   "source": [
    "3*3"
   ]
  },
  {
   "cell_type": "markdown",
   "id": "47652d52-f7ed-47ff-bd0c-1015d54d73b6",
   "metadata": {},
   "source": [
    "## complex - números con parte real y una imaginaria\n",
    "\n",
    "complex = x + yj\n",
    "x = parte real\n",
    "yj = parte imaginaria"
   ]
  },
  {
   "cell_type": "code",
   "execution_count": 13,
   "id": "d01ae898-f08a-4359-97ab-c6f05257cc86",
   "metadata": {},
   "outputs": [
    {
     "name": "stdout",
     "output_type": "stream",
     "text": [
      "El valor de my_complex es:  (3+9j)\n",
      "El tipo de my_complex es:  <class 'complex'>\n"
     ]
    }
   ],
   "source": [
    "my_complex = 3 + 9j\n",
    "print(\"El valor de my_complex es: \", my_complex)\n",
    "print(\"El tipo de my_complex es: \", type(my_complex))"
   ]
  },
  {
   "cell_type": "markdown",
   "id": "7755e467-94dd-4e20-b206-0cc678a02cb2",
   "metadata": {},
   "source": [
    "## boolean - verdadero o falso"
   ]
  },
  {
   "cell_type": "code",
   "execution_count": 14,
   "id": "1fa66ab8-5c3f-4f1a-bf6e-53cc87a40ae3",
   "metadata": {},
   "outputs": [
    {
     "name": "stdout",
     "output_type": "stream",
     "text": [
      "El valor de my_boolean es:  True\n",
      "El tipo de my_boolean es:  <class 'bool'>\n"
     ]
    }
   ],
   "source": [
    "my_boolean = True\n",
    "print(\"El valor de my_boolean es: \", my_boolean)\n",
    "print(\"El tipo de my_boolean es: \", type(my_boolean))"
   ]
  },
  {
   "cell_type": "code",
   "execution_count": 15,
   "id": "d8c68758-4e81-4b44-8900-0316ab42d107",
   "metadata": {},
   "outputs": [
    {
     "name": "stdout",
     "output_type": "stream",
     "text": [
      "3\n",
      "-1\n",
      "0\n"
     ]
    }
   ],
   "source": [
    "# El valor de True equivale 1 y el de False a 0 en ciertos casos:\n",
    "print(True+True+True) # 3\n",
    "print(True-True-True) # -1\n",
    "print(False+False+False) # 0"
   ]
  },
  {
   "cell_type": "markdown",
   "id": "a89311f7-e674-452c-a1b7-27d280ce975b",
   "metadata": {},
   "source": [
    "## str - cadena de caracteres"
   ]
  },
  {
   "cell_type": "code",
   "execution_count": 18,
   "id": "630ed560-8a95-47b0-8407-9ac0d94ac3b5",
   "metadata": {},
   "outputs": [
    {
     "name": "stdout",
     "output_type": "stream",
     "text": [
      "El valor de my_string es:  Backend Python\n",
      "El tipo de my_string es:  <class 'str'>\n"
     ]
    }
   ],
   "source": [
    "my_string = \"Backend Python\"\n",
    "print(\"El valor de my_string es: \", my_string)\n",
    "print(\"El tipo de my_string es: \", type(my_string))"
   ]
  },
  {
   "cell_type": "code",
   "execution_count": 19,
   "id": "12b0f27f-3ac6-4812-91d7-79943fece93f",
   "metadata": {},
   "outputs": [
    {
     "name": "stdout",
     "output_type": "stream",
     "text": [
      "El valor de my_multi es:  línea uno\n",
      "línea dos\n",
      "línea tres\n",
      "y todo esto sigue siendo una misma variable de tipo string\n",
      "El tipo de my_multi es;  <class 'str'>\n"
     ]
    }
   ],
   "source": [
    "my_multi_line_str = \"\"\"línea uno\n",
    "línea dos\n",
    "línea tres\n",
    "y todo esto sigue siendo una misma variable de tipo string\"\"\"\n",
    "print(\"El valor de my_multi es: \", my_multi_line_str)\n",
    "print(\"El tipo de my_multi es; \", type(my_multi_line_str))"
   ]
  },
  {
   "cell_type": "markdown",
   "id": "ad37ef73-6145-455d-b806-897aed38b1f6",
   "metadata": {},
   "source": [
    "# Variables\n",
    "\n",
    "## ¿Qué es una variable?\n",
    "- Espacio temporal para guardar un valor con un nombre específico\n",
    "- Asigna un tipo de dato automáticamente\n",
    "- El tipado es dinámico, por lo que puede cambiar mientras el programa se ejecuta\n",
    "- Python gestiona las variables de forma particular\n",
    "- La variable se crea al declarar un mobre y asignarle un valor\n",
    "## Tipos de variables\n",
    "- Globales: aquellas a las que se puede acceder desde cualquier parte del código\n",
    "- Locales: las que están disponibles en un bloque específico"
   ]
  },
  {
   "cell_type": "markdown",
   "id": "063dc634-fefe-4a82-a0b3-971dd81de5e9",
   "metadata": {},
   "source": [
    "# Variables Globales\n",
    "- Se declaran afuera de funciones\n",
    "- El valor puede ser constante para todo el programa\n",
    "- Cualquier función puede acceder a ellas\n",
    "- Normalmente se utilizan como constantes\n",
    "- Mantienen su valor a través de la ejecución total del programa\n",
    "  "
   ]
  },
  {
   "cell_type": "code",
   "execution_count": 24,
   "id": "5088f5f3-113c-425d-98cb-bdcde9536374",
   "metadata": {},
   "outputs": [],
   "source": [
    "my_global = \"from global scope\"\n",
    "def my_func_one():\n",
    "    print(\"func one prints global var: \", my_global)\n",
    "def my_func_two():\n",
    "    local_var = \"from func two\"\n",
    "    print(\"global and local: \", my_global, local_var)\n",
    "def my_func_three():\n",
    "    local_var = \"from func three\"\n",
    "    print(\"global and local: \", my_global, local_var)"
   ]
  },
  {
   "cell_type": "code",
   "execution_count": 25,
   "id": "749af04b-6446-48fa-93d5-008dbeffbd09",
   "metadata": {},
   "outputs": [
    {
     "name": "stdout",
     "output_type": "stream",
     "text": [
      "func one prints global var:  from global scope\n",
      "global and local:  from global scope from func two\n",
      "global and local:  from global scope from func three\n"
     ]
    }
   ],
   "source": [
    "    my_func_one()\n",
    "    my_func_two()\n",
    "    my_func_three()"
   ]
  },
  {
   "cell_type": "markdown",
   "id": "b7e8645e-6971-498d-ab54-2fd830f442fb",
   "metadata": {},
   "source": [
    "# Variables Locales\n",
    "- Se declaran dentro de una función\n",
    "- Tienen restricciones de acceso desde fuera de la función en que son declaradas\n",
    "- Alcance y visibilidad encapsulados\n",
    "- La variable está activa mientras la función esté en ejecución"
   ]
  },
  {
   "cell_type": "markdown",
   "id": "2e25189a-9e12-4ce3-bc88-48fd3a3585af",
   "metadata": {},
   "source": [
    "# Tipos de Enteros\n",
    "- Decimales\n",
    "- Binarios\n",
    "- Octales\n",
    "- Hexadecimales"
   ]
  },
  {
   "cell_type": "markdown",
   "id": "6bf050a1-70d7-4159-bf81-e83651ae2e78",
   "metadata": {},
   "source": [
    "## Decimales\n",
    "- Se pueden utilizar del 0 al 9\n",
    "- La base es 10"
   ]
  },
  {
   "cell_type": "code",
   "execution_count": 2,
   "id": "84b8aaa0-b40d-4735-b68c-48ca8eb5d0ef",
   "metadata": {},
   "outputs": [],
   "source": [
    "decimal = 66 # 6 * 10 ** 1 + 6 * 10 ** 0 = 6 * 10 + 6 * 1 = 60 + 6 = 66\n"
   ]
  },
  {
   "cell_type": "markdown",
   "id": "98444484-6ebd-457e-b2ea-373878fa06d9",
   "metadata": {},
   "source": [
    "## Binarios\n",
    "- Solo se pueden utilizar 0 y 1\n",
    "- La base es 2\n",
    "- Se utiliza prefijo '0b' o '0B'"
   ]
  },
  {
   "cell_type": "code",
   "execution_count": 3,
   "id": "94ac7391-977f-4874-b3f2-8a2055fa47d8",
   "metadata": {},
   "outputs": [],
   "source": [
    "binario = 111 # 1 * 2 ** 2 + 1 * 2 ** 1 + 1 * 2 ** 0 =  1 * 4 + 1 * 2 + 1 * 1 = 4 + 2 + 1 = 7"
   ]
  },
  {
   "cell_type": "markdown",
   "id": "629996c4-8627-484f-b503-46dc9f4e58b0",
   "metadata": {},
   "source": [
    "## Octales\n",
    "- Dígitos del 0 al 7\n",
    "- Se utiliza prefijo '0o' u '0O'"
   ]
  },
  {
   "cell_type": "code",
   "execution_count": 6,
   "id": "91443f1a-33ec-415a-87bc-907c79dea47a",
   "metadata": {},
   "outputs": [
    {
     "name": "stdout",
     "output_type": "stream",
     "text": [
      "64 40 3 107\n",
      "True\n"
     ]
    }
   ],
   "source": [
    "octal = 0o100\n",
    "octal1 = 0o50\n",
    "octal2 = 0O3\n",
    "octal_suma = octal+octal1+octal2\n",
    "octal_completo = 0O153\n",
    "print(octal, octal1, octal2, octal_suma)\n",
    "print(octal_completo == octal_suma)"
   ]
  },
  {
   "cell_type": "markdown",
   "id": "2270d875-cda0-4894-8297-5a3d0e8bb498",
   "metadata": {},
   "source": [
    "# Hexadecimal\n",
    "- Utiliza dígitos del 0 al 9\n",
    "- Utiliza letras de la a/A a la f/F\n",
    "- Se define con el prefijo '0x' o '0X''"
   ]
  },
  {
   "cell_type": "code",
   "execution_count": null,
   "id": "94e4af29-d044-485b-af48-d075096a4efc",
   "metadata": {},
   "outputs": [],
   "source": []
  }
 ],
 "metadata": {
  "kernelspec": {
   "display_name": "Python 3 (ipykernel)",
   "language": "python",
   "name": "python3"
  },
  "language_info": {
   "codemirror_mode": {
    "name": "ipython",
    "version": 3
   },
   "file_extension": ".py",
   "mimetype": "text/x-python",
   "name": "python",
   "nbconvert_exporter": "python",
   "pygments_lexer": "ipython3",
   "version": "3.12.7"
  }
 },
 "nbformat": 4,
 "nbformat_minor": 5
}
