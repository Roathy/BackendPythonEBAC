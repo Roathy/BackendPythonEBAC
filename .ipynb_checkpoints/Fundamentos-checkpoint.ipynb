{
 "cells": [
  {
   "cell_type": "markdown",
   "id": "6de6276c-ad24-4f87-8f63-501a2c1a71ea",
   "metadata": {
    "panel-layout": {
     "height": 60.59375,
     "visible": true,
     "width": 100
    }
   },
   "source": [
    "## Python distingue entre mayúsculas y minúsculas"
   ]
  },
  {
   "cell_type": "code",
   "execution_count": 3,
   "id": "f4102f51-17d0-446c-8859-a405e3c93dc3",
   "metadata": {
    "panel-layout": {
     "height": 0,
     "visible": true,
     "width": 100
    }
   },
   "outputs": [
    {
     "name": "stdout",
     "output_type": "stream",
     "text": [
      "El curso es:  Backend Python\n"
     ]
    }
   ],
   "source": [
    "A = \"Backend Python\"\n",
    "print(\"El curso es: \", A)"
   ]
  },
  {
   "cell_type": "code",
   "execution_count": 7,
   "id": "271e445d-7603-480d-841b-cf778b12e345",
   "metadata": {
    "panel-layout": {
     "height": 0,
     "visible": true,
     "width": 100
    }
   },
   "outputs": [
    {
     "name": "stdout",
     "output_type": "stream",
     "text": [
      "El curso es:  Backend Python\n"
     ]
    }
   ],
   "source": [
    "a = \"Backend Python\"\n",
    "print(\"El curso es: \", a)"
   ]
  },
  {
   "cell_type": "markdown",
   "id": "2ef3914c-958c-4bd9-9633-9f185cf2ce2f",
   "metadata": {},
   "source": [
    "## Palabras reservadas en Python"
   ]
  },
  {
   "cell_type": "code",
   "execution_count": 9,
   "id": "397e833c-3ed0-4343-8f91-747c0738e47c",
   "metadata": {
    "panel-layout": {
     "height": 0,
     "visible": true,
     "width": 100
    }
   },
   "outputs": [
    {
     "name": "stdout",
     "output_type": "stream",
     "text": [
      "\n",
      "Here is a list of the Python keywords.  Enter any keyword to get more help.\n",
      "\n",
      "False               class               from                or\n",
      "None                continue            global              pass\n",
      "True                def                 if                  raise\n",
      "and                 del                 import              return\n",
      "as                  elif                in                  try\n",
      "assert              else                is                  while\n",
      "async               except              lambda              with\n",
      "await               finally             nonlocal            yield\n",
      "break               for                 not                 \n",
      "\n"
     ]
    }
   ],
   "source": [
    "help(\"keywords\")"
   ]
  },
  {
   "cell_type": "markdown",
   "id": "ef142f44-2113-4021-bff7-0b0911ca5964",
   "metadata": {},
   "source": [
    "## Caracteres de escape en Python"
   ]
  },
  {
   "cell_type": "code",
   "execution_count": 10,
   "id": "ee1b1242-c1b5-41f3-9a5e-b4ff613da570",
   "metadata": {},
   "outputs": [
    {
     "data": {
      "text/plain": [
       "\"'\""
      ]
     },
     "execution_count": 10,
     "metadata": {},
     "output_type": "execute_result"
    }
   ],
   "source": [
    "\"\\'\" # single quote / Comilla sencilla"
   ]
  },
  {
   "cell_type": "code",
   "execution_count": 11,
   "id": "b150fd4c-9054-48e2-a1a0-ad06487d86ee",
   "metadata": {},
   "outputs": [
    {
     "ename": "SyntaxError",
     "evalue": "incomplete input (3857640367.py, line 1)",
     "output_type": "error",
     "traceback": [
      "\u001b[1;36m  Cell \u001b[1;32mIn[11], line 1\u001b[1;36m\u001b[0m\n\u001b[1;33m    '''\u001b[0m\n\u001b[1;37m    ^\u001b[0m\n\u001b[1;31mSyntaxError\u001b[0m\u001b[1;31m:\u001b[0m incomplete input\n"
     ]
    }
   ],
   "source": [
    "'''"
   ]
  },
  {
   "cell_type": "code",
   "execution_count": 12,
   "id": "3f1db88e-bcd3-4498-a004-dfd2c4a7e288",
   "metadata": {},
   "outputs": [
    {
     "data": {
      "text/plain": [
       "\"'\""
      ]
     },
     "execution_count": 12,
     "metadata": {},
     "output_type": "execute_result"
    }
   ],
   "source": [
    "'\\''"
   ]
  },
  {
   "cell_type": "code",
   "execution_count": 13,
   "id": "4320ce48-7785-481e-976d-10d64a57f1cd",
   "metadata": {},
   "outputs": [
    {
     "data": {
      "text/plain": [
       "'\"'"
      ]
     },
     "execution_count": 13,
     "metadata": {},
     "output_type": "execute_result"
    }
   ],
   "source": [
    "\"\\\"\" # double quote / Comilla doble"
   ]
  },
  {
   "cell_type": "code",
   "execution_count": 14,
   "id": "0bf79d5c-ddcc-41b3-8dea-754c956919b6",
   "metadata": {},
   "outputs": [
    {
     "ename": "SyntaxError",
     "evalue": "incomplete input (969763094.py, line 1)",
     "output_type": "error",
     "traceback": [
      "\u001b[1;36m  Cell \u001b[1;32mIn[14], line 1\u001b[1;36m\u001b[0m\n\u001b[1;33m    \"\"\"\u001b[0m\n\u001b[1;37m    ^\u001b[0m\n\u001b[1;31mSyntaxError\u001b[0m\u001b[1;31m:\u001b[0m incomplete input\n"
     ]
    }
   ],
   "source": [
    "\"\"\""
   ]
  },
  {
   "cell_type": "code",
   "execution_count": 22,
   "id": "3854a39c-a976-4448-ab27-75a87c7a2c07",
   "metadata": {},
   "outputs": [
    {
     "name": "stdout",
     "output_type": "stream",
     "text": [
      "Backend\tPython\tde EBAC\n"
     ]
    }
   ],
   "source": [
    "my_course = \"Backend\\tPython\\tde EBAC\"\n",
    "print(my_course)"
   ]
  },
  {
   "cell_type": "code",
   "execution_count": 16,
   "id": "f922b381-5a5a-4c76-878a-4dcafb92f5ae",
   "metadata": {},
   "outputs": [
    {
     "name": "stdout",
     "output_type": "stream",
     "text": [
      "de EBAC\n"
     ]
    }
   ],
   "source": [
    "my_course=\"Backend\\rPython\\rde EBAC\"\n",
    "print(my_course)"
   ]
  },
  {
   "cell_type": "code",
   "execution_count": 17,
   "id": "62462b11-c9ec-4c8d-989d-f74eeb0c786c",
   "metadata": {},
   "outputs": [
    {
     "data": {
      "text/plain": [
       "'\\x08'"
      ]
     },
     "execution_count": 17,
     "metadata": {},
     "output_type": "execute_result"
    }
   ],
   "source": [
    "\"\\b\""
   ]
  },
  {
   "cell_type": "code",
   "execution_count": 18,
   "id": "a216708d-dd92-436b-a239-2f8779409a3a",
   "metadata": {},
   "outputs": [
    {
     "name": "stdout",
     "output_type": "stream",
     "text": [
      "BackendPythondeEBAC\n"
     ]
    }
   ],
   "source": [
    "my_course=\"Backend \\bPython \\bde \\bEBAC\"\n",
    "print(my_course)"
   ]
  },
  {
   "cell_type": "code",
   "execution_count": 19,
   "id": "55eef4e9-53df-4690-8032-ca30b3f8022d",
   "metadata": {},
   "outputs": [
    {
     "name": "stderr",
     "output_type": "stream",
     "text": [
      "<>:1: SyntaxWarning: invalid escape sequence '\\o'\n",
      "<>:1: SyntaxWarning: invalid escape sequence '\\o'\n",
      "C:\\Users\\CeL\\AppData\\Local\\Temp\\ipykernel_21028\\3175516768.py:1: SyntaxWarning: invalid escape sequence '\\o'\n",
      "  \"\\ooo\" # Octal\n"
     ]
    },
    {
     "data": {
      "text/plain": [
       "'\\\\ooo'"
      ]
     },
     "execution_count": 19,
     "metadata": {},
     "output_type": "execute_result"
    }
   ],
   "source": [
    "\"\\ooo\" # Octal"
   ]
  },
  {
   "cell_type": "code",
   "execution_count": 21,
   "id": "d134f650-550c-4950-8148-825f7a0af4bc",
   "metadata": {},
   "outputs": [
    {
     "name": "stdout",
     "output_type": "stream",
     "text": [
      "Hola\n"
     ]
    }
   ],
   "source": [
    "hello_spanish_octal = \"\\110\\157\\154\\141\"\n",
    "print(hello_spanish_octal)"
   ]
  },
  {
   "cell_type": "code",
   "execution_count": 23,
   "id": "59a0b891-1c45-442a-a9e0-b8b3103e5eec",
   "metadata": {},
   "outputs": [
    {
     "ename": "SyntaxError",
     "evalue": "(unicode error) 'unicodeescape' codec can't decode bytes in position 0-1: truncated \\xXX escape (1485317293.py, line 1)",
     "output_type": "error",
     "traceback": [
      "\u001b[1;36m  Cell \u001b[1;32mIn[23], line 1\u001b[1;36m\u001b[0m\n\u001b[1;33m    \"\\xhh\" # Hexadecimal\u001b[0m\n\u001b[1;37m    ^\u001b[0m\n\u001b[1;31mSyntaxError\u001b[0m\u001b[1;31m:\u001b[0m (unicode error) 'unicodeescape' codec can't decode bytes in position 0-1: truncated \\xXX escape\n"
     ]
    }
   ],
   "source": [
    "\"\\xhh\" # Hexadecimal"
   ]
  },
  {
   "cell_type": "code",
   "execution_count": 24,
   "id": "93b6ffac-1938-4369-9ad1-2243dd09cad5",
   "metadata": {},
   "outputs": [
    {
     "name": "stdout",
     "output_type": "stream",
     "text": [
      "Hola\n"
     ]
    }
   ],
   "source": [
    "hello_spanish_hex = \"\\x48\\x6f\\x6c\\x61\"\n",
    "print(hello_spanish_hex)"
   ]
  },
  {
   "cell_type": "markdown",
   "id": "7c818bbd-2b1b-48f1-8995-d9693a5cd2a3",
   "metadata": {},
   "source": [
    "## Función eval()"
   ]
  },
  {
   "cell_type": "code",
   "execution_count": 25,
   "id": "66c5ad2c-f689-4aa3-a73e-4a98818fd60c",
   "metadata": {},
   "outputs": [
    {
     "name": "stdout",
     "output_type": "stream",
     "text": [
      "my_number + 1000\n"
     ]
    }
   ],
   "source": [
    "my_number = 22\n",
    "print(\"my_number + 1000\")"
   ]
  },
  {
   "cell_type": "code",
   "execution_count": 26,
   "id": "ea160b3b-9a30-4158-9b7a-0c352f400b59",
   "metadata": {},
   "outputs": [
    {
     "name": "stdout",
     "output_type": "stream",
     "text": [
      "1022\n"
     ]
    }
   ],
   "source": [
    "my_number = 22\n",
    "print(eval(\"my_number+1000\"))"
   ]
  },
  {
   "cell_type": "code",
   "execution_count": 28,
   "id": "ec1ef22e-c1af-4b17-a7a7-f3ead00c457d",
   "metadata": {},
   "outputs": [
    {
     "name": "stdin",
     "output_type": "stream",
     "text": [
      "ingresa un número 777\n"
     ]
    }
   ],
   "source": [
    "my_input = input(\"ingresa un número\")"
   ]
  },
  {
   "cell_type": "code",
   "execution_count": 29,
   "id": "c66416e6-3605-459c-9909-a43b7165b7e9",
   "metadata": {},
   "outputs": [
    {
     "data": {
      "text/plain": [
       "'777'"
      ]
     },
     "execution_count": 29,
     "metadata": {},
     "output_type": "execute_result"
    }
   ],
   "source": [
    "my_input"
   ]
  },
  {
   "cell_type": "code",
   "execution_count": 30,
   "id": "be5abaf0-060e-42f0-a589-ed89e91e22c3",
   "metadata": {},
   "outputs": [
    {
     "data": {
      "text/plain": [
       "777"
      ]
     },
     "execution_count": 30,
     "metadata": {},
     "output_type": "execute_result"
    }
   ],
   "source": [
    "eval(my_input)"
   ]
  },
  {
   "cell_type": "code",
   "execution_count": 31,
   "id": "91bfc4c6-719f-4894-9df3-224b3e1184b3",
   "metadata": {},
   "outputs": [
    {
     "name": "stdin",
     "output_type": "stream",
     "text": [
      "ingresa un número:  777\n"
     ]
    },
    {
     "name": "stdout",
     "output_type": "stream",
     "text": [
      "777\n",
      "<class 'str'>\n"
     ]
    }
   ],
   "source": [
    "my_input = input(\"ingresa un número: \")\n",
    "print(my_input)\n",
    "print(type(my_input))"
   ]
  },
  {
   "cell_type": "code",
   "execution_count": 32,
   "id": "895f5dc1-d794-4da2-a0cd-c558250b3aa2",
   "metadata": {},
   "outputs": [
    {
     "name": "stdin",
     "output_type": "stream",
     "text": [
      "ingresa un número:  777\n"
     ]
    },
    {
     "name": "stdout",
     "output_type": "stream",
     "text": [
      "777\n",
      "<class 'int'>\n"
     ]
    }
   ],
   "source": [
    "my_input = eval(input(\"ingresa un número: \"))\n",
    "print(my_input)\n",
    "print(type(my_input))"
   ]
  },
  {
   "cell_type": "markdown",
   "id": "2b8c3d41-4b03-4cce-b99f-909f96775b13",
   "metadata": {},
   "source": [
    "## Función range() y xrange()"
   ]
  },
  {
   "cell_type": "code",
   "execution_count": 33,
   "id": "07576c68-3f6c-4ffc-b114-ea06729f6609",
   "metadata": {},
   "outputs": [
    {
     "ename": "TypeError",
     "evalue": "'int' object is not iterable",
     "output_type": "error",
     "traceback": [
      "\u001b[1;31m---------------------------------------------------------------------------\u001b[0m",
      "\u001b[1;31mTypeError\u001b[0m                                 Traceback (most recent call last)",
      "Cell \u001b[1;32mIn[33], line 2\u001b[0m\n\u001b[0;32m      1\u001b[0m x \u001b[38;5;241m=\u001b[39m \u001b[38;5;241m10\u001b[39m\n\u001b[1;32m----> 2\u001b[0m \u001b[38;5;28;01mfor\u001b[39;00m number \u001b[38;5;129;01min\u001b[39;00m x:\n\u001b[0;32m      3\u001b[0m     \u001b[38;5;28mprint\u001b[39m(number)\n",
      "\u001b[1;31mTypeError\u001b[0m: 'int' object is not iterable"
     ]
    }
   ],
   "source": [
    "x = 10\n",
    "for number in x:\n",
    "    print(number)"
   ]
  },
  {
   "cell_type": "code",
   "execution_count": 35,
   "id": "85e79d03-8737-48f1-b091-95dbb501396f",
   "metadata": {},
   "outputs": [
    {
     "name": "stdout",
     "output_type": "stream",
     "text": [
      "0\n",
      "1\n",
      "2\n",
      "3\n",
      "4\n",
      "5\n",
      "6\n",
      "7\n",
      "8\n",
      "9\n"
     ]
    }
   ],
   "source": [
    "x = range(10)\n",
    "for number in x:\n",
    "    print(number)"
   ]
  },
  {
   "cell_type": "code",
   "execution_count": 36,
   "id": "bc8c9211-3672-4cdc-9c69-365957adb7a7",
   "metadata": {},
   "outputs": [
    {
     "name": "stdout",
     "output_type": "stream",
     "text": [
      "3\n",
      "4\n",
      "5\n",
      "6\n"
     ]
    }
   ],
   "source": [
    "x = range(3,7)\n",
    "for number in x:\n",
    "    print(number)"
   ]
  },
  {
   "cell_type": "code",
   "execution_count": 37,
   "id": "9e523627-d4ba-4842-a3f5-5db1b38ee850",
   "metadata": {},
   "outputs": [
    {
     "name": "stdout",
     "output_type": "stream",
     "text": [
      "2\n",
      "4\n",
      "6\n",
      "8\n",
      "10\n",
      "12\n",
      "14\n",
      "16\n",
      "18\n",
      "20\n"
     ]
    }
   ],
   "source": [
    "x = range(2,21,2)\n",
    "for number in x:\n",
    "    print(number)"
   ]
  },
  {
   "cell_type": "markdown",
   "id": "0779c2a9-bab8-4765-90a7-ce75facecb1d",
   "metadata": {},
   "source": [
    "## Mutabilidad e Inmutabilidad"
   ]
  },
  {
   "cell_type": "code",
   "execution_count": 38,
   "id": "a0f0a8df-d06b-46af-8328-6a13a94dd1fb",
   "metadata": {},
   "outputs": [],
   "source": [
    "tupla1 = (1,2,3,4,5)"
   ]
  },
  {
   "cell_type": "code",
   "execution_count": 39,
   "id": "c7368b0d-ba48-48fc-9d51-408a860538a6",
   "metadata": {},
   "outputs": [
    {
     "ename": "TypeError",
     "evalue": "'tuple' object does not support item assignment",
     "output_type": "error",
     "traceback": [
      "\u001b[1;31m---------------------------------------------------------------------------\u001b[0m",
      "\u001b[1;31mTypeError\u001b[0m                                 Traceback (most recent call last)",
      "Cell \u001b[1;32mIn[39], line 2\u001b[0m\n\u001b[0;32m      1\u001b[0m \u001b[38;5;66;03m# Inmutabilidad\u001b[39;00m\n\u001b[1;32m----> 2\u001b[0m tupla1[\u001b[38;5;241m0\u001b[39m] \u001b[38;5;241m=\u001b[39m \u001b[38;5;241m10\u001b[39m\n",
      "\u001b[1;31mTypeError\u001b[0m: 'tuple' object does not support item assignment"
     ]
    }
   ],
   "source": [
    "# Inmutabilidad\n",
    "tupla1[0] = 10"
   ]
  },
  {
   "cell_type": "code",
   "execution_count": 43,
   "id": "163b8caa-4701-4987-a6dd-5241aee8daff",
   "metadata": {},
   "outputs": [],
   "source": [
    "my_string = \"Aprendiendo Inmutabilidad en Python\""
   ]
  },
  {
   "cell_type": "code",
   "execution_count": 42,
   "id": "d27a4cf2-2113-4b9f-b2af-a469fe2aae5b",
   "metadata": {},
   "outputs": [
    {
     "ename": "TypeError",
     "evalue": "'str' object does not support item assignment",
     "output_type": "error",
     "traceback": [
      "\u001b[1;31m---------------------------------------------------------------------------\u001b[0m",
      "\u001b[1;31mTypeError\u001b[0m                                 Traceback (most recent call last)",
      "Cell \u001b[1;32mIn[42], line 1\u001b[0m\n\u001b[1;32m----> 1\u001b[0m my_string[\u001b[38;5;241m0\u001b[39m] \u001b[38;5;241m=\u001b[39m \u001b[38;5;124m\"\u001b[39m\u001b[38;5;124ma\u001b[39m\u001b[38;5;124m\"\u001b[39m\n",
      "\u001b[1;31mTypeError\u001b[0m: 'str' object does not support item assignment"
     ]
    }
   ],
   "source": [
    "my_string[0] = \"a\""
   ]
  },
  {
   "cell_type": "code",
   "execution_count": 44,
   "id": "a1a3e018-633f-4787-a133-197c34631d4a",
   "metadata": {},
   "outputs": [],
   "source": [
    "my_colors = [\"blanco\", \"rojo\", \"negro\"]"
   ]
  },
  {
   "cell_type": "code",
   "execution_count": 45,
   "id": "993f7a1e-037a-40b4-9f4b-09ba3ec1c9c1",
   "metadata": {},
   "outputs": [],
   "source": [
    "my_colors[0] = \"azul\""
   ]
  },
  {
   "cell_type": "code",
   "execution_count": 47,
   "id": "b0852100-214f-49fd-a405-d2affa798352",
   "metadata": {},
   "outputs": [
    {
     "name": "stdout",
     "output_type": "stream",
     "text": [
      "['azul', 'rojo', 'negro']\n"
     ]
    }
   ],
   "source": [
    "print(my_colors)"
   ]
  },
  {
   "cell_type": "markdown",
   "id": "ca8be322-46fa-467f-943c-b958c10a8e46",
   "metadata": {},
   "source": [
    "## Función print()"
   ]
  },
  {
   "cell_type": "code",
   "execution_count": 48,
   "id": "a0523465-3387-4bd4-a727-2d7439e34463",
   "metadata": {},
   "outputs": [],
   "source": [
    "# se utiliza para mostrar resultados"
   ]
  },
  {
   "cell_type": "code",
   "execution_count": 49,
   "id": "4016bf92-7335-4905-8a36-1da08d8adcfc",
   "metadata": {},
   "outputs": [
    {
     "name": "stdout",
     "output_type": "stream",
     "text": [
      "El valor de my_var es:  567\n"
     ]
    }
   ],
   "source": [
    "my_var = 567\n",
    "print(\"El valor de my_var es: \", my_var)"
   ]
  },
  {
   "cell_type": "code",
   "execution_count": 50,
   "id": "b897e8b5-6248-4200-ae95-0c4835352b8a",
   "metadata": {},
   "outputs": [
    {
     "name": "stdout",
     "output_type": "stream",
     "text": [
      "El valor de d, es:  800\n"
     ]
    }
   ],
   "source": [
    "a=100\n",
    "b=500\n",
    "c=200\n",
    "d=a+b+c\n",
    "print(\"El valor de d, es: \",d)"
   ]
  },
  {
   "cell_type": "code",
   "execution_count": 51,
   "id": "f3cfb2ed-a8d3-44b5-92fb-aab7012c5fec",
   "metadata": {},
   "outputs": [],
   "source": [
    "import builtins"
   ]
  },
  {
   "cell_type": "code",
   "execution_count": 52,
   "id": "784e94ad-2d99-4a90-a9af-f1b7ab2a8ce0",
   "metadata": {},
   "outputs": [
    {
     "name": "stdout",
     "output_type": "stream",
     "text": [
      "Help on built-in function print in module builtins:\n",
      "\n",
      "print(*args, sep=' ', end='\\n', file=None, flush=False)\n",
      "    Prints the values to a stream, or to sys.stdout by default.\n",
      "\n",
      "    sep\n",
      "      string inserted between values, default a space.\n",
      "    end\n",
      "      string appended after the last value, default a newline.\n",
      "    file\n",
      "      a file-like object (stream); defaults to the current sys.stdout.\n",
      "    flush\n",
      "      whether to forcibly flush the stream.\n",
      "\n"
     ]
    }
   ],
   "source": [
    "help(builtins.print)"
   ]
  },
  {
   "cell_type": "code",
   "execution_count": 53,
   "id": "7eafd2d8-75c1-475f-8954-822abfcd4522",
   "metadata": {},
   "outputs": [
    {
     "name": "stdout",
     "output_type": "stream",
     "text": [
      "Help on built-in function print in module builtins:\n",
      "\n",
      "print(*args, sep=' ', end='\\n', file=None, flush=False)\n",
      "    Prints the values to a stream, or to sys.stdout by default.\n",
      "\n",
      "    sep\n",
      "      string inserted between values, default a space.\n",
      "    end\n",
      "      string appended after the last value, default a newline.\n",
      "    file\n",
      "      a file-like object (stream); defaults to the current sys.stdout.\n",
      "    flush\n",
      "      whether to forcibly flush the stream.\n",
      "\n"
     ]
    }
   ],
   "source": [
    "help(print)"
   ]
  },
  {
   "cell_type": "markdown",
   "id": "827f9aeb-9a50-43a0-a458-b09d3d3ac4a4",
   "metadata": {},
   "source": [
    "dir(builtins)"
   ]
  },
  {
   "cell_type": "code",
   "execution_count": 55,
   "id": "694f4e37-4aa6-474f-98d6-4d85fb2da5b8",
   "metadata": {},
   "outputs": [
    {
     "name": "stdout",
     "output_type": "stream",
     "text": [
      "3.1416\n",
      "<class 'float'>\n"
     ]
    }
   ],
   "source": [
    "my_float = 3.1416\n",
    "print(my_float)\n",
    "print(type(my_float))"
   ]
  },
  {
   "cell_type": "code",
   "execution_count": 57,
   "id": "52969c7d-999f-4874-bacd-aa7969ddde4a",
   "metadata": {},
   "outputs": [
    {
     "name": "stdout",
     "output_type": "stream",
     "text": [
      "False\n",
      "<class 'bool'>\n"
     ]
    }
   ],
   "source": [
    "my_boolean = False\n",
    "print(my_boolean)\n",
    "print(type(my_boolean))"
   ]
  },
  {
   "cell_type": "code",
   "execution_count": 59,
   "id": "006d3add-c2fe-46e7-a948-fbfe41a17d93",
   "metadata": {},
   "outputs": [
    {
     "name": "stdout",
     "output_type": "stream",
     "text": [
      "[1, 2, 3, 4]\n",
      "<class 'list'>\n"
     ]
    }
   ],
   "source": [
    "# para tipos de valores iguales y ordenados\n",
    "my_list = [1,2,3,4]\n",
    "print(my_list)\n",
    "print(type(my_list))"
   ]
  },
  {
   "cell_type": "code",
   "execution_count": 60,
   "id": "8eb834ae-35e1-4965-b462-44178e42fb54",
   "metadata": {},
   "outputs": [
    {
     "name": "stdout",
     "output_type": "stream",
     "text": [
      "{9, 3, 'primos', 6}\n",
      "<class 'set'>\n"
     ]
    }
   ],
   "source": [
    "# para tipos de valores relacionados y sin orden\n",
    "my_set = { 3, 6, 9, \"primos\"}\n",
    "print(my_set)\n",
    "print(type(my_set))"
   ]
  },
  {
   "cell_type": "code",
   "execution_count": 62,
   "id": "776e7b82-cc3d-4651-8082-42758c5ae000",
   "metadata": {},
   "outputs": [
    {
     "name": "stdout",
     "output_type": "stream",
     "text": [
      "{'a': 20, 'b': 30, 'c': 40}\n",
      "<class 'dict'>\n"
     ]
    }
   ],
   "source": [
    "# diccionario / dict\n",
    "my_dict = {\"a\": 20, \"b\": 30, \"c\": 40}\n",
    "print(my_dict)\n",
    "print(type(my_dict))"
   ]
  },
  {
   "cell_type": "markdown",
   "id": "05bfa486-a0ac-4830-a72d-6dd64db99b2d",
   "metadata": {},
   "source": [
    "## Función id()"
   ]
  },
  {
   "cell_type": "code",
   "execution_count": null,
   "id": "6d1c86b0-23d7-41ca-9596-6548b21a741c",
   "metadata": {},
   "outputs": [],
   "source": [
    "# Función para obtener la dirección en memoria\n",
    "# Python está optimizado para identificar cuando se declara un valor repetido en variables nuevas\n",
    "# y utilizar ese mismo valor, resultando en que ambas variables tengan la misma dirección"
   ]
  },
  {
   "cell_type": "code",
   "execution_count": 64,
   "id": "4a2d2e13-7856-49d8-8dfe-4d8303b589a4",
   "metadata": {},
   "outputs": [
    {
     "name": "stdout",
     "output_type": "stream",
     "text": [
      "Python\n",
      "<class 'str'>\n",
      "140726044471920\n"
     ]
    }
   ],
   "source": [
    "my_string = \"Python\"\n",
    "print(my_string)\n",
    "print(type(my_string))\n",
    "print(id(my_string))"
   ]
  },
  {
   "cell_type": "code",
   "execution_count": 65,
   "id": "b4d159c2-d8e5-4649-8bc5-b90263d9bca1",
   "metadata": {},
   "outputs": [
    {
     "name": "stdout",
     "output_type": "stream",
     "text": [
      "Python\n",
      "<class 'str'>\n",
      "140726044471920\n"
     ]
    }
   ],
   "source": [
    "my_new_string = 'Python'\n",
    "print(my_new_string)\n",
    "print(type(my_new_string))\n",
    "print(id(my_new_string))"
   ]
  },
  {
   "cell_type": "markdown",
   "id": "a7b767e0-11bc-4ab8-9f87-f3c6abae4e46",
   "metadata": {},
   "source": [
    "## Múltiples valores de entrada"
   ]
  },
  {
   "cell_type": "code",
   "execution_count": 1,
   "id": "0886b0aa-90fe-4f62-8dfc-2d306b60613f",
   "metadata": {},
   "outputs": [
    {
     "name": "stdin",
     "output_type": "stream",
     "text": [
      "ingresa tres valores numéricos 100 200 300\n"
     ]
    }
   ],
   "source": [
    "a,b,c = input(\"ingresa tres valores numéricos\").split()"
   ]
  },
  {
   "cell_type": "code",
   "execution_count": 3,
   "id": "53b3fc0d-8b1d-4751-a288-df4a56e5fa4c",
   "metadata": {},
   "outputs": [
    {
     "data": {
      "text/plain": [
       "'100'"
      ]
     },
     "execution_count": 3,
     "metadata": {},
     "output_type": "execute_result"
    }
   ],
   "source": [
    "a"
   ]
  },
  {
   "cell_type": "code",
   "execution_count": 4,
   "id": "15c37a8f-818e-41a7-a211-ea65f5bcc587",
   "metadata": {},
   "outputs": [
    {
     "data": {
      "text/plain": [
       "'200'"
      ]
     },
     "execution_count": 4,
     "metadata": {},
     "output_type": "execute_result"
    }
   ],
   "source": [
    "b"
   ]
  },
  {
   "cell_type": "code",
   "execution_count": 5,
   "id": "384b4df9-bec8-49cb-9bba-abf351a76101",
   "metadata": {},
   "outputs": [
    {
     "data": {
      "text/plain": [
       "'300'"
      ]
     },
     "execution_count": 5,
     "metadata": {},
     "output_type": "execute_result"
    }
   ],
   "source": [
    "c"
   ]
  },
  {
   "cell_type": "code",
   "execution_count": 9,
   "id": "3c394539-e929-4257-a89a-048d2605358e",
   "metadata": {},
   "outputs": [
    {
     "name": "stdin",
     "output_type": "stream",
     "text": [
      "ingresa tres valores numéricos separados por coma:  400,500,600\n"
     ]
    }
   ],
   "source": [
    "x,y,z = input(\"ingresa tres valores numéricos separados por coma: \").split(\",\")"
   ]
  },
  {
   "cell_type": "code",
   "execution_count": 10,
   "id": "fb6df062-7ded-49de-96b8-3d8312563a50",
   "metadata": {},
   "outputs": [
    {
     "name": "stdout",
     "output_type": "stream",
     "text": [
      "400 500 600\n"
     ]
    }
   ],
   "source": [
    "print(x,y,z)"
   ]
  },
  {
   "cell_type": "code",
   "execution_count": null,
   "id": "8390227a-8cd3-42b3-9a88-fc0d97d66d0d",
   "metadata": {},
   "outputs": [],
   "source": []
  }
 ],
 "metadata": {
  "kernelspec": {
   "display_name": "Python 3 (ipykernel)",
   "language": "python",
   "name": "python3"
  },
  "language_info": {
   "codemirror_mode": {
    "name": "ipython",
    "version": 3
   },
   "file_extension": ".py",
   "mimetype": "text/x-python",
   "name": "python",
   "nbconvert_exporter": "python",
   "pygments_lexer": "ipython3",
   "version": "3.12.7"
  },
  "panel-cell-order": [
   "6de6276c-ad24-4f87-8f63-501a2c1a71ea",
   "f4102f51-17d0-446c-8859-a405e3c93dc3",
   "271e445d-7603-480d-841b-cf778b12e345",
   "397e833c-3ed0-4343-8f91-747c0738e47c"
  ]
 },
 "nbformat": 4,
 "nbformat_minor": 5
}
