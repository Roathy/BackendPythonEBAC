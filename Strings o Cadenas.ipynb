{
 "cells": [
  {
   "cell_type": "markdown",
   "id": "2c115523-40a6-448f-8ba6-fbfba94866ec",
   "metadata": {},
   "source": [
    "# Indexación de Cadenas"
   ]
  },
  {
   "cell_type": "markdown",
   "id": "f90f7615-bb78-4959-935a-8fdd0ed0b194",
   "metadata": {},
   "source": [
    "- ¿Qué es un índice y por qué es necesario?\n",
    "Es un valor numérico para ordenar estructuras de datos y sus contenidos.\n",
    "Cuando hablamos de indexación nos referimos a buscar un valor en específico dentro de alguna estructura y para esto escribimos el nombre de la variable seguida de corchetes que contienen el índice\n",
    "En python tenemos dos tipos de indexación:\n",
    "- Positiva: Que comienza desde el 0 y va hacia la derecha\n",
    "- Negativa: Que comienza desde el -1 y va hacia la izquierda\n"
   ]
  },
  {
   "cell_type": "code",
   "execution_count": 6,
   "id": "307787ff-7db9-4e47-9254-bd0053128d4c",
   "metadata": {},
   "outputs": [
    {
     "name": "stdout",
     "output_type": "stream",
     "text": [
      "Curso de Backend Python\n",
      "C\n",
      "Curso\n",
      "Curso\n",
      "Curso de Backend Python\n"
     ]
    }
   ],
   "source": [
    "# Índices Positivos\n",
    "my_str = \"Curso de Backend Python\"\n",
    "print(my_str)\n",
    "print(my_str[0])\n",
    "print(my_str[0:5])\n",
    "print(my_str[:5])\n",
    "print(my_str[:])"
   ]
  },
  {
   "cell_type": "code",
   "execution_count": 7,
   "id": "ac72e3ae-ded4-4ed6-8efc-dff04227e8a5",
   "metadata": {},
   "outputs": [
    {
     "ename": "IndexError",
     "evalue": "string index out of range",
     "output_type": "error",
     "traceback": [
      "\u001b[1;31m---------------------------------------------------------------------------\u001b[0m",
      "\u001b[1;31mIndexError\u001b[0m                                Traceback (most recent call last)",
      "Cell \u001b[1;32mIn[7], line 3\u001b[0m\n\u001b[0;32m      1\u001b[0m \u001b[38;5;66;03m# Error\u001b[39;00m\n\u001b[0;32m      2\u001b[0m my_str \u001b[38;5;241m=\u001b[39m \u001b[38;5;124m\"\u001b[39m\u001b[38;5;124mHello\u001b[39m\u001b[38;5;124m\"\u001b[39m\n\u001b[1;32m----> 3\u001b[0m \u001b[38;5;28mprint\u001b[39m(my_str[\u001b[38;5;241m99\u001b[39m])\n",
      "\u001b[1;31mIndexError\u001b[0m: string index out of range"
     ]
    }
   ],
   "source": [
    "# Error\n",
    "my_str = \"Hello\"\n",
    "print(my_str[99])"
   ]
  },
  {
   "cell_type": "code",
   "execution_count": 10,
   "id": "de92950b-6c71-4f1d-b124-5cda2fae9fa1",
   "metadata": {},
   "outputs": [
    {
     "name": "stdout",
     "output_type": "stream",
     "text": [
      "n\n",
      "Python\n"
     ]
    }
   ],
   "source": [
    "# Índices Negativos\n",
    "my_str = \"Curso de Backend Python\"\n",
    "print(my_str[-1])\n",
    "print(my_str[-6:])"
   ]
  },
  {
   "cell_type": "code",
   "execution_count": 11,
   "id": "5df77776-810a-4184-9327-50380c23e33e",
   "metadata": {},
   "outputs": [
    {
     "name": "stdout",
     "output_type": "stream",
     "text": [
      "1020\n",
      "1020\n",
      "30\n",
      "30\n"
     ]
    }
   ],
   "source": [
    "num_str = \"10\"\n",
    "num_str1 = \"20\"\n",
    "print(num_str+num_str1) # sólo concatena\n",
    "print(eval(num_str+num_str1)) # concatena y después convierte entero\n",
    "print(eval(\"{}+{}\".format(num_str,num_str1))) # formatea y después evalúa\n",
    "print(eval(num_str)+eval(num_str1)) # evalúa individualmente y después suma"
   ]
  },
  {
   "cell_type": "markdown",
   "id": "33dc10eb-4621-4a25-bf8f-9f1d6d5dd8a8",
   "metadata": {},
   "source": [
    "## Multiplicación de Cadenas"
   ]
  },
  {
   "cell_type": "code",
   "execution_count": 12,
   "id": "e6b97db1-ac2e-4a7c-9e4d-a1b18b1507d7",
   "metadata": {},
   "outputs": [
    {
     "name": "stdout",
     "output_type": "stream",
     "text": [
      "cargando...cargando...cargando...cargando...cargando...cargando...\n"
     ]
    }
   ],
   "source": [
    "my_str = \"cargando...\"\n",
    "print(my_str * 6 )"
   ]
  },
  {
   "cell_type": "code",
   "execution_count": 16,
   "id": "edf9ee64-a86f-4733-b924-6fa6ca3a3ff5",
   "metadata": {},
   "outputs": [
    {
     "name": "stdout",
     "output_type": "stream",
     "text": [
      "cargando...\n",
      "cargando...\n",
      "cargando...\n",
      "cargando...\n",
      "cargando...\n",
      "cargando...\n",
      "\n",
      "\n",
      "\n"
     ]
    }
   ],
   "source": [
    "my_str = \"cargando...\\n\"\n",
    "print(my_str * 6 )\n",
    "print(my_str * 0) # 0\n",
    "print(my_str * -3) # vacío"
   ]
  },
  {
   "cell_type": "code",
   "execution_count": 14,
   "id": "a13e6b9a-ec8e-46ef-aef8-658a75b21aca",
   "metadata": {},
   "outputs": [
    {
     "ename": "TypeError",
     "evalue": "can't multiply sequence by non-int of type 'float'",
     "output_type": "error",
     "traceback": [
      "\u001b[1;31m---------------------------------------------------------------------------\u001b[0m",
      "\u001b[1;31mTypeError\u001b[0m                                 Traceback (most recent call last)",
      "Cell \u001b[1;32mIn[14], line 2\u001b[0m\n\u001b[0;32m      1\u001b[0m my_str \u001b[38;5;241m=\u001b[39m \u001b[38;5;124m\"\u001b[39m\u001b[38;5;124mcargando...\u001b[39m\u001b[38;5;124m\"\u001b[39m\n\u001b[1;32m----> 2\u001b[0m \u001b[38;5;28mprint\u001b[39m(my_str \u001b[38;5;241m*\u001b[39m \u001b[38;5;241m6.0\u001b[39m)\n",
      "\u001b[1;31mTypeError\u001b[0m: can't multiply sequence by non-int of type 'float'"
     ]
    }
   ],
   "source": [
    "my_str = \"cargando...\"\n",
    "print(my_str * 6.0)"
   ]
  },
  {
   "cell_type": "markdown",
   "id": "c25857a3-9ba5-419d-81a8-3cc07014bee6",
   "metadata": {},
   "source": [
    "# Funciones de Cadenas"
   ]
  },
  {
   "cell_type": "markdown",
   "id": "5f235b75-6781-4f5c-8174-d6f2dba0dc22",
   "metadata": {},
   "source": [
    "## split()"
   ]
  },
  {
   "cell_type": "code",
   "execution_count": 7,
   "id": "c68fc695-212e-4fb5-a5cf-57fae0bc43ee",
   "metadata": {},
   "outputs": [
    {
     "name": "stdout",
     "output_type": "stream",
     "text": [
      "Date:  2025-01-01\n",
      "Level:  error\n",
      "Message:  Este es el mensaje de error\n",
      "Date:  2025-01-01\n",
      "Level:  warning\n",
      "Message:  Este es el mensaje de advertencia\n",
      "Date:  2025-01-01\n",
      "Level:  info\n",
      "Message:  Este es el mensaje de detalles\n"
     ]
    }
   ],
   "source": [
    "feedback = \"\"\"2025-01-01|error|Este es el mensaje de error\n",
    "2025-01-01|warning|Este es el mensaje de advertencia\n",
    "2025-01-01|info|Este es el mensaje de detalles\"\"\"\n",
    "logs = feedback.split(\"\\n\")\n",
    "# print(logs[0])\n",
    "# print(logs[1])\n",
    "# print(logs[2])\n",
    "for log in logs:\n",
    "    date, log_level, message = log.split(\"|\")\n",
    "    print(\"Date: \", date)\n",
    "    print(\"Level: \", log_level)\n",
    "    print(\"Message: \", message)"
   ]
  },
  {
   "cell_type": "markdown",
   "id": "6c57ed34-0709-4ea7-8214-1d78170bf8e6",
   "metadata": {},
   "source": [
    "## index() / find()"
   ]
  },
  {
   "cell_type": "markdown",
   "id": "e5bbc160-73a6-4e2a-b403-c5a30ce8ea3d",
   "metadata": {},
   "source": [
    "- Retorna el índice o posición dentro de la estructura que coincide con el parámetro buscado"
   ]
  },
  {
   "cell_type": "code",
   "execution_count": 10,
   "id": "81ab06df-dfe8-4a1b-b553-5969ad78bcd6",
   "metadata": {},
   "outputs": [
    {
     "name": "stdout",
     "output_type": "stream",
     "text": [
      "index:  20\n",
      "find:  27\n"
     ]
    }
   ],
   "source": [
    "mystr = \"Esto es un texto de prueba para utilizar index y find\"\n",
    "print(\"index: \", mystr.index(\"prueba\"))\n",
    "print(\"find: \", mystr.find(\"para\"))"
   ]
  },
  {
   "cell_type": "markdown",
   "id": "5b3871de-5c6b-4011-a530-55b355cf4f69",
   "metadata": {},
   "source": [
    "## count()"
   ]
  },
  {
   "cell_type": "markdown",
   "id": "02e5eb2b-32b8-4fa5-b316-a0820cca9013",
   "metadata": {},
   "source": [
    "- Cuenta las veces que aparece el parámetro buscado en la estructura de datos\n"
   ]
  },
  {
   "cell_type": "code",
   "execution_count": 13,
   "id": "2ee0de24-6c89-4339-b99e-6732c0d9d360",
   "metadata": {},
   "outputs": [
    {
     "name": "stdout",
     "output_type": "stream",
     "text": [
      "count:  2\n"
     ]
    }
   ],
   "source": [
    "mystr = \"Esto es un texto de prueba para utilizar count y para ver su funcionamiento\"\n",
    "print(\"count: \", mystr.count(\"para\"))"
   ]
  },
  {
   "cell_type": "code",
   "execution_count": 12,
   "id": "ea8633f3-cd33-45ea-a448-99a907ae1405",
   "metadata": {},
   "outputs": [
    {
     "name": "stdout",
     "output_type": "stream",
     "text": [
      "count:  3\n"
     ]
    }
   ],
   "source": [
    "mynums = [1,1,1,2,2,3]\n",
    "print(\"count: \", mynums.count(1))"
   ]
  },
  {
   "cell_type": "markdown",
   "id": "ac544fe3-dbbc-45f6-8844-d798a67ecef6",
   "metadata": {},
   "source": [
    "## strip()"
   ]
  },
  {
   "cell_type": "markdown",
   "id": "c37c27cc-ee89-40d9-af1c-d3847a385be2",
   "metadata": {},
   "source": [
    "- Quita cualquier tipo de espacio en blanco"
   ]
  },
  {
   "cell_type": "code",
   "execution_count": 18,
   "id": "667d0fbf-6e40-4e8e-9ca7-f91ed779bb23",
   "metadata": {},
   "outputs": [
    {
     "name": "stdout",
     "output_type": "stream",
     "text": [
      "\t\t\t      Esto es un texto de prueba para utilizar strip y ver su comportamiento\n",
      "\n",
      "strip:  Esto es un texto de prueba para utilizar strip y ver su comportamiento\n",
      "[Esto es un texto de prueba para utilizar strip y ver su comportamiento]\n"
     ]
    }
   ],
   "source": [
    "mystr = \"\\t\\t\\t      Esto es un texto de prueba para utilizar strip y ver su comportamiento\\n\"\n",
    "print(mystr)\n",
    "print(\"strip: \", mystr.strip())\n",
    "print(\"[{}]\".format(mystr.strip()))\n"
   ]
  },
  {
   "cell_type": "markdown",
   "id": "8ca0c9cd-4133-45d1-babc-2a0f79d82e71",
   "metadata": {},
   "source": [
    "## isdecimal, isnumeric & isdigit"
   ]
  },
  {
   "cell_type": "code",
   "execution_count": 19,
   "id": "bb04e6f7-d37c-4e77-875f-8e8382ef84cc",
   "metadata": {},
   "outputs": [
    {
     "name": "stdout",
     "output_type": "stream",
     "text": [
      "True\n",
      "False\n",
      "False\n"
     ]
    }
   ],
   "source": [
    "print(\"123\".isdecimal())  # True\n",
    "print(\"½\".isdecimal())    # False\n",
    "print(\"²\".isdecimal())    # False\n"
   ]
  },
  {
   "cell_type": "code",
   "execution_count": 20,
   "id": "6aab275e-eee5-41ed-a835-3173e92f547f",
   "metadata": {},
   "outputs": [
    {
     "name": "stdout",
     "output_type": "stream",
     "text": [
      "True\n",
      "False\n",
      "True\n"
     ]
    }
   ],
   "source": [
    "print(\"123\".isdigit())    # True\n",
    "print(\"½\".isdigit())      # False\n",
    "print(\"²\".isdigit())      # True\n"
   ]
  },
  {
   "cell_type": "code",
   "execution_count": 25,
   "id": "19401c1b-4134-48e3-a06b-85b9a7912953",
   "metadata": {},
   "outputs": [
    {
     "name": "stdout",
     "output_type": "stream",
     "text": [
      "True\n",
      "True\n",
      "True\n"
     ]
    }
   ],
   "source": [
    "print(\"123\".isnumeric())    # True\n",
    "print(\"½\".isnumeric())      # True\n",
    "print(\"²\".isnumeric())      # True"
   ]
  },
  {
   "cell_type": "markdown",
   "id": "7e4cdc4a-d076-4d20-80ca-dfe238b2fb81",
   "metadata": {},
   "source": [
    "## isalnum()"
   ]
  },
  {
   "cell_type": "markdown",
   "id": "5fc9d68a-3548-421c-bee2-8756db91440a",
   "metadata": {},
   "source": [
    "print(\"123abc\".isalnum())    # True"
   ]
  },
  {
   "cell_type": "markdown",
   "id": "2162c1e5-090e-4c76-8110-df873aac5cc4",
   "metadata": {},
   "source": [
    "## isupper()"
   ]
  },
  {
   "cell_type": "code",
   "execution_count": 29,
   "id": "ddfacaf1-cfa8-46bb-9696-2ef6179e672f",
   "metadata": {},
   "outputs": [
    {
     "name": "stdout",
     "output_type": "stream",
     "text": [
      "False\n",
      "False\n",
      "True\n",
      "True\n"
     ]
    }
   ],
   "source": [
    "print(\"test\".isupper()) # False\n",
    "print(\"Test\".isupper()) # False\n",
    "print(\"TEST\".isupper()) # True\n",
    "print(\"123...TEST\".isupper()) # True"
   ]
  },
  {
   "cell_type": "markdown",
   "id": "4ba868bd-2567-444a-a8f8-9dc159fd5296",
   "metadata": {},
   "source": [
    "## islower()"
   ]
  },
  {
   "cell_type": "code",
   "execution_count": 30,
   "id": "d645dc94-f438-4c08-bd83-d2351619a95d",
   "metadata": {},
   "outputs": [
    {
     "name": "stdout",
     "output_type": "stream",
     "text": [
      "True\n",
      "False\n",
      "False\n",
      "True\n"
     ]
    }
   ],
   "source": [
    "print(\"test\".islower()) # True\n",
    "print(\"Test\".islower()) # False\n",
    "print(\"TEST\".islower()) # False\n",
    "print(\"123...test\".islower()) # True"
   ]
  },
  {
   "cell_type": "markdown",
   "id": "32117672-f857-471c-b1b5-adfc6c76f0ac",
   "metadata": {},
   "source": [
    "## join()\n",
    "- Solo funciona con estructuras que contengan String"
   ]
  },
  {
   "cell_type": "markdown",
   "id": "854cd57e-bfb6-4f93-8e38-2873ffd5ca6f",
   "metadata": {},
   "source": [
    "prices = [\"249.99\", \"14.99\",\"33.00\"]\n",
    "separator = \"|\"\n",
    "print(separator.join(prices))"
   ]
  },
  {
   "cell_type": "markdown",
   "id": "5b0a2a82-f118-4f3a-9d57-ed176c6707d7",
   "metadata": {},
   "source": [
    "## center()\n",
    "- toma un valor de caracteres y centra la cadena en la que se invoca dentro de ese tamaño"
   ]
  },
  {
   "cell_type": "code",
   "execution_count": 45,
   "id": "0bd8acd8-0d9e-4c0b-963b-efcea1a45821",
   "metadata": {},
   "outputs": [
    {
     "name": "stdout",
     "output_type": "stream",
     "text": [
      "[                            hola                            ]\n"
     ]
    }
   ],
   "source": [
    "print(\"[{}]\".format(\"hola\".center(60)))"
   ]
  },
  {
   "cell_type": "markdown",
   "id": "144d0067-a452-4448-8eb0-3fb3a24e7045",
   "metadata": {},
   "source": [
    "## endswith()"
   ]
  },
  {
   "cell_type": "code",
   "execution_count": 48,
   "id": "f5524ea4-eb01-498e-8be4-a642c50bb3db",
   "metadata": {},
   "outputs": [
    {
     "name": "stdout",
     "output_type": "stream",
     "text": [
      "True\n",
      "False\n"
     ]
    }
   ],
   "source": [
    "print(\"cadena de prueba\".endswith(\"a\"))\n",
    "print(\"cadena de prueba\".endswith(\"z\"))"
   ]
  },
  {
   "cell_type": "markdown",
   "id": "22d6a88b-40a3-472c-bbdc-18bf21973476",
   "metadata": {},
   "source": [
    "## swapcase()"
   ]
  },
  {
   "cell_type": "code",
   "execution_count": 51,
   "id": "48cc8c03-010a-4bf2-b559-05479fdda35f",
   "metadata": {},
   "outputs": [
    {
     "name": "stdout",
     "output_type": "stream",
     "text": [
      "eSTO vA A cAMBIAR aaahhh!\n"
     ]
    }
   ],
   "source": [
    "print(\"Esto Va a Cambiar AAAHHH!\".swapcase())"
   ]
  },
  {
   "cell_type": "markdown",
   "id": "8d9b08d4-8e65-4506-ac35-9b6af5473f84",
   "metadata": {},
   "source": [
    "## replace()"
   ]
  },
  {
   "cell_type": "code",
   "execution_count": 52,
   "id": "e83ae606-a127-4398-9255-ba02f5a8298c",
   "metadata": {},
   "outputs": [
    {
     "name": "stdout",
     "output_type": "stream",
     "text": [
      "Esta es una prueba de replace\n"
     ]
    }
   ],
   "source": [
    "print(\"Esta es una test de replace\".replace(\"test\", \"prueba\"))"
   ]
  },
  {
   "cell_type": "markdown",
   "id": "6e0b7507-f165-4f2b-8cc0-e52326b1bfd8",
   "metadata": {},
   "source": [
    "## Formateo de cadenas y datetime"
   ]
  },
  {
   "cell_type": "code",
   "execution_count": 54,
   "id": "d22f5ba1-cc88-4e41-8f45-ca64aaeabe58",
   "metadata": {},
   "outputs": [
    {
     "name": "stdout",
     "output_type": "stream",
     "text": [
      "2025-01-17 16:45:35.932943\n"
     ]
    }
   ],
   "source": [
    "from datetime import datetime\n",
    "now = datetime.now()\n",
    "print(now)"
   ]
  },
  {
   "cell_type": "code",
   "execution_count": 57,
   "id": "711d7fc3-c007-4f41-b9a3-5a1b2930f8ed",
   "metadata": {},
   "outputs": [
    {
     "name": "stdout",
     "output_type": "stream",
     "text": [
      "Año:  2025\n",
      "Mes:  01\n",
      "Día:  17\n",
      "Hora:  16:45:35\n"
     ]
    }
   ],
   "source": [
    "year = now.strftime(\"%Y\")\n",
    "month = now.strftime(\"%m\")\n",
    "day = now.strftime(\"%d\")\n",
    "time = now.strftime(\"%H:%M:%S\")\n",
    "print(\"Año: \", year)\n",
    "print(\"Mes: \", month)\n",
    "print(\"Día: \", day)\n",
    "print(\"Hora: \", time)"
   ]
  },
  {
   "cell_type": "markdown",
   "id": "c93691d7-f628-4667-b3d5-2361d24d5542",
   "metadata": {},
   "source": [
    "## Invertir una cadena"
   ]
  },
  {
   "cell_type": "code",
   "execution_count": 2,
   "id": "171acce3-dcd6-4952-abfa-78b8aa56e1c0",
   "metadata": {},
   "outputs": [
    {
     "name": "stdout",
     "output_type": "stream",
     "text": [
      "987654321\n"
     ]
    }
   ],
   "source": [
    "mystr = \"123456789\"\n",
    "print(mystr [::-1])"
   ]
  },
  {
   "cell_type": "code",
   "execution_count": 3,
   "id": "2b826c6e-08e5-44f3-9245-db2740845444",
   "metadata": {},
   "outputs": [
    {
     "name": "stdin",
     "output_type": "stream",
     "text": [
      "escribe una oración:  esta es una oración horrible\n"
     ]
    }
   ],
   "source": [
    "sentence =  input(\"escribe una oración: \")"
   ]
  },
  {
   "cell_type": "code",
   "execution_count": 4,
   "id": "d0c49eab-d608-430f-af9a-852a51dab49a",
   "metadata": {},
   "outputs": [
    {
     "data": {
      "text/plain": [
       "'esta es una oración horrible'"
      ]
     },
     "execution_count": 4,
     "metadata": {},
     "output_type": "execute_result"
    }
   ],
   "source": [
    "sentence"
   ]
  },
  {
   "cell_type": "code",
   "execution_count": 5,
   "id": "d66b73e1-70bb-449c-914a-55947b2b2c77",
   "metadata": {},
   "outputs": [
    {
     "name": "stdout",
     "output_type": "stream",
     "text": [
      "['esta', 'es', 'una', 'oración', 'horrible']\n"
     ]
    }
   ],
   "source": [
    "divided = sentence.split(\" \")\n",
    "print(divided)"
   ]
  },
  {
   "cell_type": "code",
   "execution_count": 7,
   "id": "0d83fbb2-ef62-4721-9463-51b4ff403ed1",
   "metadata": {},
   "outputs": [
    {
     "name": "stdout",
     "output_type": "stream",
     "text": [
      "e\n",
      "s\n",
      "t\n",
      "a\n",
      " \n",
      "e\n",
      "s\n",
      " \n",
      "u\n",
      "n\n",
      "a\n",
      " \n",
      "o\n",
      "r\n",
      "a\n",
      "c\n",
      "i\n",
      "ó\n",
      "n\n",
      " \n",
      "h\n",
      "o\n",
      "r\n",
      "r\n",
      "i\n",
      "b\n",
      "l\n",
      "e\n"
     ]
    }
   ],
   "source": [
    "for word in sentence:\n",
    "    print(word)"
   ]
  },
  {
   "cell_type": "code",
   "execution_count": 8,
   "id": "7d9fefb8-2320-413a-9651-2045c2888ae5",
   "metadata": {},
   "outputs": [
    {
     "name": "stdin",
     "output_type": "stream",
     "text": [
      "Introduce una oración:  Este producto es excelente pero llegó defectuoso.\n"
     ]
    },
    {
     "name": "stdout",
     "output_type": "stream",
     "text": [
      "1\n",
      "0\n",
      "Analizador de sentimientos\n",
      "\n",
      "sentence: Este producto es excelente pero llegó defectuoso.\n",
      "score: 0 \n",
      "resultado: Neutro\n"
     ]
    }
   ],
   "source": [
    "## Ejercicio remover caracteres no alnum y comparar palabras\n",
    "# Palabras positivas y negativas predefinidas\n",
    "positive_words = [\"bueno\", \"excelente\", \"maravilloso\"]\n",
    "negative_words = [\"malo\", \"horrible\", \"defectuoso\"]\n",
    "\n",
    "# Recibir la oración del usuario\n",
    "sentence = input(\"Introduce una oración: \")\n",
    "\n",
    "# Inicializar la variable score y resultado\n",
    "score = 0\n",
    "result = \"\"\n",
    "\n",
    "# Escriba su código a continuación\n",
    "divided = sentence.split(\" \")\n",
    "for word in divided:\n",
    "    temp = ''.join(char for char in word if char.isalnum())\n",
    "    for positive in positive_words:\n",
    "        if temp == positive: \n",
    "            score+=1\n",
    "            print(score)\n",
    "    for negative in negative_words:\n",
    "        if temp == negative:\n",
    "            score-=1\n",
    "            print(score)\n",
    "if score > 0:\n",
    "    result = \"Positivo\"\n",
    "if score < 0:\n",
    "    result = \"Negativo\"\n",
    "if score == 0:\n",
    "    result = \"Neutro\"\n",
    "\n",
    "\n",
    "        \n",
    "# No realice cambios en las líneas siguientes.\n",
    "\n",
    "print(\"Analizador de sentimientos\\n\") \n",
    "print(\"sentence: {}\\nscore: {} \\nresultado: {}\".format(sentence, score, result))"
   ]
  },
  {
   "cell_type": "code",
   "execution_count": null,
   "id": "dc6c96c3-3950-47fa-a587-f542d84b35c3",
   "metadata": {},
   "outputs": [],
   "source": []
  }
 ],
 "metadata": {
  "kernelspec": {
   "display_name": "Python 3 (ipykernel)",
   "language": "python",
   "name": "python3"
  },
  "language_info": {
   "codemirror_mode": {
    "name": "ipython",
    "version": 3
   },
   "file_extension": ".py",
   "mimetype": "text/x-python",
   "name": "python",
   "nbconvert_exporter": "python",
   "pygments_lexer": "ipython3",
   "version": "3.12.7"
  }
 },
 "nbformat": 4,
 "nbformat_minor": 5
}
