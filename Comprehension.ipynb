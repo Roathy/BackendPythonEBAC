{
 "cells": [
  {
   "cell_type": "markdown",
   "id": "eba00f91-05a8-4c68-8a05-aff22769f073",
   "metadata": {},
   "source": [
    "# Qué es comprehension\n",
    "- Es la forma que tiene python para integrar procesos y acciones en expresiones concretas y abstractas"
   ]
  },
  {
   "cell_type": "markdown",
   "id": "d73e7a2d-825a-434a-b302-dab748741072",
   "metadata": {},
   "source": [
    "## Implementación estándar con un ciclo for"
   ]
  },
  {
   "cell_type": "code",
   "execution_count": 2,
   "id": "9c2b6c2a-c109-48df-995c-b39674398958",
   "metadata": {},
   "outputs": [
    {
     "name": "stdout",
     "output_type": "stream",
     "text": [
      "Números pares hasta llegar a 20.\n",
      "0\n",
      "2\n",
      "4\n",
      "6\n",
      "8\n",
      "10\n",
      "12\n",
      "14\n",
      "16\n",
      "18\n"
     ]
    }
   ],
   "source": [
    "print(\"Números pares hasta llegar a 20.\")\n",
    "for number in range(20):\n",
    "    if number%2==0:\n",
    "        print(\"{}\".format(number))"
   ]
  },
  {
   "cell_type": "markdown",
   "id": "a7e8cab2-455a-4469-b1e9-8ffa8419e393",
   "metadata": {},
   "source": [
    "## Implementación utilizando comprehension"
   ]
  },
  {
   "cell_type": "markdown",
   "id": "352ebc17-d0bb-4573-9ca2-c97763311a1c",
   "metadata": {},
   "source": [
    "## list"
   ]
  },
  {
   "cell_type": "code",
   "execution_count": 6,
   "id": "daf5577c-e3e5-4396-b1d5-0d06d2996d09",
   "metadata": {},
   "outputs": [
    {
     "name": "stdout",
     "output_type": "stream",
     "text": [
      "Números impares hasta llegar al 20.\n",
      "[1, 3, 5, 7, 9, 11, 13, 15, 17, 19]\n"
     ]
    }
   ],
   "source": [
    "print(\"Números impares hasta llegar al 20.\")\n",
    "impares = [number for number in range(20) if number%2!=0]\n",
    "print(impares)"
   ]
  },
  {
   "cell_type": "markdown",
   "id": "0319f401-2e9a-47e7-bf71-3138399fb3d6",
   "metadata": {},
   "source": [
    "## dict"
   ]
  },
  {
   "cell_type": "code",
   "execution_count": 8,
   "id": "fafbe04f-c3a3-4481-9ade-065f87f71ca6",
   "metadata": {},
   "outputs": [
    {
     "name": "stdout",
     "output_type": "stream",
     "text": [
      "Factorial.\n",
      "{0: 1, 1: 1, 2: 2, 3: 6, 4: 24, 5: 120, 6: 720, 7: 5040}\n"
     ]
    }
   ],
   "source": [
    "import math\n",
    "print(\"Factorial.\")\n",
    "factoriales = {x: math.factorial(x) for x in range(8)}\n",
    "print(factoriales)"
   ]
  },
  {
   "cell_type": "code",
   "execution_count": 11,
   "id": "cd5f58a4-1664-4f46-9a29-6834e1dafc6a",
   "metadata": {},
   "outputs": [
    {
     "name": "stdout",
     "output_type": "stream",
     "text": [
      "Factoriales que son impares.\n",
      "{1: 1, 3: 6, 5: 120, 7: 5040, 9: 362880}\n"
     ]
    }
   ],
   "source": [
    "print(\"Factoriales que son impares.\")\n",
    "oddFactoriales = {x: math.factorial(x) for x in range(10) if x%2!=0}\n",
    "print(oddFactoriales)"
   ]
  },
  {
   "cell_type": "markdown",
   "id": "ae3f55c8-9840-43c7-837f-69fe138ce276",
   "metadata": {},
   "source": [
    "# Declaraciones Condicionales"
   ]
  },
  {
   "cell_type": "markdown",
   "id": "939557d5-f2ea-4c6a-9a9c-fc0134ded13b",
   "metadata": {},
   "source": [
    "## if | if else | if elif else"
   ]
  },
  {
   "cell_type": "code",
   "execution_count": 14,
   "id": "6dfc1483-ef96-4de7-a88e-26f69a14393b",
   "metadata": {},
   "outputs": [
    {
     "name": "stdout",
     "output_type": "stream",
     "text": [
      "alternative option\n",
      "end of program\n"
     ]
    }
   ],
   "source": [
    "if 1 > 10:\n",
    "    print(\"first validation\")\n",
    "else:\n",
    "    print(\"alternative option\")\n",
    "print(\"end of program\")"
   ]
  },
  {
   "cell_type": "code",
   "execution_count": 17,
   "id": "39478641-1ca6-4c32-9ef8-6e3afc6fb1df",
   "metadata": {},
   "outputs": [
    {
     "name": "stdout",
     "output_type": "stream",
     "text": [
      "i think you are old\n"
     ]
    }
   ],
   "source": [
    "age = 260\n",
    "if age > 9 and age < 18:\n",
    "    print(\"you are so young\")\n",
    "elif age > 18 and age < 40:\n",
    "    print(\"you are not so young\")\n",
    "else:\n",
    "    print(\"i think you are old\")"
   ]
  },
  {
   "cell_type": "markdown",
   "id": "bdfee22e-43ad-4ef7-b479-bb37926a7809",
   "metadata": {},
   "source": [
    "## Pruebas de afiliación\n",
    "- in\n",
    "- not it"
   ]
  },
  {
   "cell_type": "code",
   "execution_count": 24,
   "id": "fb87de07-a016-44dc-90ec-ed366b8c7849",
   "metadata": {},
   "outputs": [
    {
     "name": "stdout",
     "output_type": "stream",
     "text": [
      "True\n",
      "False\n",
      "True\n",
      "False\n"
     ]
    }
   ],
   "source": [
    "# S T R I N G\n",
    "phrase = \"esta es una oración de prueba para afiliación en python\"\n",
    "print(\"esta\" in phrase)\n",
    "print(\"comedor\" in phrase)\n",
    "print(\"tortilla\" not in phrase)\n",
    "print(\"en\" not in phrase)"
   ]
  },
  {
   "cell_type": "code",
   "execution_count": 26,
   "id": "8f8364b6-e382-4f4a-9e05-dc7571132bcf",
   "metadata": {},
   "outputs": [
    {
     "ename": "TypeError",
     "evalue": "argument of type 'int' is not iterable",
     "output_type": "error",
     "traceback": [
      "\u001b[1;31m---------------------------------------------------------------------------\u001b[0m",
      "\u001b[1;31mTypeError\u001b[0m                                 Traceback (most recent call last)",
      "Cell \u001b[1;32mIn[26], line 3\u001b[0m\n\u001b[0;32m      1\u001b[0m \u001b[38;5;66;03m# N U M B E R S\u001b[39;00m\n\u001b[0;32m      2\u001b[0m numero \u001b[38;5;241m=\u001b[39m \u001b[38;5;241m31416\u001b[39m\n\u001b[1;32m----> 3\u001b[0m \u001b[38;5;28mprint\u001b[39m(\u001b[38;5;241m3\u001b[39m \u001b[38;5;129;01min\u001b[39;00m numero)\n\u001b[0;32m      4\u001b[0m \u001b[38;5;28mprint\u001b[39m(\u001b[38;5;241m9\u001b[39m \u001b[38;5;129;01min\u001b[39;00m numero)\n",
      "\u001b[1;31mTypeError\u001b[0m: argument of type 'int' is not iterable"
     ]
    }
   ],
   "source": [
    "# N U M B E R S\n",
    "numero = 31416\n",
    "print(3 in numero)\n",
    "print(9 in numero)"
   ]
  },
  {
   "cell_type": "code",
   "execution_count": 27,
   "id": "00876a0c-396d-4a2d-b15c-e50e72a099d1",
   "metadata": {},
   "outputs": [
    {
     "name": "stdout",
     "output_type": "stream",
     "text": [
      "True\n",
      "True\n"
     ]
    }
   ],
   "source": [
    "# T U P L A\n",
    "myTuple = \"a\", \"b\", \"c\", \"d\", \"e\"\n",
    "print(\"a\" in myTuple)\n",
    "print(\"z\" not in myTuple)"
   ]
  },
  {
   "cell_type": "code",
   "execution_count": 28,
   "id": "01e27bec-e238-4bbc-8308-567a4ddb2ee7",
   "metadata": {},
   "outputs": [
    {
     "name": "stdout",
     "output_type": "stream",
     "text": [
      "True\n",
      "True\n"
     ]
    }
   ],
   "source": [
    "# S E T\n",
    "mySet = {\"a\", \"b\", \"c\", \"d\", \"e\"}\n",
    "print(\"d\" in mySet)\n",
    "print(\"z\" not in mySet)"
   ]
  },
  {
   "cell_type": "code",
   "execution_count": 29,
   "id": "270140f0-bdc4-4efd-89b6-bff6c55758bc",
   "metadata": {},
   "outputs": [],
   "source": [
    "# D I C T I O N A R Y"
   ]
  },
  {
   "cell_type": "code",
   "execution_count": 32,
   "id": "531ec568-9f69-44da-8903-427b7c3a83dc",
   "metadata": {},
   "outputs": [
    {
     "name": "stdout",
     "output_type": "stream",
     "text": [
      "True\n",
      "True\n",
      "False\n",
      "True\n"
     ]
    }
   ],
   "source": [
    "myDixi = {1: \"a\", 2: \"b\", 3: \"c\"}\n",
    "print(1 in myDixi)\n",
    "print(100 not in myDixi)\n",
    "print(\"a\" in myDixi) # no lo encuentra porque busca en las llaves por default\n",
    "print(\"a\" in myDixi.values()) # ahora que estamos pasando los valores sí lo encuentra"
   ]
  },
  {
   "cell_type": "code",
   "execution_count": null,
   "id": "0c462608-cb62-434a-ab5e-65c9e24f5b13",
   "metadata": {},
   "outputs": [],
   "source": []
  }
 ],
 "metadata": {
  "kernelspec": {
   "display_name": "Python 3 (ipykernel)",
   "language": "python",
   "name": "python3"
  },
  "language_info": {
   "codemirror_mode": {
    "name": "ipython",
    "version": 3
   },
   "file_extension": ".py",
   "mimetype": "text/x-python",
   "name": "python",
   "nbconvert_exporter": "python",
   "pygments_lexer": "ipython3",
   "version": "3.12.7"
  }
 },
 "nbformat": 4,
 "nbformat_minor": 5
}
