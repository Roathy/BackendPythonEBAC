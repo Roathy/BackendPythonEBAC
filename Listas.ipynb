{
 "cells": [
  {
   "cell_type": "markdown",
   "id": "ac1ff0e3-3ef8-4693-90e0-6bea736e98ff",
   "metadata": {},
   "source": [
    "# Diferentes formas de crear listas"
   ]
  },
  {
   "cell_type": "code",
   "execution_count": 1,
   "id": "0bc15867-24a7-4c66-8173-4a7fe084bb0a",
   "metadata": {},
   "outputs": [
    {
     "name": "stdout",
     "output_type": "stream",
     "text": [
      "[3, 3, 3, 3, 3]\n"
     ]
    }
   ],
   "source": [
    "myList = [3] * 5\n",
    "print(myList)"
   ]
  },
  {
   "cell_type": "code",
   "execution_count": 2,
   "id": "c33c8e0b-d5c4-4aa3-a117-32e5cfd8541c",
   "metadata": {},
   "outputs": [
    {
     "name": "stdout",
     "output_type": "stream",
     "text": [
      "[1, 2, 3, 4, 5]\n"
     ]
    }
   ],
   "source": [
    "myList = [1,2,3,4,5]\n",
    "print(myList)"
   ]
  },
  {
   "cell_type": "code",
   "execution_count": 3,
   "id": "d829a646-e9b7-4a70-909a-401d37fe67ff",
   "metadata": {},
   "outputs": [
    {
     "name": "stdout",
     "output_type": "stream",
     "text": [
      "[0, 1, 2, 3, 4, 5, 6, 7, 8, 9]\n"
     ]
    }
   ],
   "source": [
    "myList = []\n",
    "for number in range(10):\n",
    "    myList.append(number)\n",
    "print(myList)"
   ]
  },
  {
   "cell_type": "code",
   "execution_count": 4,
   "id": "3970cdfb-73b4-426c-90d6-13b52b2a7ea1",
   "metadata": {},
   "outputs": [
    {
     "name": "stdout",
     "output_type": "stream",
     "text": [
      "[0, 1, 2, 3, 4, 5, 6, 7, 8, 9]\n"
     ]
    }
   ],
   "source": [
    "myList = []\n",
    "for number in range(10):\n",
    "    myList+= [number]\n",
    "print(myList)"
   ]
  },
  {
   "cell_type": "markdown",
   "id": "40a27f68-6088-4ad1-8bc4-5ef83259606f",
   "metadata": {},
   "source": [
    "# Sublistas"
   ]
  },
  {
   "cell_type": "code",
   "execution_count": 14,
   "id": "40d3fbac-d3fe-4fdb-8743-40eb468b0c72",
   "metadata": {},
   "outputs": [
    {
     "name": "stdout",
     "output_type": "stream",
     "text": [
      "[3, 4, 5, 6, 7]\n",
      "[11, 12, 13]\n",
      "[15, 16, 17]\n",
      "[]\n",
      "[3, 4, 5, 6, 7, 8, 9, 10, 11, 12, 13, 14, 15, 16, 17]\n",
      "[3, 4, 5, 6, 7, 8, 9, 10, 11, 12, 13, 14, 15, 16]\n"
     ]
    }
   ],
   "source": [
    "myList = [number for number in range(3,18)]\n",
    "sublist = myList[:5]\n",
    "print(sublist)\n",
    "sublist = myList[8: 11]\n",
    "print(sublist)\n",
    "sublist = myList[12:]\n",
    "print(sublist)\n",
    "sublist = myList[600:]\n",
    "print(sublist)\n",
    "sublist = myList[:len(myList)-1]\n",
    "print(myList)\n",
    "print(sublist)"
   ]
  },
  {
   "cell_type": "code",
   "execution_count": 21,
   "id": "d4e35054-0d71-49f4-863f-ee1776a7cd0f",
   "metadata": {},
   "outputs": [
    {
     "name": "stdout",
     "output_type": "stream",
     "text": [
      "[1, 2, 3, 4]\n",
      "[2, 4, 6, 8, 10, 12, 14, 16, 18]\n"
     ]
    }
   ],
   "source": [
    "myList = [*range(1,5,1)]\n",
    "print(myList)\n",
    "myList = [*range(2, 20, 2)]\n",
    "print(myList)"
   ]
  },
  {
   "cell_type": "code",
   "execution_count": 23,
   "id": "2cb74256-894b-4678-a6f1-429e1c56d3e1",
   "metadata": {},
   "outputs": [
    {
     "name": "stdout",
     "output_type": "stream",
     "text": [
      "[ 2  4  6  8 10 12 14 16 18]\n",
      "[2, 4, 6, 8, 10, 12, 14, 16, 18]\n"
     ]
    }
   ],
   "source": [
    "import numpy as np\n",
    "myList = np.arange(2,20,2)\n",
    "print(myList)\n",
    "print(myList.tolist())"
   ]
  },
  {
   "cell_type": "markdown",
   "id": "69b8321d-f897-4bb5-82c4-b91a54ba2314",
   "metadata": {},
   "source": [
    "## Listas anidadas"
   ]
  },
  {
   "cell_type": "code",
   "execution_count": 25,
   "id": "eb65c875-80fd-48ca-9795-9c5f5604cd4b",
   "metadata": {},
   "outputs": [
    {
     "name": "stdout",
     "output_type": "stream",
     "text": [
      "5\n",
      "6\n"
     ]
    }
   ],
   "source": [
    "myList = [[1,3,5], [2,4,6]]\n",
    "print(myList[0][2])\n",
    "print(myList[1][2])"
   ]
  },
  {
   "cell_type": "markdown",
   "id": "a14e7662-fbd4-4bb8-82de-3e8fb15eb24d",
   "metadata": {},
   "source": [
    "## Ordenado de Listas"
   ]
  },
  {
   "cell_type": "code",
   "execution_count": 28,
   "id": "b834d983-28b3-4ece-960f-7f08982686bd",
   "metadata": {},
   "outputs": [
    {
     "name": "stdout",
     "output_type": "stream",
     "text": [
      "[4, 6, 1, 7, 3, 8, 1, 9]\n",
      "[1, 1, 3, 4, 6, 7, 8, 9]\n",
      "[9, 8, 7, 6, 4, 3, 1, 1]\n"
     ]
    }
   ],
   "source": [
    "myList = [4,6,1,7,3,8,1,9]\n",
    "print(myList)\n",
    "myList.sort()\n",
    "print(myList)\n",
    "myList.sort(reverse=True)\n",
    "print(myList)"
   ]
  },
  {
   "cell_type": "code",
   "execution_count": 29,
   "id": "f7858e49-041f-4ef1-a068-436b862b9482",
   "metadata": {},
   "outputs": [
    {
     "name": "stdout",
     "output_type": "stream",
     "text": [
      "['italian', 'restaurant', 'tomato', 'xochitl']\n",
      "['xochitl', 'tomato', 'restaurant', 'italian']\n"
     ]
    }
   ],
   "source": [
    "myWords = [\"tomato\", \"restaurant\", \"italian\", \"xochitl\"]\n",
    "myWords.sort()\n",
    "print(myWords)\n",
    "myWords.sort(reverse=True)\n",
    "print(myWords)"
   ]
  },
  {
   "cell_type": "markdown",
   "id": "9ce04d9e-ed6e-4979-b5ba-3ae95da5dbd3",
   "metadata": {},
   "source": [
    "## Conversión de Listas\n",
    "### Cadenas a Listas"
   ]
  },
  {
   "cell_type": "code",
   "execution_count": 37,
   "id": "73c18ced-3935-4e01-8afd-6c669fc44ad0",
   "metadata": {},
   "outputs": [
    {
     "name": "stdout",
     "output_type": "stream",
     "text": [
      "['hola', 'mundo,', 'cómo', 'están,', 'qué', 'haciendo,', 'adiós.']\n",
      "['h', 'o', 'l', 'a', ' ', 'm', 'u', 'n', 'd', 'o', ',', ' ', 'c', 'ó', 'm', 'o', ' ', 'e', 's', 't', 'á', 'n', ',', ' ', 'q', 'u', 'é', ' ', 'h', 'a', 'c', 'i', 'e', 'n', 'd', 'o', ',', ' ', 'a', 'd', 'i', 'ó', 's', '.']\n",
      "[['h', 'o', 'l', 'a'], ['m', 'u', 'n', 'd', 'o', ','], ['c', 'ó', 'm', 'o'], ['e', 's', 't', 'á', 'n', ','], ['q', 'u', 'é'], ['h', 'a', 'c', 'i', 'e', 'n', 'd', 'o', ','], ['a', 'd', 'i', 'ó', 's', '.']]\n"
     ]
    }
   ],
   "source": [
    "phrase = \"hola mundo, cómo están, qué haciendo, adiós.\"\n",
    "listOfLists = []\n",
    "print(phrase.split())\n",
    "print(list(phrase))\n",
    "for word in phrase.split():\n",
    "    listOfLists.append(list(word))\n",
    "print(listOfLists)"
   ]
  },
  {
   "cell_type": "code",
   "execution_count": 39,
   "id": "d3286d15-4445-43b3-8b68-9a167a92073a",
   "metadata": {},
   "outputs": [
    {
     "name": "stdout",
     "output_type": "stream",
     "text": [
      "[['h'], ['o'], ['l'], ['a'], [' '], ['m'], ['u'], ['n'], ['d'], ['o'], [','], [' '], ['c'], ['ó'], ['m'], ['o'], [' '], ['e'], ['s'], ['t'], ['á'], ['n'], [','], [' '], ['q'], ['u'], ['é'], [' '], ['h'], ['a'], ['c'], ['i'], ['e'], ['n'], ['d'], ['o'], [','], [' '], ['a'], ['d'], ['i'], ['ó'], ['s'], ['.']]\n"
     ]
    }
   ],
   "source": [
    "# uso de map\n",
    "phrase = \"hola mundo, cómo están, qué haciendo, adiós.\"\n",
    "print(list(map(list, phrase)))"
   ]
  },
  {
   "cell_type": "markdown",
   "id": "4b010a9f-9405-4396-94db-ba2249634098",
   "metadata": {},
   "source": [
    "### Listas a Cadenas"
   ]
  },
  {
   "cell_type": "code",
   "execution_count": 46,
   "id": "ce2b23d9-9c15-41f6-aa1d-ae0ae84ebf71",
   "metadata": {},
   "outputs": [
    {
     "name": "stdout",
     "output_type": "stream",
     "text": [
      "['esta', 'es', 'una', 'oración', 'segmentada', 'en', 'palabras']\n",
      "esta|es|una|oración|segmentada|en|palabras\n"
     ]
    }
   ],
   "source": [
    "words = [\"esta\", \"es\", \"una\",\"oración\",\"segmentada\", \"en\",\"palabras\"]\n",
    "print(words)\n",
    "phrase = \"|\".join(words)\n",
    "print(phrase)"
   ]
  },
  {
   "cell_type": "markdown",
   "id": "7d2d1e06-1132-4520-95dd-6eb64cb71567",
   "metadata": {},
   "source": [
    "### Creación de listas con valores de entrada"
   ]
  },
  {
   "cell_type": "code",
   "execution_count": 50,
   "id": "642d8293-5c35-474e-adaf-dfdb8c178795",
   "metadata": {},
   "outputs": [
    {
     "name": "stdin",
     "output_type": "stream",
     "text": [
      "ingresa valores separados por espacio:  esta es una oración con 7 palabras.\n"
     ]
    },
    {
     "name": "stdout",
     "output_type": "stream",
     "text": [
      "['est', ' es un', ' or', 'ción con 7 p', 'l', 'br', 's.']\n"
     ]
    }
   ],
   "source": [
    "phrase = input(\"ingresa valores separados por espacio: \")\n",
    "phraseInList = phrase.split(\"a\")\n",
    "print(phraseInList)"
   ]
  },
  {
   "cell_type": "markdown",
   "id": "be54f270-9151-4d5f-9dc0-a70fbf3f0407",
   "metadata": {},
   "source": [
    "## Manipulación de listas"
   ]
  },
  {
   "cell_type": "markdown",
   "id": "bf95c52d-5aae-4877-8005-eb928cbbbf30",
   "metadata": {},
   "source": [
    "### insert()"
   ]
  },
  {
   "cell_type": "code",
   "execution_count": 53,
   "id": "26cbce74-b6be-42f1-908d-0433e12f0d46",
   "metadata": {},
   "outputs": [
    {
     "name": "stdout",
     "output_type": "stream",
     "text": [
      "['old', 'old', 'old', 'old', 'old']\n",
      "['old', 'old', 'new', 'old', 'old', 'old']\n",
      "['old', 'old', 'new', 'old', 'old', 'new', 'old']\n"
     ]
    }
   ],
   "source": [
    "myList = [\"old\", \"old\", \"old\", \"old\", \"old\"]\n",
    "print(myList)\n",
    "myList.insert(2, \"new\")\n",
    "print(myList)\n",
    "myList.insert(len(myList)-1, \"new\")\n",
    "print(myList)"
   ]
  },
  {
   "cell_type": "markdown",
   "id": "fc811bff-5f6f-41a9-8b6f-4ecc2620aea2",
   "metadata": {},
   "source": [
    "## copy()"
   ]
  },
  {
   "cell_type": "code",
   "execution_count": 2,
   "id": "df4a1eef-c62d-4995-84a2-67e44e1d1f0f",
   "metadata": {},
   "outputs": [
    {
     "name": "stdout",
     "output_type": "stream",
     "text": [
      "[]\n",
      "[]\n",
      "['one', 'two', 'three', 'four', 'five']\n"
     ]
    }
   ],
   "source": [
    "myList = [\"one\", \"two\", \"three\", \"four\", \"five\"]\n",
    "assigned = myList # se asigna el mismo espacio en memori\n",
    "copy = myList.copy() # se crea un nuevo objeto y se asigna en la variable copy\n",
    "myList.clear() # clear borra el espacio en memoria asignado a esta variable\n",
    "print(myList)\n",
    "print(assigned) # assigned al apuntar al mismo espacio ahora se encuentra vacío\n",
    "print(copy) # copy no se ve afectado porque es otra dirección"
   ]
  },
  {
   "cell_type": "markdown",
   "id": "b6bd3a43-6149-486b-baaf-1c777ea3a4ec",
   "metadata": {},
   "source": [
    "## count()"
   ]
  },
  {
   "cell_type": "code",
   "execution_count": 3,
   "id": "52128220-9e84-4e6b-8317-3f7d6a09d38c",
   "metadata": {},
   "outputs": [
    {
     "name": "stdout",
     "output_type": "stream",
     "text": [
      "[100, 200, 300, 400, 100, 500, 600, 100, 700]\n"
     ]
    }
   ],
   "source": [
    "myList = [100, 200, 300, 400, 100, 500, 600, 100, 700]\n",
    "print(myList)"
   ]
  },
  {
   "cell_type": "code",
   "execution_count": 4,
   "id": "a5cddf29-2693-49aa-9daf-bfb10e7b4434",
   "metadata": {},
   "outputs": [
    {
     "name": "stdout",
     "output_type": "stream",
     "text": [
      "El valor 100 aparece 3 veces en la lista.\n"
     ]
    }
   ],
   "source": [
    "print(\"El valor 100 aparece {} veces en la lista.\".format(myList.count(100)))"
   ]
  },
  {
   "cell_type": "code",
   "execution_count": 6,
   "id": "64a8b611-79eb-4923-89c3-3aba5c648369",
   "metadata": {},
   "outputs": [
    {
     "name": "stdout",
     "output_type": "stream",
     "text": [
      "El número 700 aparece 1 veces en la lista.\n"
     ]
    }
   ],
   "source": [
    "print(\"El número 700 aparece {} veces en la lista.\".format(myList.count(700)))"
   ]
  },
  {
   "cell_type": "markdown",
   "id": "2412c4b6-9831-4ed1-b2a6-f49458f89dd4",
   "metadata": {},
   "source": [
    "## index()"
   ]
  },
  {
   "cell_type": "code",
   "execution_count": 7,
   "id": "75a076d2-6e06-457f-ba81-c7b17759777d",
   "metadata": {},
   "outputs": [
    {
     "name": "stdout",
     "output_type": "stream",
     "text": [
      "El valor 300 aparece por primera vez en el índice 2.\n"
     ]
    }
   ],
   "source": [
    "myList = [100,200,300,400,300,500,300,600,300,700, 300]\n",
    "print(\"El valor 300 aparece por primera vez en el índice {}.\".format(myList.index(300)))"
   ]
  },
  {
   "cell_type": "markdown",
   "id": "529cb070-a00e-4471-a63a-081f51f9a1d9",
   "metadata": {},
   "source": [
    "## extend()"
   ]
  },
  {
   "cell_type": "code",
   "execution_count": 9,
   "id": "a7656b05-d814-42fc-a7a5-cfc9aeef3e30",
   "metadata": {},
   "outputs": [
    {
     "name": "stdout",
     "output_type": "stream",
     "text": [
      "['perro', 'gato', 'hamster', 'ballena', 'dinosaurio', 'raptor', 'tigre']\n",
      "['ballena', 'dinosaurio', 'raptor', 'tigre', 'perro', 'gato', 'hamster', 'ballena', 'dinosaurio', 'raptor', 'tigre']\n"
     ]
    }
   ],
   "source": [
    "myList = [\"perro\", \"gato\", \"hamster\"]\n",
    "additional = [\"ballena\", \"dinosaurio\", \"raptor\", \"tigre\"]\n",
    "myList.extend(additional) # modifica la lista agregándole los valores de la lista proporcionada\n",
    "print(myList)\n",
    "additional.extend(myList)\n",
    "print(additional)"
   ]
  },
  {
   "cell_type": "markdown",
   "id": "48ab5635-6f0c-4323-b26a-23185e333ab2",
   "metadata": {},
   "source": [
    "## pop()\n",
    "- Elimina el valor tomando como referencia el índice."
   ]
  },
  {
   "cell_type": "code",
   "execution_count": 10,
   "id": "3bde2681-7c04-4c2a-968f-11b6172c38d5",
   "metadata": {},
   "outputs": [
    {
     "name": "stdout",
     "output_type": "stream",
     "text": [
      "0\n",
      "[1, 2, 3, 4, 5, 6, 7, 8, 9]\n",
      "3\n",
      "[1, 2, 4, 5, 6, 7, 8, 9]\n"
     ]
    }
   ],
   "source": [
    "myList = [1,2,3,4,5,6,7,8,9,0]\n",
    "lastItem = myList.pop()\n",
    "print(lastItem)\n",
    "print(myList)\n",
    "secondIndexValue = myList.pop(2)\n",
    "print(secondIndexValue)\n",
    "print(myList)"
   ]
  },
  {
   "cell_type": "markdown",
   "id": "7cbab17d-1de5-4222-8795-e51102e3cef6",
   "metadata": {},
   "source": [
    "## remove()\n",
    "- Elimina de la lista la primera ocurrencia del valor pasado."
   ]
  },
  {
   "cell_type": "code",
   "execution_count": 13,
   "id": "00561e52-f895-47e8-a764-50c7b3b87822",
   "metadata": {},
   "outputs": [
    {
     "name": "stdout",
     "output_type": "stream",
     "text": [
      "[10, 122, 23, 43, 57, 136, 63, 76, 900]\n"
     ]
    }
   ],
   "source": [
    "myNums = [10, 122, 23, 43, 57, 136, 63, 76]\n",
    "# myNums.remove(900) # rompe el programa porque la lista no tiene el valor que se quiere quitar\n",
    "if 900 in myNums:\n",
    "    myNums.remove(900)\n",
    "else:\n",
    "    myNums.append(900)\n",
    "print(myNums)"
   ]
  },
  {
   "cell_type": "markdown",
   "id": "500f1cc9-6b16-4b5a-9dae-919ef9874a9e",
   "metadata": {},
   "source": [
    "## reverse()"
   ]
  },
  {
   "cell_type": "code",
   "execution_count": 17,
   "id": "5a07b06e-9079-456e-a91f-0971332014c5",
   "metadata": {},
   "outputs": [
    {
     "name": "stdout",
     "output_type": "stream",
     "text": [
      "['hola', 'cosa', 'otra', 'palabra']\n"
     ]
    }
   ],
   "source": [
    "myWords = [ \"palabra\", \"otra\", \"cosa\", \"hola\"]\n",
    "myWords.reverse()\n",
    "print(myWords)"
   ]
  },
  {
   "cell_type": "markdown",
   "id": "5af9be40-38cc-4259-9738-5e01ce45f0b5",
   "metadata": {},
   "source": [
    "## sort()\n",
    "- Por el ejemplo parece que signos > números > mayúsculas > minúsculas"
   ]
  },
  {
   "cell_type": "code",
   "execution_count": 22,
   "id": "0f39fc07-581a-405f-ae9b-8d92b0bca729",
   "metadata": {},
   "outputs": [
    {
     "name": "stdout",
     "output_type": "stream",
     "text": [
      "['$', '&', '0', '99', 'SOME', 'WORDS', 'and', 'numbers', 'some', 'words']\n"
     ]
    }
   ],
   "source": [
    "myWords = [\"some\", \"SOME\", \"WORDS\", \"words\",\"&\", \"and\",\"$\", \"numbers\", \"0\", \"99\"]\n",
    "myWords.sort()\n",
    "print(myWords)"
   ]
  },
  {
   "cell_type": "markdown",
   "id": "f234db6b-7f15-4f22-9896-b16aad1de4ef",
   "metadata": {},
   "source": [
    "## Generar índice aleatorio"
   ]
  },
  {
   "cell_type": "code",
   "execution_count": 47,
   "id": "d2dec3e8-33d2-41a1-aec1-f3c8d1725cd9",
   "metadata": {},
   "outputs": [
    {
     "name": "stdout",
     "output_type": "stream",
     "text": [
      "montaña\n",
      "c\n"
     ]
    }
   ],
   "source": [
    "import random\n",
    "myWords = [\"tiburón\", \"casa\", \"sopa\", \"carro\", \"montaña\"]\n",
    "print(random.choice(myWords))\n",
    "phrase = \"esta es una frase de prueba para probar sacar uno de los caracteres de forma aleatoria.\"\n",
    "print(random.choice(phrase))"
   ]
  },
  {
   "cell_type": "markdown",
   "id": "ec033728-583d-46b7-be88-7d554b1f626a",
   "metadata": {},
   "source": [
    "# Tupla"
   ]
  },
  {
   "cell_type": "code",
   "execution_count": 48,
   "id": "16128df9-a260-4fde-9036-a5bdcf28e09b",
   "metadata": {},
   "outputs": [
    {
     "name": "stdout",
     "output_type": "stream",
     "text": [
      "('primer valor', 'segundo valor', 999, 99.99, True)\n",
      "primer valor segundo valor 999 99.99 True\n"
     ]
    }
   ],
   "source": [
    "myTupla = (\"primer valor\", \"segundo valor\", 999, 99.99, True)\n",
    "print(myTupla)\n",
    "primerVal, segundoVal, cantidad, cantidadDos, validacion = myTupla\n",
    "print(primerVal, segundoVal, cantidad, cantidadDos, validacion)"
   ]
  },
  {
   "cell_type": "code",
   "execution_count": 49,
   "id": "902cdc33-342e-49c5-b8ec-136d563f9637",
   "metadata": {},
   "outputs": [
    {
     "name": "stdout",
     "output_type": "stream",
     "text": [
      "('algo', 'algo más', 0.99, False)\n"
     ]
    }
   ],
   "source": [
    "autoTupla = \"algo\", \"algo más\", 0.99, False\n",
    "print(autoTupla)"
   ]
  },
  {
   "cell_type": "code",
   "execution_count": 50,
   "id": "4bc5e870-61e7-4eb2-a5c6-c0d727b93b0a",
   "metadata": {},
   "outputs": [
    {
     "name": "stdout",
     "output_type": "stream",
     "text": [
      "('algo', 'nuevo', 'ahora', 'cambia')\n"
     ]
    }
   ],
   "source": [
    "# conversión a tupla\n",
    "myList = [\"algo\", \"nuevo\", \"ahora\", \"cambia\"]\n",
    "convertidoTuple = tuple(myList)\n",
    "print(convertidoTuple)"
   ]
  },
  {
   "cell_type": "markdown",
   "id": "c5f015f9-9648-46b4-8348-2d2ff3c2e95d",
   "metadata": {},
   "source": [
    "## Métodos en Tuplas\n",
    "- sorted(): convierte la tupla en una lista"
   ]
  },
  {
   "cell_type": "markdown",
   "id": "659f1562-5ef6-4f28-8079-b64a7b39dc1e",
   "metadata": {},
   "source": [
    "myTupla = \"solo\", \"cadenas\", \"de\", \"caracteres\",  \"para\", \"usar\", \"sorted\"\n",
    "print(myTupla)\n",
    "sortedVar = sorted(myTupla)\n",
    "print(sortedVar) # ahora es una lista\n",
    "sortedTup = tuple(sortedVar)\n",
    "print(sortedTup) # ahora es una tupla ordenada"
   ]
  },
  {
   "cell_type": "code",
   "execution_count": 55,
   "id": "d1876ead-8b70-4586-a6c0-f6cd9022a7ed",
   "metadata": {},
   "outputs": [
    {
     "name": "stdout",
     "output_type": "stream",
     "text": [
      "[1, 1, 3, 5, 6, 7, 9]\n"
     ]
    }
   ],
   "source": [
    "myNumTup = 7,1,9,3,6,1,5\n",
    "print(sorted(myNumTup))"
   ]
  },
  {
   "cell_type": "code",
   "execution_count": 65,
   "id": "1cc078c7-9ffa-452f-8553-7342e813e727",
   "metadata": {},
   "outputs": [
    {
     "name": "stdout",
     "output_type": "stream",
     "text": [
      "True\n",
      "False\n",
      "True\n",
      "True\n",
      "False\n"
     ]
    }
   ],
   "source": [
    "strTup = \"palabra\", \"otra\", \"para\", \"cocina\", \"visita\"\n",
    "print(all(strTup))\n",
    "strTup = \"palabra\", \"otra\", \"para\", \"cocina\", \"\"\n",
    "print(all(strTup))\n",
    "numTup = 1, 1.1, 3, 99, 49.99\n",
    "print(all(numTup))\n",
    "numTup = 1, 1.1, 3, -1, 99, 49.99, -99\n",
    "print(all(numTup))\n",
    "numTup = 1, 1.1, 3, -1, 99, 49.99, 0\n",
    "print(all(numTup))"
   ]
  },
  {
   "cell_type": "markdown",
   "id": "0c355afc-7a9a-49fa-afa3-9a20d2b9269d",
   "metadata": {},
   "source": [
    "## any()"
   ]
  },
  {
   "cell_type": "code",
   "execution_count": 66,
   "id": "216bc417-4bff-4285-b24b-fecb283b89ef",
   "metadata": {},
   "outputs": [
    {
     "name": "stdout",
     "output_type": "stream",
     "text": [
      "False\n",
      "True\n"
     ]
    }
   ],
   "source": [
    "strTup = \"\", \"\", \"\", \"\", \"\"\n",
    "print(any(strTup))\n",
    "strTup = \"\", \"\", \"\", \"cocina\", \"\"\n",
    "print(any(strTup))"
   ]
  },
  {
   "cell_type": "code",
   "execution_count": 67,
   "id": "8f6dbeab-bd52-4b76-9019-d2b6cba1782e",
   "metadata": {},
   "outputs": [
    {
     "name": "stdout",
     "output_type": "stream",
     "text": [
      "5\n"
     ]
    }
   ],
   "source": [
    "print(len(strTup))"
   ]
  },
  {
   "cell_type": "markdown",
   "id": "23b72211-45ab-4dd4-abea-15b5c54dbce5",
   "metadata": {},
   "source": [
    "## Indexación de tuplas"
   ]
  },
  {
   "cell_type": "code",
   "execution_count": 70,
   "id": "fef3c4d5-a41a-4861-ab56-0012ee7a4089",
   "metadata": {},
   "outputs": [
    {
     "name": "stdout",
     "output_type": "stream",
     "text": [
      "palabra\n",
      "visita\n",
      "para\n"
     ]
    }
   ],
   "source": [
    "strTup = \"palabra\", \"otra\", \"para\", \"cocina\", \"visita\"\n",
    "print(strTup[0])\n",
    "print(strTup[-1])\n",
    "print(strTup[2])"
   ]
  },
  {
   "cell_type": "markdown",
   "id": "5db7da8f-20f8-4da3-bb96-14f4a4310c9f",
   "metadata": {},
   "source": [
    "## String & List -> Tupla"
   ]
  },
  {
   "cell_type": "code",
   "execution_count": 71,
   "id": "c754f618-4435-4c4b-b50f-6fa365e9dd16",
   "metadata": {},
   "outputs": [
    {
     "name": "stdout",
     "output_type": "stream",
     "text": [
      "('e', 's', 't', 'a', ' ', 'e', 's', ' ', 'u', 'n', 'a', ' ', 'c', 'a', 'd', 'e', 'n', 'a', ' ', 'd', 'e', ' ', 'c', 'a', 'r', 'a', 'c', 't', 'e', 'r', 'e', 's')\n",
      "('esta', 'es', 'una', 'lista', 'de', 'strings')\n"
     ]
    }
   ],
   "source": [
    "phrase = \"esta es una cadena de caracteres\"\n",
    "myList = [\"esta\", \"es\", \"una\", \"lista\", \"de\", \"strings\"]\n",
    "print(tuple(phrase))\n",
    "print(tuple(myList))"
   ]
  },
  {
   "cell_type": "markdown",
   "id": "96b0412a-3576-40e0-9d51-a483916912aa",
   "metadata": {},
   "source": [
    "## Tupla -> String & List"
   ]
  },
  {
   "cell_type": "code",
   "execution_count": 75,
   "id": "367e77b0-bf8c-42ba-a35b-e76775a70300",
   "metadata": {},
   "outputs": [
    {
     "name": "stdout",
     "output_type": "stream",
     "text": [
      "estatuplatienestringsyya\n",
      "esta tupla tiene strings y ya\n",
      "['esta', 'tupla', 'tiene', 'strings', 'y', 'ya']\n"
     ]
    }
   ],
   "source": [
    "myTup = (\"esta\", \"tupla\", \"tiene\", \"strings\", \"y\", \"ya\")\n",
    "print(\"\".join(myTup)) # uniendo elemento a elemento\n",
    "print(\" \".join(myTup)) # uniendo elemento a espacio en blanco a elemento\n",
    "print(list(myTup)) # conviertiendo a una lista"
   ]
  },
  {
   "cell_type": "markdown",
   "id": "c4558530-4cb8-4c95-9933-6ef46d27af47",
   "metadata": {},
   "source": [
    "## list vs tuple"
   ]
  },
  {
   "cell_type": "markdown",
   "id": "6e0efd4d-2ced-45d4-824a-0b291f77d71f",
   "metadata": {},
   "source": [
    "- Las listas se utilizan principalmente con elementos homogéneos\n",
    "- Las listas son mutables\n",
    "- Las listas tienen un impacto ligeramente mayor en rendimiento al ser consultadas\n",
    "- Las tuplas por lo general contienen valores heterogéneos\n",
    "- Las tuplas son inmutables\n",
    "- Las tuplas son más eficientes "
   ]
  },
  {
   "cell_type": "code",
   "execution_count": null,
   "id": "95af02e6-e50c-4cc5-a9ca-ead23cccfa29",
   "metadata": {},
   "outputs": [],
   "source": []
  }
 ],
 "metadata": {
  "kernelspec": {
   "display_name": "Python 3 (ipykernel)",
   "language": "python",
   "name": "python3"
  },
  "language_info": {
   "codemirror_mode": {
    "name": "ipython",
    "version": 3
   },
   "file_extension": ".py",
   "mimetype": "text/x-python",
   "name": "python",
   "nbconvert_exporter": "python",
   "pygments_lexer": "ipython3",
   "version": "3.12.7"
  }
 },
 "nbformat": 4,
 "nbformat_minor": 5
}
