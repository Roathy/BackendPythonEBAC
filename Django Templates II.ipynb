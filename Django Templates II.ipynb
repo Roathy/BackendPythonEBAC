{
 "cells": [
  {
   "cell_type": "markdown",
   "id": "baade933-6038-4740-a97b-35671e6df853",
   "metadata": {},
   "source": [
    "# Django Templates II"
   ]
  },
  {
   "cell_type": "markdown",
   "id": "327d0585-250c-42aa-99e3-95e86a0fab4b",
   "metadata": {},
   "source": [
    "## Filtros en los templates"
   ]
  },
  {
   "cell_type": "code",
   "execution_count": null,
   "id": "fa552def-e2e0-4085-8a3c-22516f2c7dfd",
   "metadata": {},
   "outputs": [],
   "source": [
    "python manage.py startapp templates_examples"
   ]
  },
  {
   "cell_type": "markdown",
   "id": "9d445990-a520-46bb-8db1-04d3e14e0184",
   "metadata": {},
   "source": [
    "### src/templates_examples/settings.py"
   ]
  },
  {
   "cell_type": "code",
   "execution_count": null,
   "id": "04ea0aff-03f1-4114-b9bd-8dbe14c174d7",
   "metadata": {},
   "outputs": [],
   "source": [
    "# Application definitions\n",
    "INSTALLED_APPS = [\n",
    "    \"templates_examples.apps.TemplatesExamplesConfig\", # <-------\n",
    "    ...\n",
    "]"
   ]
  },
  {
   "cell_type": "markdown",
   "id": "32b46415-a255-4222-812a-b96a9806405b",
   "metadata": {},
   "source": [
    "### src/templates_examples/urls.py"
   ]
  },
  {
   "cell_type": "code",
   "execution_count": null,
   "id": "a847099e-e29d-4035-855d-9db6656fd753",
   "metadata": {},
   "outputs": [],
   "source": [
    "urlpatterns = [\n",
    "    path(\"templates-examples/\", include(\"templates_examples.urls\")), # <-------\n",
    "    ...\n",
    "]"
   ]
  },
  {
   "cell_type": "markdown",
   "id": "1cbd94af-c6b1-422f-81f4-a15053687194",
   "metadata": {},
   "source": [
    "### src/templates_examples/urls.py"
   ]
  },
  {
   "cell_type": "code",
   "execution_count": null,
   "id": "b634d396-138c-4165-8b33-17288937c305",
   "metadata": {},
   "outputs": [],
   "source": [
    "from django.urls import path\n",
    "from .views import template_view\n",
    "\n",
    "urlpatterns = [\n",
    "    path(\"\", template_view, name=\"template_view\"),\n",
    "]"
   ]
  },
  {
   "cell_type": "markdown",
   "id": "05c6f830-44b3-4894-8c4d-8e0ee9baad61",
   "metadata": {},
   "source": [
    "### src/templates_examples/views.py"
   ]
  },
  {
   "cell_type": "code",
   "execution_count": null,
   "id": "c56f0e4a-d9df-4fb2-804c-f2d2442ab025",
   "metadata": {},
   "outputs": [],
   "source": [
    "from django.shortcuts import render\n",
    "\n",
    "from datetime import datetime\n",
    "\n",
    "backpack_content = [\n",
    "    \"Laptop\",\n",
    "    \"Charger\",\n",
    "    \"Notebook\",\n",
    "    \"Pen\",\n",
    "    \"Headphones\",\n",
    "    \"Water Bottle\",\n",
    "    \"Snacks\",\n",
    "    \"Sunglasses\",\n",
    "]\n",
    "\n",
    "fruits = [\n",
    "    \"Apple\",\n",
    "    \"Banana\",\n",
    "    \"Cherry\",\n",
    "    \"Date\",\n",
    "    \"Peach\",\n",
    "    \"Pineapple\",\n",
    "    \"Strawberry\",\n",
    "    \"Watermelon\",\n",
    "    \"Mango\",\n",
    "    \"Grapes\",\n",
    "    \"Blueberry\",\n",
    "    \"Kiwi\",\n",
    "    \"Papaya\",\n",
    "    \"Orange\",\n",
    "]\n",
    "\n",
    "def template_view(request):\n",
    "    context = {\n",
    "        \"view_title\": \"Template View Example\",\n",
    "        \"view_description\": \"This is an example of a template view.\",\n",
    "        \"view_int\": 60,\n",
    "        \"view_date\": datetime.now().today,\n",
    "        \"backpack_content\": backpack_content,\n",
    "        \"fruits\": fruits,\n",
    "    }\n",
    "    template = \"templates_examples/example_1.html\"\n",
    "    return render(request, template, context)"
   ]
  },
  {
   "cell_type": "markdown",
   "id": "7d250151-6855-4a4f-894d-b0e0d15b77cb",
   "metadata": {},
   "source": [
    "### src/templates/templates_examples/example_1.html"
   ]
  },
  {
   "cell_type": "code",
   "execution_count": null,
   "id": "ebb77190-d83f-4547-8873-1e687c99e3b3",
   "metadata": {},
   "outputs": [],
   "source": [
    "<h1>{{ view_title |title }}</h1>\n",
    "<p>{{ view_description |upper }}</p>\n",
    "\n",
    "<p>View Int: {{ view_int |add:1000000}}</p>\n",
    "\n",
    "<!--\n",
    "Día de la semana\n",
    "Número de día del mes\n",
    "Mes del año\n",
    "Número de mes del año\n",
    "Año\n",
    "Hora\n",
    "pm/am\n",
    "-->\n",
    "\n",
    "<p>View Date: {{ view_date |date:\"D d M m Y f a\"}}\n",
    "\n",
    "<style>\n",
    "    .bold {\n",
    "        font-weight: bold;\n",
    "    }\n",
    "</style>\n",
    "\n",
    "<ul>\n",
    "    {% for item in backpack_content%}\n",
    "    <li {% if forloop.counter|add:1|divisibleby:2 %} class=\"bold\" {% endif %}>\n",
    "        {{ forloop.counter }} - {{ item |title}}\n",
    "    </li>\n",
    "    {% endfor %}\n",
    "</ul>\n",
    "\n",
    "<ul>\n",
    "    {% for fruit in fruits %}\n",
    "    <li {% if forloop.counter|divisibleby:2 %} class=\"bold\" {% endif %}>\n",
    "        {{ forloop.counter}} - {{ fruit }}\n",
    "    </li>\n",
    "    {% endfor %}\n",
    "</ul>    \n",
    "\n",
    "<ul>\n",
    "    {% for fruit in fruits %}\n",
    "    <li class=\"{% cycle \"\" \"\" \"bold\" %}\">\n",
    "        {{ forloop.counter}} - {{ fruit }}\n",
    "    </li>\n",
    "    {% endfor %}\n",
    "</ul>"
   ]
  },
  {
   "cell_type": "markdown",
   "id": "0a295c2b-c7e4-4f6e-96c2-f5f052e3df07",
   "metadata": {},
   "source": [
    "## Herencia en Templates"
   ]
  },
  {
   "cell_type": "markdown",
   "id": "37b60915-678c-468e-8526-9b19d8b39363",
   "metadata": {},
   "source": [
    "### src/templates/templates_examples/messages.html"
   ]
  },
  {
   "cell_type": "code",
   "execution_count": null,
   "id": "dd3436c9-df6b-459a-8813-87fc060a3928",
   "metadata": {},
   "outputs": [],
   "source": [
    "{% if messages %}\n",
    "<ul class=\"messages\">\n",
    "    {% for message in messages %}\n",
    "    <li {% if message.tags %} class=\"{{message.tags}}\" {% endif %}>{{ message }}</li>\n",
    "    {% endfor %}\n",
    "</ul>\n",
    "{% endif %}"
   ]
  },
  {
   "cell_type": "markdown",
   "id": "10270bf0-6c91-4b26-a7ab-eb0130aba2ff",
   "metadata": {},
   "source": [
    "### src/templates/templates_examples/base.html"
   ]
  },
  {
   "cell_type": "code",
   "execution_count": null,
   "id": "27871e33-671b-43bc-919e-ff69f50764a5",
   "metadata": {},
   "outputs": [],
   "source": [
    "<!DOCTYPE html>\n",
    "<html>\n",
    "<head>\n",
    "    <title>\n",
    "         {% block title %}\n",
    "         default\n",
    "        {% endblock title %}\n",
    "    </title>\n",
    "\n",
    "    <style>\n",
    "        .bold {\n",
    "             font-weight: bold;\n",
    "        }\n",
    "    </style>\n",
    "</head>\n",
    "\n",
    "    <body>\n",
    "        {% include \"Templates_examples/messages.html\" %}\n",
    "\n",
    "        {% block content %}\n",
    "        Contenido de base.html\n",
    "        {% endblock content %}\n",
    "    </body>\n",
    "</html>"
   ]
  },
  {
   "cell_type": "markdown",
   "id": "a554db8d-131c-4228-b729-a577bd79c1a0",
   "metadata": {},
   "source": [
    "### src/templates/templates_examples/example_2.html"
   ]
  },
  {
   "cell_type": "code",
   "execution_count": null,
   "id": "5f683d2c-21d4-4015-85ee-3b1a4ee076e4",
   "metadata": {},
   "outputs": [],
   "source": [
    "{% extends \"templates_examples/base.html\" %}\n",
    "\n",
    "{% block title %}over{% endblock title %}\n",
    "\n",
    "{% block content %}\n",
    "    Contenido del bloque content de example_2.html\n",
    "{% endblock content %}"
   ]
  },
  {
   "cell_type": "markdown",
   "id": "ef994ffd-27d3-4447-91e1-25d9bacaf5f9",
   "metadata": {},
   "source": [
    "### src/templates_examples/views.py"
   ]
  },
  {
   "cell_type": "code",
   "execution_count": null,
   "id": "219c0e18-8ba3-4177-b105-a3509d6bc4db",
   "metadata": {},
   "outputs": [],
   "source": [
    "from django.shortcuts import render\n",
    "from datetime import datetime\n",
    "from django.contrib import messages\n",
    "\n",
    "def template_view(request):\n",
    "    context = {\n",
    "        \"view_title\": \"Template View Example\",\n",
    "        \"view_description\": \"This is an example of a template view.\",\n",
    "        \"view_int\": 60,\n",
    "        \"view_date\": datetime.now().today,\n",
    "    }\n",
    "    messages.add_message(request, messages.INFO, \"Mensaje de prueba No. 1\")\n",
    "    messages.add_message(request, messages.INFO, \"Mensaje de prueba No. 2\")\n",
    "\n",
    "    template = \"templates_examples/example_2.html\"\n",
    "    \n",
    "    return render(request, template, context)"
   ]
  },
  {
   "cell_type": "markdown",
   "id": "8794460d-b612-4847-a764-23c3a5935f1e",
   "metadata": {},
   "source": [
    "## Include con variables en Django Templates"
   ]
  },
  {
   "cell_type": "markdown",
   "id": "b9f2b395-016a-4acd-94c7-ce0cd9543a75",
   "metadata": {},
   "source": [
    "### src/templates/templates_examples/object-details.html"
   ]
  },
  {
   "cell_type": "code",
   "execution_count": null,
   "id": "b0f12254-7d18-4480-8c13-f9d908b94642",
   "metadata": {},
   "outputs": [],
   "source": [
    "{% block title %}Vista de detalle{% endblock title %}\n",
    "\n",
    "{{ object_title }}\n",
    "\n",
    "<br/>\n",
    "\n",
    "{{ price }}\n",
    "\n",
    "<br/>\n",
    "\n",
    "{{ created_at }}"
   ]
  },
  {
   "cell_type": "markdown",
   "id": "89862590-7a63-42b9-b8a4-d3c0e8cedade",
   "metadata": {},
   "source": [
    "### src/templates/templates_examples/details-view.html"
   ]
  },
  {
   "cell_type": "code",
   "execution_count": null,
   "id": "57d7c7b7-d609-45d6-afad-0548dbf0c2e4",
   "metadata": {},
   "outputs": [],
   "source": [
    "{% extends \"templates_examples/base.html\" %}\n",
    "\n",
    "{% block content %}\n",
    "    {% include \"templates_examples/object-details.html\" with object_title=\"Producto X\" price=399.99 created_at=today %}\n",
    "{% endblock content %}"
   ]
  },
  {
   "cell_type": "markdown",
   "id": "407816fa-ee8f-410b-8cbd-d6e6ac9ca93c",
   "metadata": {},
   "source": [
    "### src/templates_examples/views.py"
   ]
  },
  {
   "cell_type": "code",
   "execution_count": null,
   "id": "5807e5ad-f462-4b8c-9f89-7afc3aebf373",
   "metadata": {},
   "outputs": [],
   "source": [
    "from django.shortcuts import render\n",
    "from datetime import datetime\n",
    "from django.contrib import messages\n",
    "\n",
    "def template_view(request):\n",
    "    backpack_content = [\n",
    "        \"Laptop\",\n",
    "        \"Charger\",\n",
    "        \"Notebook\",\n",
    "        \"Pen\",\n",
    "        \"Headphones\",\n",
    "        \"Water Bottle\",\n",
    "        \"Snacks\",\n",
    "        \"Sunglasses\",\n",
    "    ]\n",
    "    context = {\n",
    "        \"view_title\": \"THIS IS TITLE\",\n",
    "        \"view_value\": 699.99,\n",
    "        \"view_date\": datetime.now().today(),\n",
    "        \"backpack_content\": backpack_content,\n",
    "    }\n",
    "\n",
    "    template = \"templates_examples/details-view.html\"\n",
    "\n",
    "    messages.add_message(request, messages.INFO, \"Mensaje de prueba No. 1\")\n",
    "    messages.add_message(request, messages.INFO, \"Mensaje de prueba No. 2\")"
   ]
  },
  {
   "cell_type": "code",
   "execution_count": null,
   "id": "5466ca10-4f0f-474a-baa5-3184e5dbc4fc",
   "metadata": {},
   "outputs": [],
   "source": []
  },
  {
   "cell_type": "code",
   "execution_count": null,
   "id": "da360fa2-7d3b-4ed4-88b8-636720e67119",
   "metadata": {},
   "outputs": [],
   "source": []
  },
  {
   "cell_type": "code",
   "execution_count": null,
   "id": "c38b0323-856a-4bba-b328-c65193fca5c1",
   "metadata": {},
   "outputs": [],
   "source": []
  },
  {
   "cell_type": "code",
   "execution_count": null,
   "id": "db38dde3-9af2-4f97-be37-66b888b1b480",
   "metadata": {},
   "outputs": [],
   "source": []
  },
  {
   "cell_type": "code",
   "execution_count": null,
   "id": "36dc056d-8541-49e2-b8bc-c673613426e2",
   "metadata": {},
   "outputs": [],
   "source": []
  },
  {
   "cell_type": "code",
   "execution_count": null,
   "id": "cb90a8f0-c0aa-438f-b526-2ba6cd19b471",
   "metadata": {},
   "outputs": [],
   "source": []
  },
  {
   "cell_type": "code",
   "execution_count": null,
   "id": "7c54ad10-83a3-4448-9b05-7e77d58c19c2",
   "metadata": {},
   "outputs": [],
   "source": []
  },
  {
   "cell_type": "code",
   "execution_count": null,
   "id": "cab72d98-d9e6-4909-9060-2abcedeaf7b4",
   "metadata": {},
   "outputs": [],
   "source": []
  },
  {
   "cell_type": "code",
   "execution_count": null,
   "id": "a69719e3-d851-4f47-a9d5-1ebc7f52cc74",
   "metadata": {},
   "outputs": [],
   "source": []
  },
  {
   "cell_type": "code",
   "execution_count": null,
   "id": "5ef5a45d-05ef-433a-8bd6-ae1d09d8959c",
   "metadata": {},
   "outputs": [],
   "source": []
  },
  {
   "cell_type": "code",
   "execution_count": null,
   "id": "195c9292-ed63-4c40-866e-718de6614d1c",
   "metadata": {},
   "outputs": [],
   "source": []
  },
  {
   "cell_type": "code",
   "execution_count": null,
   "id": "96900ca7-ec72-4d4d-9ddb-a4fe51f99f3a",
   "metadata": {},
   "outputs": [],
   "source": []
  },
  {
   "cell_type": "code",
   "execution_count": null,
   "id": "eb522404-4507-40fd-98a1-7e736b0fe426",
   "metadata": {},
   "outputs": [],
   "source": []
  },
  {
   "cell_type": "code",
   "execution_count": null,
   "id": "a9428e8f-f184-4923-a081-b618e5fe4b06",
   "metadata": {},
   "outputs": [],
   "source": []
  },
  {
   "cell_type": "code",
   "execution_count": null,
   "id": "7f2de12d-3d4c-48ed-b377-92817dcb73f8",
   "metadata": {},
   "outputs": [],
   "source": []
  },
  {
   "cell_type": "code",
   "execution_count": null,
   "id": "d4a16d36-7440-4bc4-9910-53ae0e60fa0d",
   "metadata": {},
   "outputs": [],
   "source": []
  },
  {
   "cell_type": "code",
   "execution_count": null,
   "id": "06bd4b75-93e8-43c3-b0ba-6c07b980e736",
   "metadata": {},
   "outputs": [],
   "source": []
  },
  {
   "cell_type": "code",
   "execution_count": null,
   "id": "00582734-2593-44eb-9656-8d95f6969343",
   "metadata": {},
   "outputs": [],
   "source": []
  },
  {
   "cell_type": "code",
   "execution_count": null,
   "id": "b6e9481f-62ea-41f3-884a-bf230dd498f8",
   "metadata": {},
   "outputs": [],
   "source": []
  },
  {
   "cell_type": "code",
   "execution_count": null,
   "id": "66b9bd04-5c7d-46a3-9da9-79ebe103e5b7",
   "metadata": {},
   "outputs": [],
   "source": []
  },
  {
   "cell_type": "code",
   "execution_count": null,
   "id": "5184f870-836a-4d6c-932c-79caf5dabd37",
   "metadata": {},
   "outputs": [],
   "source": []
  }
 ],
 "metadata": {
  "kernelspec": {
   "display_name": "Python [conda env:base] *",
   "language": "python",
   "name": "conda-base-py"
  },
  "language_info": {
   "codemirror_mode": {
    "name": "ipython",
    "version": 3
   },
   "file_extension": ".py",
   "mimetype": "text/x-python",
   "name": "python",
   "nbconvert_exporter": "python",
   "pygments_lexer": "ipython3",
   "version": "3.12.7"
  }
 },
 "nbformat": 4,
 "nbformat_minor": 5
}
