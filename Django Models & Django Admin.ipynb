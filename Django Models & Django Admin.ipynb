{
 "cells": [
  {
   "cell_type": "markdown",
   "id": "11b528b3-4d09-42e3-a90a-f9c20443a050",
   "metadata": {},
   "source": [
    "## Hacer cambios en modelos\n",
    "makemigrations genera el archivo para la migración\n",
    "migrate implementa los cambios"
   ]
  },
  {
   "cell_type": "code",
   "execution_count": null,
   "id": "a5ccea19-1fa6-4b82-8a19-831c8b5c6298",
   "metadata": {},
   "outputs": [],
   "source": [
    "python manage.py makemigrations\n",
    "python manage.py migrate"
   ]
  },
  {
   "cell_type": "markdown",
   "id": "d94611e4-f080-40ac-a56e-2d2f61c565a8",
   "metadata": {},
   "source": [
    "## Borrar Migraciones y Compresión de Migraciones\n",
    "Migration_Number es la cantidad de migraciones que vamos a agrupar"
   ]
  },
  {
   "cell_type": "code",
   "execution_count": null,
   "id": "58f74090-847b-4a5f-8f47-2838915d1ec7",
   "metadata": {},
   "outputs": [],
   "source": [
    "python manage.py squashmigrations <App_Label> <Migration_Number>"
   ]
  },
  {
   "cell_type": "code",
   "execution_count": null,
   "id": "a265e115-c145-43e6-ba56-9feee11f70ce",
   "metadata": {},
   "outputs": [],
   "source": [
    "python manage.py squashmigrations ecommerce 0003"
   ]
  },
  {
   "cell_type": "markdown",
   "id": "915c9eb4-034d-41ef-b372-c5fdb13dc178",
   "metadata": {},
   "source": [
    "### Guardando datos usando el shell de Python"
   ]
  },
  {
   "cell_type": "code",
   "execution_count": null,
   "id": "e582a71c-41d6-48c9-8caf-378e3a744b8b",
   "metadata": {},
   "outputs": [],
   "source": [
    "python manage.py shell"
   ]
  },
  {
   "cell_type": "code",
   "execution_count": null,
   "id": "f6fe7daa-2bbf-4432-ac51-2c61234c735e",
   "metadata": {},
   "outputs": [],
   "source": [
    "from ecommerce.models import ProductModel\n",
    "ProductModel.objects.create(title=\"from shell\", price=999)\n",
    "ProductModel.objects.create(title=\"second from shell\", price=999, description=\"testing creation from shell\")"
   ]
  },
  {
   "cell_type": "markdown",
   "id": "5ba3e845-25b4-4411-aec8-b79020476e35",
   "metadata": {},
   "source": [
    "### Queryset es la lista que contiene todos los objetos almacenados para el modelo especificado"
   ]
  },
  {
   "cell_type": "code",
   "execution_count": null,
   "id": "aadae844-cdd1-46f7-89de-6b8431e37c49",
   "metadata": {},
   "outputs": [],
   "source": [
    "queryset = ProductModel.objects.all()\n",
    "qs = ProductModel.objects.al()"
   ]
  },
  {
   "cell_type": "markdown",
   "id": "f44fd7f5-8b51-4c9b-bbb9-e1e8782036b4",
   "metadata": {},
   "source": [
    "### objects.get\n",
    "### save()\n",
    "### delete()"
   ]
  },
  {
   "cell_type": "markdown",
   "id": "07f1c647-4498-414d-8dd5-00ea68146204",
   "metadata": {},
   "source": [
    "## Validación de Campos en los Modelos\n",
    "### ecommerce/validators.py"
   ]
  },
  {
   "cell_type": "code",
   "execution_count": null,
   "id": "6ff4f475-120e-4732-a112-09ccaf62ae38",
   "metadata": {},
   "outputs": [],
   "source": [
    "from django.core.exceptions import ValidationError\n",
    "BLOCKED_WORDS = [\n",
    "    \"barato\",\n",
    "    \"malo\"\n",
    "]\n",
    "\n",
    "def validate_blocked_words(value):\n",
    "    init_string = f\"{value}\".lower()\n",
    "    unique_words = set(init_string.split())\n",
    "    blocked_words = set(BLOCKED_WORDS)\n",
    "    invalid_words = (unique_words & blocked_words)\n",
    "    has_error = len(invalid_words > 0)\n",
    "    if has_error:\n",
    "        errors = []\n",
    "         for i, invalid_word in enumerate(invalid_words):\n",
    "            msg = \"{} es una palabara no permitida\".format(invalid_word)\n",
    "            errors.append(msg)\n",
    "        raise ValidationError(errors)\n",
    "    return value"
   ]
  },
  {
   "cell_type": "markdown",
   "id": "72ee1d57-aab6-429d-b613-b055dfeb899c",
   "metadata": {},
   "source": [
    "### ecommerce/models.py"
   ]
  },
  {
   "cell_type": "code",
   "execution_count": null,
   "id": "1f8eac0d-27bf-4414-852d-c7635403014f",
   "metadata": {},
   "outputs": [],
   "source": [
    "from django.db import models\n",
    "\n",
    "from .validators import validate_blocked_words\n",
    "\n",
    "class ProductModel(models.Model):\n",
    "    title = models.TextField()\n",
    "    price = models.FloatField()\n",
    "    description = models.TextField()\n",
    "\n",
    "    def save(self, *args, **kwargs):\n",
    "        validate_blocked_words(self.title)\n",
    "        super().save(*args, **kwargs)"
   ]
  },
  {
   "cell_type": "markdown",
   "id": "3198d821-e544-4496-9e93-7defc584da93",
   "metadata": {},
   "source": [
    "### Cómo agregar opciones a los campos de nuestros modelos"
   ]
  },
  {
   "cell_type": "code",
   "execution_count": null,
   "id": "8f4a9ab4-66f4-498e-a002-8cb7b4ca6481",
   "metadata": {},
   "outputs": [],
   "source": [
    "from django.db import models\n",
    "\n",
    "from .validators import validate__blocked_words\n",
    "\n",
    "# [(VALOR_EN_DB, VALOR_PARA_USUARIO)]\n",
    "PUBLISH_STATE_CHOICES = [\n",
    "    (\"BR\", \"BORRADOR\"),\n",
    "    (\"PU\", \"PUBLICO\"),\n",
    "    (\"PR\", \"PRIVADO\"),\n",
    "]\n",
    "\n",
    "class ProductModel(models.Model):\n",
    "    state = models.CharField(max_length=2, choices=PUBLISH_STATE_CHOICES, default=\"BR\")\n",
    "\n",
    "    def is_published(self):\n",
    "        return self.state == \"PU\""
   ]
  },
  {
   "cell_type": "markdown",
   "id": "b8024c5f-aa76-44b7-8425-f7e493248440",
   "metadata": {},
   "source": [
    "### Cómo agregar opcions avanzadas a los campos de nuestros modelos"
   ]
  },
  {
   "cell_type": "code",
   "execution_count": null,
   "id": "abad5b54-67ac-497a-a3bc-48a2eb51972e",
   "metadata": {},
   "outputs": [],
   "source": [
    "from django.db import models\n",
    "\n",
    "from .validators import validate_blocked_words\n",
    "\n",
    "class ProductModel(models.Model):\n",
    "    class ProductStateOptions(models.TextChoices):\n",
    "        PUBLISHED = \"PU\", \"PUBLICO\"\n",
    "        DRAFT = \"BR\", \"BORRADOR\"\n",
    "        PRIVATE = \"PR\", \"PRIVADO\"\n",
    "\n",
    "    state = models.CharField(max_length=2, choices=ProductsStateOptions.choices, default=ProductStateOptions.DRAFT)\n",
    "\n",
    "    def is_published(self):\n",
    "        return self.state == ProductsStateOptions.PUBLISEHD"
   ]
  },
  {
   "cell_type": "markdown",
   "id": "6c18aead-5742-4678-9b54-08de8f658f0c",
   "metadata": {},
   "source": [
    "## Modelo Abstracto como base"
   ]
  },
  {
   "cell_type": "markdown",
   "id": "56531a58-1957-46d7-83f7-28970e7d50fc",
   "metadata": {},
   "source": [
    "### base/models.py"
   ]
  },
  {
   "cell_type": "code",
   "execution_count": null,
   "id": "94318cc3-8330-45e7-8f18-eb8f630e3a2f",
   "metadata": {},
   "outputs": [],
   "source": [
    "from django.db import models\n",
    "from django.utils import timezone\n",
    "\n",
    "class BasePublishModel(models.Model):\n",
    "    class PublishStateOptions(models.TextChoices):\n",
    "        PUBLISHED = \"PU\", \"PUBLICO\"\n",
    "        DRAFT = \"BR\", \"BORRADOR\"\n",
    "        PRIVATE = \"PR\", \"PRIVADO\"\n",
    "    \n",
    "    state = models.CharField(max_length=2, choices=PublishStateOptions.choices, default=PublishStateOptions.DRAFT)\n",
    "    timestamp = models.DateTimeField(auto_now_add=True)\n",
    "    updated = models.DateTimeField(auto_now_add=True)\n",
    "    publish_timestamp = models.DateTimeField(auto_now_add=False, auto_now=False, null=True)\n",
    "\n",
    "    class Meta:\n",
    "        abstract = True\n",
    "        ordering = [\"-updated\", \"-timestamp\"]\n",
    "\n",
    "    @property\n",
    "    def state_is_published(self):\n",
    "        return self.state == self.PublishStateOptions.PUBLISHED\n",
    "\n",
    "    def save(self, *args, **kwargs):\n",
    "        if self.state_is_published and self.publish_timestamp is None:\n",
    "            self.publish_timestamp = timezone.now()\n",
    "        else:\n",
    "            self.publish_timestamp = None\n",
    "        super(*args, **kwargs)\n",
    "\n",
    "    def is_published(self):\n",
    "        publish_timestamp = self.publish_timestamp\n",
    "        return self.state_is_published and publish_timestamp < timezone.now()"
   ]
  },
  {
   "cell_type": "markdown",
   "id": "a47ae098-37b7-4af0-ac4e-52b822835edb",
   "metadata": {},
   "source": [
    "### ecommerce/models.py"
   ]
  },
  {
   "cell_type": "code",
   "execution_count": null,
   "id": "9ccb5980-b822-4475-9561-a444eb54b906",
   "metadata": {},
   "outputs": [],
   "source": [
    "from django.db import models\n",
    "\n",
    "from base.models import BasePublishModel\n",
    "from .validators import validate_blocked_words\n",
    "\n",
    "class ProductModel(BasePublishModel):\n",
    "    title = models.TextField(default=\"\")\n",
    "    description = models.TextField(default=\"\")\n",
    "    seller = models.TextField(default=\"\")\n",
    "    color = models.TextField(default=\"\")\n",
    "    price = models.FloatField(default=0.0)\n",
    "    product_dimensions = models.FloatField(default=0.0)\n",
    "\n",
    "    def save(self, *args, **kwargs):\n",
    "        validate_blocked_words(self.title)\n",
    "        super().save(*args, **kwargs)"
   ]
  },
  {
   "cell_type": "markdown",
   "id": "383e1146-e9d2-4964-8f3e-a32f1e435584",
   "metadata": {},
   "source": [
    "### config/settings.py"
   ]
  },
  {
   "cell_type": "code",
   "execution_count": null,
   "id": "a84749d8-3f76-407c-9533-1b21c3a39a8e",
   "metadata": {},
   "outputs": [],
   "source": [
    "# Application definitions\n",
    "INSTALLED_APPS = [\n",
    "    \"pages.apps.PagesConfig\",\n",
    "    \"ecommerce.apps.EcommerceConfig\", # <-----\n",
    "    \"base.apps.BaseConfig\", # <-----\n",
    "    \"django.contrib.admin\",\n",
    "    \"django.contrib.auth\",\n",
    "    \"django.contrib.contenttypes\",\n",
    "    \"django.contrib.sessions\",\n",
    "    \"django.contrib.messages\",\n",
    "    \"django.contrib.staticfiles\",\n",
    "]"
   ]
  },
  {
   "cell_type": "code",
   "execution_count": null,
   "id": "9e30d346-52f0-4cb3-a8f3-208c4760c676",
   "metadata": {},
   "outputs": [],
   "source": [
    "python manage.py makemigrations\n",
    "python manage.py migrate"
   ]
  },
  {
   "cell_type": "markdown",
   "id": "c5768bfc-86a8-49d1-af45-30eaf3c4ff80",
   "metadata": {},
   "source": [
    "## Creación a granel"
   ]
  },
  {
   "cell_type": "code",
   "execution_count": null,
   "id": "1ed980f3-cf33-4928-8d9b-83294d55ca4f",
   "metadata": {},
   "outputs": [],
   "source": [
    "products_data =  []\n",
    "for i in range(1,100):\n",
    "    new_data={\"title\": \"Producto {}\".format(i), \"price\": i*100+99.99}\n",
    "    products_data.append(new_data)"
   ]
  },
  {
   "cell_type": "code",
   "execution_count": null,
   "id": "297fd7cd-b465-435f-94bd-2317a92a04e3",
   "metadata": {},
   "outputs": [],
   "source": [
    "from ecommerce.models import ProductModel\n",
    "new_inventory = []\n",
    "for product_data in products_data:\n",
    "    new_inventory.append(ProductModel(**product_data))"
   ]
  },
  {
   "cell_type": "code",
   "execution_count": null,
   "id": "b1e734b3-ea29-4b6d-8703-af211b93fca6",
   "metadata": {},
   "outputs": [],
   "source": [
    "ProductModel.objects.bulk_create(new_inventory, ignore_conflicts=True)"
   ]
  },
  {
   "cell_type": "markdown",
   "id": "81016d29-dc47-42e8-bdb0-af44011bc9f2",
   "metadata": {},
   "source": [
    "## SlugField y Señales en Modelos\n",
    "- slug: se usa para los urls:\n",
    "- title: escritorio con altura ajustable\n",
    "- slug: /escritorio-con-altura-ajustable\n",
    "- url: www.mywebsite.com/escritorio-con-altura-ajustable\n",
    "- url: www.mywebsite.com/1"
   ]
  },
  {
   "cell_type": "markdown",
   "id": "09f0b048-c8f5-46ba-a8aa-460924b34093",
   "metadata": {},
   "source": [
    "### Signals / Señales\n",
    "- pre_save\n",
    "- post_save\n",
    "- pre_delete\n",
    "- post_delete\n",
    "- pre_init\n",
    "- post_init\n",
    "- pre_migrate\n",
    "- post_migrate"
   ]
  },
  {
   "cell_type": "code",
   "execution_count": null,
   "id": "22d5edb9-9ae6-4dc8-b2ec-d6cb5d2c0671",
   "metadata": {},
   "outputs": [],
   "source": [
    "from django.db.models import signals\n",
    "dir(signals)"
   ]
  },
  {
   "cell_type": "code",
   "execution_count": null,
   "id": "caaee452-869f-4f34-869b-69a9ed359dd1",
   "metadata": {},
   "outputs": [],
   "source": [
    "from django.db import models\n",
    "from django.db.models.signals import pre_save\n",
    "from django.utils.text import slugify\n",
    "\n",
    "from base.models import BasePublishModel\n",
    "from .validators import validate_blocked_words\n",
    "\n",
    "class ProductModel(BasePublishModel)\n",
    "    ...\n",
    "    slug = models.SlugField(null=True, blank=True, db_index=True)\n",
    "\n",
    "    def get_absolute_url(self):\n",
    "        return f\"/product/{self.slug}\"\n",
    "\n",
    "def slugify_pre_save(sender, instance, *args, **kwargs):\n",
    "    if instance.slug is None or instance.slug == \"\":\n",
    "        new_slug = slugify(instance.title)\n",
    "        MyModel = instance.__class__\n",
    "        qs = MyModel.objects.filter(slug__startswith=new_slug).exclude(id=instance.id)\n",
    "        if qs.count() == 0:\n",
    "            instance.slug = new_slug\n",
    "        else:\n",
    "            instance.slug = f\"{new_slug}-{qs.count()}\"\n",
    "\n",
    "pre_save.connect(slugify_pre_save, sender=ProductModel)"
   ]
  },
  {
   "cell_type": "markdown",
   "id": "8395b85e-da06-4d28-9360-e4a115fb537c",
   "metadata": {},
   "source": [
    "## Fixtures para almacenar y cargar data"
   ]
  },
  {
   "cell_type": "code",
   "execution_count": null,
   "id": "331bf3ec-84af-4fa1-884f-98928698af82",
   "metadata": {},
   "outputs": [],
   "source": [
    "python manage.py dumpdata ecommerce --indent 4 --format json"
   ]
  },
  {
   "cell_type": "code",
   "execution_count": null,
   "id": "f2029748-0de8-4f0a-9198-d1442cd4b853",
   "metadata": {},
   "outputs": [],
   "source": [
    "python manage.py dumpdata ecommerce --indent 4 --format json > ecommerce/fixtures/ProductModel.json"
   ]
  },
  {
   "cell_type": "code",
   "execution_count": null,
   "id": "e2ae956f-688d-43e1-ab41-3f76e2f4029b",
   "metadata": {},
   "outputs": [],
   "source": [
    "python manage.py loaddata ecommerce/fixtures/ProductModel.json"
   ]
  },
  {
   "cell_type": "markdown",
   "id": "de1f90fb-89d6-4be3-b350-b02921d7a8a1",
   "metadata": {},
   "source": [
    "## Llaves foráneas en modelos\n",
    "### ecommerce/models.py"
   ]
  },
  {
   "cell_type": "code",
   "execution_count": null,
   "id": "dc6f25f9-7890-47a2-aabf-d5c184e175c9",
   "metadata": {},
   "outputs": [],
   "source": [
    "...\n",
    "from django.conf import settings\n",
    "\n",
    "User = settings.AUTH_USER_MODEL\n",
    "\n",
    "class ProductModel(BasePublishModel):\n",
    "    ...\n",
    "    user = models.ForeignKey(User, null=True, on_delete=models.SET_NULL)"
   ]
  },
  {
   "cell_type": "code",
   "execution_count": null,
   "id": "010b4eb6-c4ef-42fc-8fbf-72c4911cc47f",
   "metadata": {},
   "outputs": [],
   "source": []
  },
  {
   "cell_type": "code",
   "execution_count": null,
   "id": "cedbcc59-a3e2-47c3-9724-0934045eda0c",
   "metadata": {},
   "outputs": [],
   "source": []
  },
  {
   "cell_type": "code",
   "execution_count": null,
   "id": "58d6bbd5-27fc-451f-882e-f981d7263598",
   "metadata": {},
   "outputs": [],
   "source": []
  },
  {
   "cell_type": "code",
   "execution_count": null,
   "id": "a2769172-5963-46f7-90d2-e9a2374f5922",
   "metadata": {},
   "outputs": [],
   "source": []
  },
  {
   "cell_type": "code",
   "execution_count": null,
   "id": "de6b01c1-785f-45a2-a9a7-b19106a53be2",
   "metadata": {},
   "outputs": [],
   "source": []
  },
  {
   "cell_type": "code",
   "execution_count": null,
   "id": "086ac420-ed12-464c-986e-f5af8da21fca",
   "metadata": {},
   "outputs": [],
   "source": []
  },
  {
   "cell_type": "code",
   "execution_count": null,
   "id": "8ee48c20-5a4d-4d7a-a2a3-7b8aa3b1aa3d",
   "metadata": {},
   "outputs": [],
   "source": []
  },
  {
   "cell_type": "code",
   "execution_count": null,
   "id": "a442a5e9-8aef-41af-bf8c-9de09688c8d4",
   "metadata": {},
   "outputs": [],
   "source": []
  },
  {
   "cell_type": "code",
   "execution_count": null,
   "id": "5b56e995-3572-4d67-ba87-60935bc8c95a",
   "metadata": {},
   "outputs": [],
   "source": []
  },
  {
   "cell_type": "code",
   "execution_count": null,
   "id": "79911dd4-cdf6-4ff0-b5f4-841e64bde2d1",
   "metadata": {},
   "outputs": [],
   "source": []
  },
  {
   "cell_type": "code",
   "execution_count": null,
   "id": "d50b60b6-ccda-4046-a9b5-231b857f8564",
   "metadata": {},
   "outputs": [],
   "source": []
  },
  {
   "cell_type": "code",
   "execution_count": null,
   "id": "4e3e841c-d6ac-4c38-a9e5-320e8974e2e7",
   "metadata": {},
   "outputs": [],
   "source": []
  },
  {
   "cell_type": "code",
   "execution_count": null,
   "id": "d8a6981b-6a6a-4cb5-a0b5-7d468a563f37",
   "metadata": {},
   "outputs": [],
   "source": []
  },
  {
   "cell_type": "code",
   "execution_count": null,
   "id": "4f2e337a-f34b-4de2-b536-8fe9554d64aa",
   "metadata": {},
   "outputs": [],
   "source": []
  },
  {
   "cell_type": "code",
   "execution_count": null,
   "id": "df724218-a3f0-41e7-b5f3-8ee307849352",
   "metadata": {},
   "outputs": [],
   "source": []
  },
  {
   "cell_type": "code",
   "execution_count": null,
   "id": "4226d475-becd-4cf5-a794-bf0ad76d532d",
   "metadata": {},
   "outputs": [],
   "source": []
  },
  {
   "cell_type": "code",
   "execution_count": null,
   "id": "79ab1b4a-b741-4aff-8f0f-92150b7ae027",
   "metadata": {},
   "outputs": [],
   "source": []
  },
  {
   "cell_type": "code",
   "execution_count": null,
   "id": "8ef93aee-e830-4870-bcd3-9047aaeb4e2b",
   "metadata": {},
   "outputs": [],
   "source": []
  },
  {
   "cell_type": "code",
   "execution_count": null,
   "id": "5b4df33b-dcfb-41af-b7bc-5cc00bb7f30d",
   "metadata": {},
   "outputs": [],
   "source": []
  }
 ],
 "metadata": {
  "kernelspec": {
   "display_name": "Python 3 (ipykernel)",
   "language": "python",
   "name": "python3"
  },
  "language_info": {
   "codemirror_mode": {
    "name": "ipython",
    "version": 3
   },
   "file_extension": ".py",
   "mimetype": "text/x-python",
   "name": "python",
   "nbconvert_exporter": "python",
   "pygments_lexer": "ipython3",
   "version": "3.12.7"
  }
 },
 "nbformat": 4,
 "nbformat_minor": 5
}
