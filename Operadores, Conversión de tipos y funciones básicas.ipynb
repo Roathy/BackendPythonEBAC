{
 "cells": [
  {
   "cell_type": "markdown",
   "id": "395dbc84-795d-4d67-82fb-874c3b4a5921",
   "metadata": {},
   "source": [
    "# Operadores y Tipos de Operadores\n",
    "-¿Qué son los operadores?\n",
    "    Son un conjunto de símbolos\n",
    "-¿Qué hacen?\n",
    "    Indican al compilador o intérprete que ejecute ciertas acciones para llegar a un resultado\n",
    "    Se utilizan para hacer operaciones con variables o valores\n",
    "-¿De qué tipo hay?\n",
    "    Aritméticos, Relacionales, de Asignación, Lógicos, Afiliación y de Indentidad"
   ]
  },
  {
   "cell_type": "markdown",
   "id": "036299c1-208d-4792-be50-8ee0c366ba18",
   "metadata": {},
   "source": [
    "## Tipos de Operadores\n",
    "- Aritméticos\n",
    "      +, -, *, /\n",
    "    - Particulares de Python\n",
    "      // división con redondeo hacia abajo\n",
    "      ** exponente\n",
    "- Relacionales\n",
    "  ==, !=, >, <, >=, <=\n",
    "- Asignación\n",
    "- Lógicos\n",
    "- Afiliación\n",
    "- Identidad"
   ]
  },
  {
   "cell_type": "markdown",
   "id": "39260cea-3001-4649-a6b5-687ce4abcf39",
   "metadata": {},
   "source": [
    "## De Asignación\n",
    "- Asignar =\n",
    "- Sumar y asignar +=\n",
    "- Restar y asignar -=\n",
    "- Dividir y asignar /=\n",
    "- Multiplicar y asignar *=\n",
    "- Dividir, redondear hacia abajo y asignar //=\n",
    "- Exponente y asignar **=\n",
    "- Módulo y asignar %=\n",
    "  "
   ]
  },
  {
   "cell_type": "markdown",
   "id": "321e92b5-c5fd-4a40-be7f-aacd46b440ac",
   "metadata": {},
   "source": [
    "## Lógicos\n",
    "- and: se utiliza para validar si todas las expresiones que evalúa son verdaderas, y retornar True, de lo contrario retorna False\n",
    "- or: se utiliza para validar si al menos una de las expresiones evaluadas es verdadera y retornar True, de lo contrario retorna False\n",
    "- not: se utiliza para validar si las expresiones comparadas son diferentes, de ser el caso retornar True, de lo contrario retorna False"
   ]
  },
  {
   "cell_type": "markdown",
   "id": "ff0436cc-6ac8-4f3b-abcc-74a4f84b48df",
   "metadata": {},
   "source": [
    "## Afiliación\n",
    "- in: Se utiliza para validar si el valor indicado existe dentro de la variable\n",
    "- not in: se utiliza para validar si el valor indicado no se encuentra dentro de la variable\n"
   ]
  },
  {
   "cell_type": "markdown",
   "id": "259b327c-babc-41d2-8b30-3774058541bd",
   "metadata": {},
   "source": [
    "## Identidad\n",
    "- ¿Qué son?\n",
    "    Se utilizan para comparar la ubicación en memoria de dos objetos\n",
    "- ¿Qué hacen?\n",
    "    Retornan True or False dependiendo de si la ubicación es igual o no\n",
    "- is: \n",
    "- is not:"
   ]
  },
  {
   "cell_type": "markdown",
   "id": "b07382bf-1b1d-43df-a79d-3046e442a076",
   "metadata": {},
   "source": [
    "# Conversión de Tipos\n",
    "- ¿Qué es la conversión de tipos?\n",
    "  Es el proceso que se da implicitamente, cuando dos valores de tipos distintos interactúan y uno de ellos cambia su tipo para igual al tipo del otro valor o explícitamente cuando invocamos una función sobre un valor para cambiar su tipo"
   ]
  },
  {
   "cell_type": "code",
   "execution_count": 6,
   "id": "e695e7a1-cf61-4e04-9c8d-4d5c0dc4f342",
   "metadata": {},
   "outputs": [
    {
     "name": "stdout",
     "output_type": "stream",
     "text": [
      "20.0\n"
     ]
    }
   ],
   "source": [
    "# Conversión implícita\n",
    "entero = 10\n",
    "decimal = 10.0\n",
    "print(entero + decimal) # cuando un valor entero y uno decimal interactúan, el resultado termina siendo de tipo decimal(float)"
   ]
  },
  {
   "cell_type": "code",
   "execution_count": 11,
   "id": "58fb9342-965b-4560-8796-624950bce65c",
   "metadata": {},
   "outputs": [
    {
     "name": "stdout",
     "output_type": "stream",
     "text": [
      "30.0\n",
      "3\n"
     ]
    }
   ],
   "source": [
    "# Conversión explícita\n",
    "new_int = 30\n",
    "print(float(new_int)) # invocar directamente la función float() sobre la variable cambia su tipo a decimal(float)\n",
    "new_float = 3.1416\n",
    "print(int(new_float)) # invocar directamente la función int() sobre la variable cambia su tipo a entero(int)"
   ]
  },
  {
   "cell_type": "code",
   "execution_count": 13,
   "id": "9cfe40a1-c5e1-4516-919f-a752d3836b36",
   "metadata": {},
   "outputs": [
    {
     "name": "stdout",
     "output_type": "stream",
     "text": [
      "True\n",
      "1.0\n"
     ]
    }
   ],
   "source": [
    "# Siempre y cuando la variable tenga valores que son válidos al tipo al que se desea convertir, la conversión será posible\n",
    "new_str = 'True' # en este caso tenemos la palabra True en String pero está escrita igual que la palabra reservada booleana\n",
    "print(bool(new_str)) # podemos entonces convertirla a un booleano\n",
    "print(float(bool(new_str))) # y a su vez este bool que vale 1 entero convertirlo a un float 1.0"
   ]
  },
  {
   "cell_type": "code",
   "execution_count": 16,
   "id": "26744af5-5641-409a-a932-bf74921b1ef5",
   "metadata": {},
   "outputs": [
    {
     "name": "stdout",
     "output_type": "stream",
     "text": [
      "False\n",
      "True\n",
      "True\n",
      "False\n",
      "True\n"
     ]
    }
   ],
   "source": [
    "print(bool(\"\"))\n",
    "print(bool(\"python\"))\n",
    "print(bool(-1))\n",
    "print(bool(0))\n",
    "print(bool(1.0))"
   ]
  },
  {
   "cell_type": "markdown",
   "id": "d306f6ca-4881-494c-a413-4fa4e3b820a7",
   "metadata": {},
   "source": [
    "# Funciones Básicas\n",
    "## trunc()"
   ]
  },
  {
   "cell_type": "code",
   "execution_count": 24,
   "id": "aa2dd67b-37bc-4937-aa39-af527ccf0d81",
   "metadata": {},
   "outputs": [
    {
     "name": "stdout",
     "output_type": "stream",
     "text": [
      "n1 - trunc:  64 round:  65 ceil:  65\n",
      "n2 - trunc:  64 round:  64 ceil:  65\n",
      "n3 - trunc:  64 round:  65 ceil:  65\n",
      "n4 - trunc:  64 round:  64 ceil:  65\n"
     ]
    }
   ],
   "source": [
    "n1 = 64.99\n",
    "n2 = 64.5\n",
    "n3 = 64.51\n",
    "n4 = 64.00000000000001\n",
    "from math import trunc\n",
    "from math import ceil\n",
    "from math import floor\n",
    "print(\"n1 - trunc: \", trunc(n1), \"round: \", round(n1), \"ceil: \", ceil(n1))\n",
    "print(\"n2 - trunc: \", trunc(n2), \"round: \", round(n2), \"ceil: \", ceil(n2))\n",
    "print(\"n3 - trunc: \", trunc(n3), \"round: \", round(n3), \"ceil: \", ceil(n3))\n",
    "print(\"n4 - trunc: \", trunc(n4), \"round: \", round(n4), \"ceil: \", ceil(n4))"
   ]
  },
  {
   "cell_type": "code",
   "execution_count": null,
   "id": "114ddbb0-68d8-408b-9750-115fa847093b",
   "metadata": {},
   "outputs": [],
   "source": []
  }
 ],
 "metadata": {
  "kernelspec": {
   "display_name": "Python 3 (ipykernel)",
   "language": "python",
   "name": "python3"
  },
  "language_info": {
   "codemirror_mode": {
    "name": "ipython",
    "version": 3
   },
   "file_extension": ".py",
   "mimetype": "text/x-python",
   "name": "python",
   "nbconvert_exporter": "python",
   "pygments_lexer": "ipython3",
   "version": "3.12.7"
  }
 },
 "nbformat": 4,
 "nbformat_minor": 5
}
