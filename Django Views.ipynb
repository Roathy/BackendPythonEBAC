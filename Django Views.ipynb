{
 "cells": [
  {
   "cell_type": "markdown",
   "id": "f415681f-05a4-4cbe-9203-0d2529dbc345",
   "metadata": {},
   "source": [
    "## Creación de una vista estática\n",
    "\n",
    "Existen dos tipos de views: Basadas en Funciones y Basadas en Clases\n",
    "- Las funciones se nombran con la primera letra en minúscula y las clases con la primera letra en mayúscula"
   ]
  },
  {
   "cell_type": "markdown",
   "id": "703bb6fd-5f59-4c0b-8709-408612f23d4a",
   "metadata": {},
   "source": [
    "### Cómo crear una aplicación en Django\n",
    "```\n",
    "python manage.py startapp <nombre_de_la_app>\n",
    "\n",
    "python manage.py startapp ecommerce\n",
    "```"
   ]
  },
  {
   "cell_type": "markdown",
   "id": "dd72c8de-449b-47c1-b18d-941ab0c98837",
   "metadata": {},
   "source": [
    "### ecommerce/views.py"
   ]
  },
  {
   "cell_type": "code",
   "execution_count": null,
   "id": "ffd61f39-2a1d-459d-8f54-a1af3a2eab34",
   "metadata": {},
   "outputs": [],
   "source": [
    "from django.shortcuts import render\n",
    "from django.http import HttpResponse\n",
    "\n",
    "# Create your views here.\n",
    "def home(request):\n",
    "    return HttpResponse(\"<h1>Hola Mundo</h1>\")"
   ]
  },
  {
   "cell_type": "markdown",
   "id": "84eaf555-d262-416d-868b-ae6522e1f98c",
   "metadata": {},
   "source": [
    "### ecommerce/urls.py"
   ]
  },
  {
   "cell_type": "code",
   "execution_count": null,
   "id": "04188a83-8895-40dc-8633-d3723d321dfd",
   "metadata": {},
   "outputs": [],
   "source": [
    "from django.urls import path\n",
    "\n",
    "from ecommerce import views\n",
    "\n",
    "urlpatterns = [\n",
    "    path(\"\", views.home, name=\"home\"),\n",
    "]"
   ]
  },
  {
   "cell_type": "markdown",
   "id": "f953ed33-18ed-475b-b48a-75acb40cf930",
   "metadata": {},
   "source": [
    "### config/urls.py"
   ]
  },
  {
   "cell_type": "code",
   "execution_count": null,
   "id": "44a5293c-c4e9-4ff7-b42b-80a2972716f8",
   "metadata": {},
   "outputs": [],
   "source": [
    "from django.conf import settings\n",
    "from django.contrib import admin\n",
    "from django.urls import include, path\n",
    "\n",
    "urlpatterns = [\n",
    "    path(\"up/\", include(\"up.urls\")),\n",
    "    path(\"\", include(\"pages.urls\")),\n",
    "    path(\"\", include(\"ecommerce.urls\")), # <---\n",
    "    path(\"admin/\", admin.site.urls),\n",
    "]"
   ]
  },
  {
   "cell_type": "markdown",
   "id": "bb9ca2d1-5a23-4ae9-b13c-04b3840b59c7",
   "metadata": {},
   "source": [
    "## CRUD y Vistas"
   ]
  },
  {
   "cell_type": "markdown",
   "id": "1ffe32c4-f5e1-4264-8e4b-68381c4621c3",
   "metadata": {},
   "source": [
    "### C - Create\n",
    "### R - Read\n",
    "### U - Update\n",
    "### D - Delete"
   ]
  },
  {
   "cell_type": "markdown",
   "id": "7811a57e-cbcb-4d0f-942a-c34d601857bc",
   "metadata": {},
   "source": [
    "Crear Modelos -> Agregar la app a INSTALLED_APPS -> Crear y aplicar migraciones -> Agregar admin"
   ]
  },
  {
   "cell_type": "markdown",
   "id": "f847fcf0-b726-4bbc-9595-287d8f97b151",
   "metadata": {},
   "source": [
    "### ecommerce/models.py"
   ]
  },
  {
   "cell_type": "code",
   "execution_count": null,
   "id": "a4101844-baf0-4752-9824-d8d4df3aae71",
   "metadata": {},
   "outputs": [],
   "source": [
    "class ProductModel(models.Model):\n",
    "    title = models.TextField\n",
    "    price = models.FloatField"
   ]
  },
  {
   "cell_type": "markdown",
   "id": "198c9d51-5cd8-497c-8647-6e2b5897c9a9",
   "metadata": {},
   "source": [
    "### config/settings.py"
   ]
  },
  {
   "cell_type": "code",
   "execution_count": null,
   "id": "372a504b-a4c9-4798-82ba-012763e48970",
   "metadata": {},
   "outputs": [],
   "source": [
    "# Application definitions\n",
    "INSTALLED_APPS = [\n",
    "    \"pages.apps.PagesConfig\",\n",
    "    \"ecommerce.apps.EcommerceConfig\", # <---\n",
    "    \"django.contrib.admin\",\n",
    "    \"django.contrib.auth\",\n",
    "    \"django.contrib.contenttypes\",\n",
    "    \"django.contrib.sessions\",\n",
    "    \"django.contrib.messages\",\n",
    "    \"django.contrib.staticfiles\",\n",
    "]"
   ]
  },
  {
   "cell_type": "markdown",
   "id": "323b81c0-d5eb-40ba-9a2d-f83a85ec523d",
   "metadata": {},
   "source": [
    "### Cómo correr migraciones"
   ]
  },
  {
   "cell_type": "code",
   "execution_count": null,
   "id": "de8570bc-ed69-48b2-8acd-16c520715eb2",
   "metadata": {},
   "outputs": [],
   "source": [
    "- python manage.py makemigrations\n",
    "- python manage.py migrate"
   ]
  },
  {
   "cell_type": "markdown",
   "id": "a2c6e5b6-8d31-469a-a750-970f356b3711",
   "metadata": {},
   "source": [
    "### Cómo registrar modelos en admin"
   ]
  },
  {
   "cell_type": "code",
   "execution_count": null,
   "id": "ba6f7952-7712-4cfd-99c8-1186d62fa5ff",
   "metadata": {},
   "outputs": [],
   "source": [
    "from django.contrib import admin\n",
    "from .models import ProductModel\n",
    "\n",
    "# Register your models here.\n",
    "admin.site.register(ProductModel)"
   ]
  },
  {
   "cell_type": "markdown",
   "id": "982e1283-33bd-48cf-8fe7-10cb232dd564",
   "metadata": {},
   "source": [
    "### Cómo crear un super user para el admin"
   ]
  },
  {
   "cell_type": "code",
   "execution_count": null,
   "id": "40c6ee20-7e07-4799-b447-5cf2cc28148d",
   "metadata": {},
   "outputs": [],
   "source": [
    "- python manage.py createsuperuser"
   ]
  },
  {
   "cell_type": "markdown",
   "id": "4f68a952-1ee7-46a4-b56c-ffc7d3dd7370",
   "metadata": {},
   "source": [
    "### Tipos básicos de Vistas"
   ]
  },
  {
   "cell_type": "code",
   "execution_count": null,
   "id": "23b61ea2-ee8a-41cb-834a-cb402c9722c3",
   "metadata": {},
   "outputs": [],
   "source": [
    "- List View -  Muestra los usuarios creados\n",
    "- Create View - Aquí se pueden insertar los datos para crear un usuario\n",
    "- Retrieve and Update View - Primero trae el registro y después lo expone para ser actualizado "
   ]
  },
  {
   "cell_type": "markdown",
   "id": "4c684f9f-5342-402d-b7ec-05d1e4965318",
   "metadata": {},
   "source": [
    "### ecommerce/views.py"
   ]
  },
  {
   "cell_type": "code",
   "execution_count": null,
   "id": "e770962d-b329-442c-8734-57ae41a69b5c",
   "metadata": {},
   "outputs": [],
   "source": [
    "from django.shortcuts import render\n",
    "from django.http import HttpResponse, HttpResponseRedirect\n",
    "\n",
    "from .models import ProductModel\n",
    "\n",
    "# Create your views here.\n",
    "def product_model_list_view(request):\n",
    "    querySet = ProductModel.objects.all()\n",
    "    print(querySet)\n",
    "    return HttpResponse(\"ecommerce personalizado\")"
   ]
  },
  {
   "cell_type": "markdown",
   "id": "a5d298cc-12f5-47c6-bd07-298d398b90b0",
   "metadata": {},
   "source": [
    "## Uso de Templates\n",
    "### ecommerce/views.py"
   ]
  },
  {
   "cell_type": "code",
   "execution_count": null,
   "id": "793b61f8-b295-4538-9b47-28475f950f88",
   "metadata": {},
   "outputs": [],
   "source": [
    "from django.shortcuts import render\n",
    "from django.http import HttpResponse, HttpResponseRedirect\n",
    "\n",
    "from .models import ProductModel\n",
    "\n",
    "# Create your views here.\n",
    "def product_model_list_view(request):\n",
    "    queryset = ProductModel.objects.all()\n",
    "    print(queryset)\n",
    "    template = \"ecommerce/list-view.html\"\n",
    "    context = {}\n",
    "    return redner(request, template, context)"
   ]
  },
  {
   "cell_type": "markdown",
   "id": "2ab54b82-e942-4ac8-ab63-64b20fe98c09",
   "metadata": {},
   "source": [
    "### templates/ecommerce/list-view.html"
   ]
  },
  {
   "cell_type": "code",
   "execution_count": null,
   "id": "6816e035-c643-47ea-800d-47bd54da317b",
   "metadata": {},
   "outputs": [],
   "source": [
    "<h1>\n",
    "Template de: Vista de Listado\n",
    "</h1>"
   ]
  },
  {
   "cell_type": "markdown",
   "id": "9b9cc43e-fe6f-4e1f-b99e-684c22db5e92",
   "metadata": {},
   "source": [
    "## Usando el contexto\n",
    "### ecommerce/views.py\n"
   ]
  },
  {
   "cell_type": "code",
   "execution_count": null,
   "id": "168c18b2-fff1-4e7b-a725-d3b6dcc8f985",
   "metadata": {},
   "outputs": [],
   "source": [
    "from django.shortcuts import render\n",
    "from django.http import HttpResponse, HttpResponseRedirect\n",
    "\n",
    "from .models import ProductModel\n",
    "\n",
    "# Create your views here.\n",
    "def product_model_list_view(request):\n",
    "    queryset = ProductModel.objects.all()\n",
    "    print(queryset)\n",
    "    template = \"ecommerce/list-view.html\"\n",
    "    context = {\n",
    "        \"products\": queryset # <-----\n",
    "    }\n",
    "    return render(request, template,context)"
   ]
  },
  {
   "cell_type": "markdown",
   "id": "91582d4c-be7e-4003-882b-05546d3d2177",
   "metadata": {},
   "source": [
    "### templates/ecommerce/list-view.html"
   ]
  },
  {
   "cell_type": "code",
   "execution_count": null,
   "id": "53afcb49-1421-4c5d-bdbe-ddd17490ce04",
   "metadata": {},
   "outputs": [],
   "source": [
    "<h1>\n",
    "Vista de Listado\n",
    "</h1>\n",
    "{% for product in products %}\n",
    "    <li>\n",
    "        {{ product.title }} {{ product.price }}\n",
    "    </li>\n",
    "{% endfor %}"
   ]
  },
  {
   "cell_type": "markdown",
   "id": "2b1b9de3-096f-42a5-8c1d-a5be07523dfa",
   "metadata": {},
   "source": [
    "## Vista de detalle\n",
    "### ecommerce/views.py"
   ]
  },
  {
   "cell_type": "code",
   "execution_count": null,
   "id": "15192a8f-e96f-4780-ad4a-251c2c4dbef4",
   "metadata": {},
   "outputs": [],
   "source": [
    "from django.contrib.auth.decorators import login_required\n",
    "from django.shortcuts import render, get_object_or_404\n",
    "from django.http import HttpResponse, HttpResponseRedirect\n",
    "\n",
    "from.models import ProductModel\n",
    "\n",
    "# Create your views here.\n",
    "def product_model_detail_view(request, product_id):\n",
    "    instance = get_object_or_404(ProductModel, id=product_id)\n",
    "    context = {\n",
    "    \"product\": instance\n",
    "    }\n",
    "    template = \"ecommerce/detail-view.html\"\n",
    "    return render(request, template, context)"
   ]
  },
  {
   "cell_type": "markdown",
   "id": "bfab5c45-260b-4792-aedc-da942b78db97",
   "metadata": {},
   "source": [
    "### ecommerce/urls.py"
   ]
  },
  {
   "cell_type": "code",
   "execution_count": null,
   "id": "142380ae-1316-4717-a3f1-bbdf17f82254",
   "metadata": {},
   "outputs": [],
   "source": [
    "path(\"<int:product_id>\", views.product_model_details_view, name=\"details\"), # <---"
   ]
  },
  {
   "cell_type": "markdown",
   "id": "17d278b2-3736-4c6a-a36c-95501ca79582",
   "metadata": {},
   "source": [
    "### templates/ecommerce/details-view.html"
   ]
  },
  {
   "cell_type": "code",
   "execution_count": null,
   "id": "0dd5bde6-8162-4f15-9d77-695a88ad77a2",
   "metadata": {},
   "outputs": [],
   "source": [
    "<h1>\n",
    "{{product.title}}\n",
    "{{product.price}}\n",
    "</h1>"
   ]
  },
  {
   "cell_type": "markdown",
   "id": "efffb6f9-01c0-46be-bd3c-37b375f21bfc",
   "metadata": {},
   "source": [
    "### templates/ecommerce/list-view.html"
   ]
  },
  {
   "cell_type": "code",
   "execution_count": null,
   "id": "6318d89d-739e-4503-8349-9f9b2683d63d",
   "metadata": {},
   "outputs": [],
   "source": [
    "<h1>List View</h1>\n",
    "{% for product in products %}\n",
    "    <li>\n",
    "        <a href=\"/ecommerce/{{product.id}}\">{{product.title}}</a>: {{product.price}}\n",
    "    </li>\n",
    "{% endfor %}"
   ]
  },
  {
   "cell_type": "markdown",
   "id": "a09b86fa-dbea-4a7a-84ff-0550173c812e",
   "metadata": {},
   "source": [
    "## Vista de Creación\n",
    "### ecommerce/views.py"
   ]
  },
  {
   "cell_type": "code",
   "execution_count": null,
   "id": "0696f249-13b8-4720-9914-13cedada2fb8",
   "metadata": {},
   "outputs": [],
   "source": [
    "from django.contrib.auth.decorators import login_required\n",
    "from django.contrib import messages\n",
    "from django.shortcuts import render, get_object_or_404\n",
    "from django.http import HttpResponse, HttpResponseRedirect\n",
    "\n",
    "from .forms import ProductModelForm\n",
    "from .models import ProductModel\n",
    "\n",
    "# Create your views here\n",
    "# @login_required\n",
    "def product_model_create_view(request):\n",
    "    form = ProductModelForm(request.POST or None)\n",
    "    if form.is_valid():\n",
    "        instance = form.save(commit=False)\n",
    "        instance.save()\n",
    "        messges.success(request, \"Producto creado con éxito\")\n",
    "        return HttpResponseRedirect(\"/ecommerce/{product_id}\".format(product_id=instance.id))\n",
    "        context = {\n",
    "            \"form\": form\n",
    "        }\n",
    "        template = \"ecommerce/create-view.html\"\n",
    "        return render(request, template, context)\n",
    "                              "
   ]
  },
  {
   "cell_type": "markdown",
   "id": "6ae76e76-9b68-478a-97d5-031a7cc76c55",
   "metadata": {},
   "source": [
    "### ecommerce/forms.py\n",
    "crear archivo si no existe"
   ]
  },
  {
   "cell_type": "code",
   "execution_count": null,
   "id": "49b739cc-8415-4042-9926-89c955860575",
   "metadata": {},
   "outputs": [],
   "source": [
    "from django import forms\n",
    "\n",
    "from .models import ProductModel\n",
    "\n",
    "class ProductModelForm(forms.ModelForm):\n",
    "    class Meta:\n",
    "        model = ProductModel\n",
    "        fields = [\n",
    "            \"title\",\n",
    "            \"price\",\n",
    "        ]"
   ]
  },
  {
   "cell_type": "markdown",
   "id": "6f69035b-289d-42ea-a0f6-3268ab5b998e",
   "metadata": {},
   "source": [
    "### ecommerce/messages.html"
   ]
  },
  {
   "cell_type": "code",
   "execution_count": null,
   "id": "ed726741-db19-4483-9eeb-e9a16af9af32",
   "metadata": {},
   "outputs": [],
   "source": [
    "{% if messages %}\n",
    "<ul class=\"messages\">\n",
    "    {% for message in messages %}\n",
    "    <li{% if message.tags %} class=\"{{ message.tags }}\"{% endif %}>{{ message }}</li>\n",
    "    {% endfor %}\n",
    "</ul>\n",
    "{% endif %}"
   ]
  },
  {
   "cell_type": "markdown",
   "id": "b583c500-18f9-4c39-b0cc-9b8b8b38a145",
   "metadata": {},
   "source": [
    "### templates/ecommerce/create-view.html"
   ]
  },
  {
   "cell_type": "code",
   "execution_count": null,
   "id": "9cecf233-ab4d-4002-aa22-31bea44d18ee",
   "metadata": {},
   "outputs": [],
   "source": [
    "{% include \"ecommerce/messages.html\" %} # <--- sustituye esta línea por el contenido del archivo al que hace referencia\n",
    "\n",
    "<h1>Crear un Producto Nuevo</h1>\n",
    "\n",
    "<form method=\"POST\" action=\".\"> {% csrf_token %}\n",
    "{{form.as_p}}\n",
    "\n",
    "<input type=\"submit\" value=\"Crear\">\n",
    "</form>"
   ]
  },
  {
   "cell_type": "markdown",
   "id": "0552c0db-b52b-419f-9a4e-92c050ceebee",
   "metadata": {},
   "source": [
    "### ecommerce/urls.py"
   ]
  },
  {
   "cell_type": "code",
   "execution_count": null,
   "id": "b4ddc277-d364-44d6-aa92-aa37e0ddd9cf",
   "metadata": {},
   "outputs": [],
   "source": [
    "from django.urls import path\n",
    "\n",
    "from ecommerce import views\n",
    "\n",
    "urlpatterns = [\n",
    "    path(\"\", views.product_model_list_view, name=\"list\"),\n",
    "    path(\"<int:product_id>\", views.product_model_details_view, name=\"details\"),\n",
    "    path(\"create\", views.product_model_create_view, name=\"create\"), # <---\n",
    "]"
   ]
  },
  {
   "cell_type": "markdown",
   "id": "5e77e89d-c3e9-4557-9d11-9912702e5a59",
   "metadata": {},
   "source": [
    "### ecommerce/views.py"
   ]
  },
  {
   "cell_type": "code",
   "execution_count": null,
   "id": "c58cd607-8249-4d00-9bbf-07749f3ff9c8",
   "metadata": {},
   "outputs": [],
   "source": [
    "# @login_required\n",
    "def product_model_update_view(request, product_id=None):\n",
    "    instance = get_object_or_404(ProductModel, id=product_id)\n",
    "    form = ProductModelForm(request.POST or None, instance=instance)\n",
    "    if form.is_valid():\n",
    "        instance = form.save(commit=False)\n",
    "        instance.save()\n",
    "        messages.success(request, \"Producto actualizado con éxito\")\n",
    "        return HttpResponseRedirect(\"/ecommerce/{product_id}\".format(product_id=instance.id))\n",
    "    context = {\n",
    "        \"form\":form\n",
    "    }\n",
    "    template = \"ecommerce/update-view.html\"\n",
    "    return render(request, template,context)"
   ]
  },
  {
   "cell_type": "markdown",
   "id": "39ab7547-58ed-458c-8fe9-802346cd2f4f",
   "metadata": {},
   "source": [
    "### templates/ecommerce/update-view.html"
   ]
  },
  {
   "cell_type": "code",
   "execution_count": null,
   "id": "6f8e3aed-088b-4710-a5bb-8f3cdd8784c8",
   "metadata": {},
   "outputs": [],
   "source": [
    "{% include \"./messages.html\" %}\n",
    "\n",
    "<h1>Actualizar Producto {{form.instance.title}}</h1>\n",
    "\n",
    "<form method=\"POST\" action=\"\"> \n",
    "    {% csrf_token %}\n",
    "    {{ form.as_p }}\n",
    "\n",
    "<input type=\"submit\" value=\"Actualizar\">\n",
    "\n",
    "</form>"
   ]
  },
  {
   "cell_type": "markdown",
   "id": "b33cd63b-2837-4fb9-b5e9-12ae26b895f4",
   "metadata": {},
   "source": [
    "### ecommerce/urls.py"
   ]
  },
  {
   "cell_type": "code",
   "execution_count": null,
   "id": "72d89346-f302-486c-9a9e-6e8741bd5021",
   "metadata": {},
   "outputs": [],
   "source": [
    "from django.urls import path\n",
    "\n",
    "from ecommerce import views\n",
    "\n",
    "urlpatterns = [\n",
    "    path(\"\", views.product_model_list_view, name=\"list\"),\n",
    "    path(\"<int:product_id>\", views.product_model_details_view, name=\"details\"),\n",
    "    path(\"create\", views.product_model_create_view, name=\"create\"), \n",
    "    path(\"<int:product_id>/edit\", views.product_model_update_view, name=\"update\"), # <-----\n",
    "]"
   ]
  },
  {
   "cell_type": "markdown",
   "id": "4fe59a41-5611-488b-ae31-44f21bbf80b2",
   "metadata": {},
   "source": [
    "## Vista para Eliminar\n",
    "### ecommerce/views.py"
   ]
  },
  {
   "cell_type": "code",
   "execution_count": null,
   "id": "8d4f3b5b-c22f-4e61-9a04-35779d6012ad",
   "metadata": {},
   "outputs": [],
   "source": [
    "from django.contrib.auth.decorators import login_required\n",
    "from django.contrib import messages\n",
    "from django.shortcuts import render, get_object_or_404\n",
    "from django.http import HttpResponse, HttpResponseRedirect\n",
    "\n",
    "from .forms import ProductModelForm\n",
    "from .models import ProductModel\n",
    "\n",
    "# Create your views here\n",
    "def product_model_delete_view(request, product_id):\n",
    "    instance = get_object_or_404(ProductModel, id=product_id)\n",
    "    if request.method == \"POST\":\n",
    "        instance.delete()\n",
    "        HttpResponseRedirect(\"/ecommerce/\")\n",
    "        messages.success(\"Producto eliminado con éxito\")\n",
    "    context = {\n",
    "        \"product\":instance\n",
    "    }\n",
    "    template=\"/ecommerce/delete-view.html\"\n",
    "    return render(request, template, context)\n"
   ]
  },
  {
   "cell_type": "markdown",
   "id": "a25d6dcb-3a71-458c-a55c-8834135064a5",
   "metadata": {},
   "source": [
    "### template/ecommerce/delete.view.html"
   ]
  },
  {
   "cell_type": "code",
   "execution_count": null,
   "id": "a194c45a-0e6d-4371-b05d-aca341559a33",
   "metadata": {},
   "outputs": [],
   "source": [
    "<h1>Eliminar Producto {{product.title}}</h1>\n",
    "\n",
    "<form method=\"POST\" action=\"\">\n",
    "    {% csrf_token %}\n",
    "    ¿Estás seguro que queires este producto?\n",
    "    <input type=\"submit\" value=\"Eliminar\">\n",
    "    <a href=\"/ecommerce/{{product.id}}\">Cancelar</a>\n",
    "</form>"
   ]
  },
  {
   "cell_type": "markdown",
   "id": "f4aa55a3-2d68-4a42-a067-7605918fe5cf",
   "metadata": {},
   "source": [
    "### ecommerce/urls.py"
   ]
  },
  {
   "cell_type": "code",
   "execution_count": null,
   "id": "9b96f159-485c-47e8-bd81-c22b4932ef4b",
   "metadata": {},
   "outputs": [],
   "source": [
    "    path(\"<int:product_id>/delete\", views.product_model_delete_view, name=\"delete\"), # <-----"
   ]
  },
  {
   "cell_type": "markdown",
   "id": "f961fdca-bd0a-44f3-94b0-2f874084aa25",
   "metadata": {},
   "source": [
    "## Búsqueda dentro de Vista de Listado\n",
    "### templates/ecommerce/search.html"
   ]
  },
  {
   "cell_type": "markdown",
   "id": "312f5c9a-0aad-414f-9621-9c3e48004b2b",
   "metadata": {},
   "source": [
    "<form method=\"GET\" action=\"/ecommerce/\">\n",
    "    <input type=\"text\" name=\"q\" placeholder=\"Buscar\">\n",
    "</form>"
   ]
  },
  {
   "cell_type": "markdown",
   "id": "d89b949a-6dd6-473b-8012-a6a00d19fca5",
   "metadata": {},
   "source": [
    "### templates/ecommerce/list-view.html"
   ]
  },
  {
   "cell_type": "code",
   "execution_count": null,
   "id": "36a149cf-1229-4b5e-9576-db9c6c17be5b",
   "metadata": {},
   "outputs": [],
   "source": [
    "{% include \"ecommerce/search.html\" %}"
   ]
  },
  {
   "cell_type": "code",
   "execution_count": null,
   "id": "f0e0ac24-1c85-472a-965a-b7bc07e9ec91",
   "metadata": {},
   "outputs": [],
   "source": [
    "def product_model_search_view(request):\n",
    "    \n",
    "    context = {\n",
    "    }\n",
    "    template = \"/search-view.html\"\n",
    "    return render(request, template, context)"
   ]
  },
  {
   "cell_type": "code",
   "execution_count": null,
   "id": "4070809e-4661-447e-a35f-8972fd4e88f8",
   "metadata": {},
   "outputs": [],
   "source": []
  },
  {
   "cell_type": "code",
   "execution_count": null,
   "id": "b84b8fca-c9af-4a2a-987b-3bc5fbbeecf5",
   "metadata": {},
   "outputs": [],
   "source": []
  },
  {
   "cell_type": "code",
   "execution_count": null,
   "id": "669ab64e-18b3-42d4-95a2-ffc009e1c5b5",
   "metadata": {},
   "outputs": [],
   "source": []
  },
  {
   "cell_type": "code",
   "execution_count": null,
   "id": "f3962071-4b6a-4556-93a2-e270be9a03b6",
   "metadata": {},
   "outputs": [],
   "source": []
  },
  {
   "cell_type": "code",
   "execution_count": null,
   "id": "17d8d277-e3b1-4415-8fd6-6a9e1f386647",
   "metadata": {},
   "outputs": [],
   "source": []
  },
  {
   "cell_type": "code",
   "execution_count": null,
   "id": "cb5e1e61-9edc-40e7-90f5-ab272569da10",
   "metadata": {},
   "outputs": [],
   "source": []
  },
  {
   "cell_type": "code",
   "execution_count": null,
   "id": "307a8702-0ada-413c-a3df-c5f847b3346c",
   "metadata": {},
   "outputs": [],
   "source": []
  },
  {
   "cell_type": "code",
   "execution_count": null,
   "id": "97091687-5db4-4593-b13a-33d93a726cfc",
   "metadata": {},
   "outputs": [],
   "source": []
  },
  {
   "cell_type": "code",
   "execution_count": null,
   "id": "4faf6975-c7b5-4bf3-b866-f606e5a367da",
   "metadata": {},
   "outputs": [],
   "source": []
  },
  {
   "cell_type": "code",
   "execution_count": null,
   "id": "94e3dc1c-bae0-4a32-8555-42532f54ce71",
   "metadata": {},
   "outputs": [],
   "source": []
  },
  {
   "cell_type": "code",
   "execution_count": null,
   "id": "87df3817-0b9f-4bba-8f94-bc7a421eee3b",
   "metadata": {},
   "outputs": [],
   "source": []
  },
  {
   "cell_type": "code",
   "execution_count": null,
   "id": "d7f6c13e-680b-49df-9b7e-9a293e8ddebe",
   "metadata": {},
   "outputs": [],
   "source": []
  },
  {
   "cell_type": "code",
   "execution_count": null,
   "id": "78c20464-5443-4d34-b718-7b6c1057c9ce",
   "metadata": {},
   "outputs": [],
   "source": []
  },
  {
   "cell_type": "code",
   "execution_count": null,
   "id": "273967f0-bb6f-4113-b764-c409030b7218",
   "metadata": {},
   "outputs": [],
   "source": []
  },
  {
   "cell_type": "code",
   "execution_count": null,
   "id": "8ba69c73-e7a2-492b-a8b4-5d0040aa16bb",
   "metadata": {},
   "outputs": [],
   "source": []
  },
  {
   "cell_type": "code",
   "execution_count": null,
   "id": "067ded2f-5d64-40ba-ba07-71c6d7e00392",
   "metadata": {},
   "outputs": [],
   "source": []
  }
 ],
 "metadata": {
  "kernelspec": {
   "display_name": "Python 3 (ipykernel)",
   "language": "python",
   "name": "python3"
  },
  "language_info": {
   "codemirror_mode": {
    "name": "ipython",
    "version": 3
   },
   "file_extension": ".py",
   "mimetype": "text/x-python",
   "name": "python",
   "nbconvert_exporter": "python",
   "pygments_lexer": "ipython3",
   "version": "3.12.7"
  }
 },
 "nbformat": 4,
 "nbformat_minor": 5
}
