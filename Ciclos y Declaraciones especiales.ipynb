{
 "cells": [
  {
   "cell_type": "markdown",
   "id": "1e1a1820-7529-443f-b7b8-21ea800481df",
   "metadata": {},
   "source": [
    "# Ciclos\n",
    "- Son declaraciones iterativas\n",
    "- Repiten el bloque de código especificado\n",
    "## Existen dos tipo\n",
    "### for\n",
    "### while"
   ]
  },
  {
   "cell_type": "markdown",
   "id": "8af56b60-fdb6-4cb0-b79b-641fb2ffa1ee",
   "metadata": {},
   "source": [
    "## ciclo for:"
   ]
  },
  {
   "cell_type": "code",
   "execution_count": 2,
   "id": "9ea5ea84-a47c-4f27-b2a0-12a3c1ea42d0",
   "metadata": {},
   "outputs": [
    {
     "name": "stdout",
     "output_type": "stream",
     "text": [
      "Este valor es par: 0\n",
      "Este valor es impar: 1\n",
      "Este valor es par: 2\n",
      "Este valor es impar: 3\n",
      "Este valor es par: 4\n",
      "Este valor es impar: 5\n",
      "Este valor es par: 6\n",
      "Este valor es impar: 7\n",
      "Este valor es par: 8\n",
      "Este valor es impar: 9\n",
      "Este valor es par: 10\n",
      "Este valor es impar: 11\n",
      "Este valor es par: 12\n",
      "Este valor es impar: 13\n",
      "Este valor es par: 14\n",
      "Este valor es impar: 15\n",
      "Este valor es par: 16\n",
      "Este valor es impar: 17\n",
      "Este valor es par: 18\n",
      "Este valor es impar: 19\n",
      "Este valor es par: 20\n",
      "Este valor es impar: 21\n",
      "Este valor es par: 22\n",
      "Este valor es impar: 23\n",
      "Este valor es par: 24\n",
      "Este valor es impar: 25\n",
      "Este valor es par: 26\n",
      "Este valor es impar: 27\n",
      "Este valor es par: 28\n",
      "Este valor es impar: 29\n"
     ]
    }
   ],
   "source": [
    "# imprimir números pares\n",
    "for number in range(30):\n",
    "    if number%2==0:\n",
    "        print(\"Este valor es par: {}\".format(number))\n",
    "    if number%2==1:\n",
    "        print(\"Este valor es impar: {}\".format(number))"
   ]
  },
  {
   "cell_type": "markdown",
   "id": "3667c3d2-df3e-4536-812e-cb419128cb65",
   "metadata": {},
   "source": [
    "## ciclo for anidado:"
   ]
  },
  {
   "cell_type": "code",
   "execution_count": 5,
   "id": "958c580b-2eea-4d4e-bdb2-8b4c5391dbbe",
   "metadata": {},
   "outputs": [
    {
     "name": "stdout",
     "output_type": "stream",
     "text": [
      "el/la casa es circular.\n",
      "el/la casa es grande.\n",
      "el/la casa es blanca.\n",
      "el/la bicicleta es circular.\n",
      "el/la bicicleta es grande.\n",
      "el/la bicicleta es blanca.\n",
      "el/la zapato es circular.\n",
      "el/la zapato es grande.\n",
      "el/la zapato es blanca.\n"
     ]
    }
   ],
   "source": [
    "nouns = [\"casa\", \"bicicleta\", \"zapato\"]\n",
    "adjectives = [\"circular\", \"grande\", \"blanca\"]\n",
    "for noun in nouns:\n",
    "    for adjective in adjectives:\n",
    "        print(\"el/la {} es {}.\".format(noun, adjective))"
   ]
  },
  {
   "cell_type": "markdown",
   "id": "81408c0e-1076-4de7-a2d1-af679288b1a3",
   "metadata": {},
   "source": [
    "## ciclo while:"
   ]
  },
  {
   "cell_type": "code",
   "execution_count": 8,
   "id": "6e5e6145-6249-449f-a220-45b45d7da2eb",
   "metadata": {},
   "outputs": [
    {
     "name": "stdout",
     "output_type": "stream",
     "text": [
      "you are 6 you can't buy beer.\n",
      "you are 7 you can't buy beer.\n",
      "you are 8 you can't buy beer.\n",
      "you are 9 you can't buy beer.\n",
      "you are 10 you can't buy beer.\n",
      "you are 11 you can't buy beer.\n",
      "you are 12 you can't buy beer.\n",
      "you are 13 you can't buy beer.\n",
      "you are 14 you can't buy beer.\n",
      "you are 15 you can't buy beer.\n",
      "you are 16 you can't buy beer.\n",
      "you are 17 you can't buy beer.\n",
      "you are 18 now you can\n"
     ]
    }
   ],
   "source": [
    "age = 6\n",
    "while age < 18:\n",
    "    print(\"you are {} you can't buy beer.\".format(age))\n",
    "    age+=1\n",
    "print(\"you are {} now you can\".format(age))"
   ]
  },
  {
   "cell_type": "markdown",
   "id": "89ac7886-b793-4d20-8561-58724a2e6a91",
   "metadata": {},
   "source": [
    "## zip()"
   ]
  },
  {
   "cell_type": "code",
   "execution_count": 12,
   "id": "9928c0fe-3e51-4794-98df-cefbf6bea366",
   "metadata": {},
   "outputs": [
    {
     "name": "stdout",
     "output_type": "stream",
     "text": [
      "The key is: key1 |The value is: 123\n",
      "The key is: key2 |The value is: 234\n",
      "The key is: key3 |The value is: 345\n",
      "The key is: key4 |The value is: 456\n",
      "The key is: key5 |The value is: 678\n"
     ]
    }
   ],
   "source": [
    "my_keys = \"key1\", \"key2\", \"key3\", \"key4\", \"key5\"\n",
    "my_vals = 123,234,345,456,678,789,890\n",
    "my_dixi = dict(zip(my_keys, my_vals))\n",
    "for key,val in my_dixi.items():\n",
    "    print(\"The key is: {} |The value is: {}\".format(key, val))"
   ]
  },
  {
   "cell_type": "code",
   "execution_count": null,
   "id": "d1053c44-88da-4e71-a186-e7d72335e146",
   "metadata": {},
   "outputs": [],
   "source": []
  }
 ],
 "metadata": {
  "kernelspec": {
   "display_name": "Python 3 (ipykernel)",
   "language": "python",
   "name": "python3"
  },
  "language_info": {
   "codemirror_mode": {
    "name": "ipython",
    "version": 3
   },
   "file_extension": ".py",
   "mimetype": "text/x-python",
   "name": "python",
   "nbconvert_exporter": "python",
   "pygments_lexer": "ipython3",
   "version": "3.12.7"
  }
 },
 "nbformat": 4,
 "nbformat_minor": 5
}
