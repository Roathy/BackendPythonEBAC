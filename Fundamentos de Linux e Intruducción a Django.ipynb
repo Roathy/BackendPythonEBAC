{
 "cells": [
  {
   "cell_type": "markdown",
   "id": "f5124655-5885-48ab-8d1d-9c696ee22b3e",
   "metadata": {},
   "source": [
    "### Comando Secure Shell (SSH)\n",
    "Es un protocolo orientado a la gestión remota de sistemas y transferencia segura de datos"
   ]
  },
  {
   "cell_type": "code",
   "execution_count": null,
   "id": "08cba7ab-a4e7-4408-b07e-36fe77183ca3",
   "metadata": {},
   "outputs": [],
   "source": [
    "### Ejecutando linux en un contenedor\n",
    "https://github.com/nickjj/docker-django-example\n",
    "\n",
    "git clone https://github.com/nickjj/docker-django-example hellodjango\n",
    "\n",
    "cd hellodjango\n",
    "\n",
    "cp .env.example .env\n",
    "\n",
    "docker compose up --build\n",
    "\n",
    "docker exec -it hellodjango-web-1 bash"
   ]
  },
  {
   "cell_type": "markdown",
   "id": "bd5e7f32-d466-4880-9058-3d8c6b21762a",
   "metadata": {},
   "source": [
    "### Principales carpetas en Linux\n",
    "https://i.stack.imgur.com/3u7dC.jpg"
   ]
  },
  {
   "cell_type": "markdown",
   "id": "008ffb06-3e31-44c4-84f8-db9439cd83e7",
   "metadata": {},
   "source": [
    "### Commandos principales en Linux\n",
    "\n",
    "pwd - print working directory - imprime la ruta de la carpeta actual\n",
    "\n",
    "list - lista todo el contenido de la carpeta actual\n",
    "\n",
    "cd \"nombre_directorio\" | change directory / cd .. - cambia de carpeta a la que se especifica | cambia a un directorio un nivel superior al actual\n",
    "\n",
    "mkdir - make dir - crea una carpeta con el nombre especificado\n",
    "\n",
    "cp - copy - copia el primer archivo bajo el nombre del segundo parámetro\n",
    "\n",
    "touch - crea un archivo en la carpeta actual\n",
    "\n",
    "mv - move -mueve el archivo indicado a la ruta especificada y permite cambiar su nombre\n",
    "\n",
    "rm - remove - elimina el archivo indicado\n",
    "rm -r folder_name - para eliminar carpetas\n"
   ]
  },
  {
   "cell_type": "markdown",
   "id": "6f0c1ea2-da00-44e1-8fe2-97672c83bdb8",
   "metadata": {},
   "source": [
    "## ¿Qué es Django?\n",
    "- Django es un framework de pyathon para desarrollo web basado en la arquitectura MTV (Model Template Controller)\n",
    "\n",
    "## Migraciones\n",
    "- Una migración es un cambio a la base de datos, en este caso con el siguiente comando:\n",
    "  ./run manage migrate\n",
    "En Django standard:\n",
    "python manage.py migrate"
   ]
  },
  {
   "cell_type": "markdown",
   "id": "94d430b5-676e-4e13-a51b-28ce074ad0f8",
   "metadata": {},
   "source": [
    "## Estructura de un Proyecto en Django\n",
    "### Archivos de Proyecto\n",
    "- manage.py: es un archivo que contiene muchas funciones que permiten la interacción con Django\n",
    "- config/init.py: un archivo vacío que le informa a Python que este directorio/carpeta debería ser considerado como un paquete de Python\n",
    "- config/settings.py: Configuración o ajustes para el proyecto en django\n",
    "- config/urls.py: las declaraciones de los urls para el proyecto djnago. Es como un tabla de contenidos con los endpoints del sitio web\n",
    "- config/asgi.py: un punto de entrada para servidores web compatibles con ASGI para desplegar el proyecto\n",
    "- config/wsgi.py: un punto de entrada para servidores web compatibles con WSGI para desplegar el proyecto"
   ]
  },
  {
   "cell_type": "markdown",
   "id": "fa1bb2cd-e7c2-4dfc-9f5f-cbba0a4a0043",
   "metadata": {},
   "source": [
    "###  Archivos de Aplicación\n",
    "- admin.py: registrar tus modelos relacionados con el django admin\n",
    "- apps.py: contiene el código de la configuración de la app\n",
    "- models.py: define tus modelos aquí. Son las tablas en la base de datos para almacenar la información y definir sus relaciones\n",
    "- tests.py: escribir tests para la app\n",
    "- views.py: definir la información que será mandada a los templates del frontend"
   ]
  }
 ],
 "metadata": {
  "kernelspec": {
   "display_name": "Python [conda env:base] *",
   "language": "python",
   "name": "conda-base-py"
  },
  "language_info": {
   "codemirror_mode": {
    "name": "ipython",
    "version": 3
   },
   "file_extension": ".py",
   "mimetype": "text/x-python",
   "name": "python",
   "nbconvert_exporter": "python",
   "pygments_lexer": "ipython3",
   "version": "3.12.7"
  }
 },
 "nbformat": 4,
 "nbformat_minor": 5
}
