{
 "cells": [
  {
   "cell_type": "markdown",
   "id": "c0ec61ec-7a08-491e-883e-37b0f585d9f5",
   "metadata": {},
   "source": [
    "# Funciones en Python\n",
    "- Se puede entender como un molde reutilizable que contiene un conjunto de operaciones, puede aceptar valores o retornar un valor; y es un conjunto de código que realiza operaciones espefíficas.\n",
    "- Para crear una función se utiliza la palabra reservada: def\n",
    "- Para que la función regrese un valor se utiliza la palabra reservada: return"
   ]
  },
  {
   "cell_type": "markdown",
   "id": "16f6abf6-9105-488a-9ed4-92c4326b0706",
   "metadata": {},
   "source": [
    "### Notas\n",
    "- La palabra def es obligatoria\n",
    "- Los argumentos son opciones\n",
    "- Si la función no tiene una implementación se debe colocar por lo menos la palabra: pass"
   ]
  },
  {
   "cell_type": "markdown",
   "id": "141c0cdb-818e-4212-a300-861f5b95b5ba",
   "metadata": {},
   "source": [
    "### Parámetros Formales\n",
    "- En otros lenguajes de programación se conocen como argumentos, y son los parámetros definidos junto con la función\n",
    "### Parámetros Reales\n",
    "- Son los valores con los que se invoca la función"
   ]
  },
  {
   "cell_type": "code",
   "execution_count": 1,
   "id": "1889086b-df30-495e-ac6a-9024b9e6e96c",
   "metadata": {},
   "outputs": [
    {
     "name": "stdout",
     "output_type": "stream",
     "text": [
      "El valor del número es: 999\n"
     ]
    }
   ],
   "source": [
    "def print_number(number):\n",
    "    print(\"El valor del número es: {}\".format(number))\n",
    "print_number(999)"
   ]
  },
  {
   "cell_type": "markdown",
   "id": "9bd14cca-d972-4784-83d8-44d8f03ec276",
   "metadata": {},
   "source": [
    "### Funciones anidadas"
   ]
  },
  {
   "cell_type": "code",
   "execution_count": 7,
   "id": "e53a90c5-1ee9-4f25-8928-8bb9767d3efb",
   "metadata": {},
   "outputs": [
    {
     "name": "stdout",
     "output_type": "stream",
     "text": [
      "6\n",
      "0\n",
      "Ejecutando 'add' con los parámetros (3, 3)\n",
      "6\n",
      "None\n",
      "Ejecutando 'sub' con los parámetros (3, 3)\n",
      "0\n",
      "None\n"
     ]
    }
   ],
   "source": [
    "def logger(func):\n",
    "    def log_func(*args):\n",
    "        print(\"Ejecutando '{}' con los parámetros {}\".format(func.__name__, args))\n",
    "        print(func(*args))\n",
    "    return log_func\n",
    "\n",
    "def add(x,y):\n",
    "    print( x + y )\n",
    "def sub(x,y):\n",
    "    print( x - y )\n",
    "\n",
    "add(3,3)\n",
    "sub(3,3)\n",
    "add_logger = logger(add)\n",
    "sub_logger = logger(sub)\n",
    "add_logger(3,3)\n",
    "sub_logger(3,3)"
   ]
  },
  {
   "cell_type": "markdown",
   "id": "f93319db-7819-4eff-a1b4-de2a9efa9b87",
   "metadata": {},
   "source": [
    "## dir()\n",
    "- Función que se utiliza para mostrar todas las propiedades y métodos del parámetro proporcionado"
   ]
  },
  {
   "cell_type": "code",
   "execution_count": 8,
   "id": "75acffd8-b7ba-4883-8d71-7c715e16a2d8",
   "metadata": {},
   "outputs": [
    {
     "data": {
      "text/plain": [
       "['__annotations__',\n",
       " '__builtins__',\n",
       " '__call__',\n",
       " '__class__',\n",
       " '__closure__',\n",
       " '__code__',\n",
       " '__defaults__',\n",
       " '__delattr__',\n",
       " '__dict__',\n",
       " '__dir__',\n",
       " '__doc__',\n",
       " '__eq__',\n",
       " '__format__',\n",
       " '__ge__',\n",
       " '__get__',\n",
       " '__getattribute__',\n",
       " '__getstate__',\n",
       " '__globals__',\n",
       " '__gt__',\n",
       " '__hash__',\n",
       " '__init__',\n",
       " '__init_subclass__',\n",
       " '__kwdefaults__',\n",
       " '__le__',\n",
       " '__lt__',\n",
       " '__module__',\n",
       " '__name__',\n",
       " '__ne__',\n",
       " '__new__',\n",
       " '__qualname__',\n",
       " '__reduce__',\n",
       " '__reduce_ex__',\n",
       " '__repr__',\n",
       " '__setattr__',\n",
       " '__sizeof__',\n",
       " '__str__',\n",
       " '__subclasshook__',\n",
       " '__type_params__']"
      ]
     },
     "execution_count": 8,
     "metadata": {},
     "output_type": "execute_result"
    }
   ],
   "source": [
    "dir(add)"
   ]
  },
  {
   "cell_type": "code",
   "execution_count": 16,
   "id": "195d0c27-b531-4f29-803e-b88fdb2698b7",
   "metadata": {},
   "outputs": [
    {
     "name": "stdout",
     "output_type": "stream",
     "text": [
      "['__class__', '__class_getitem__', '__contains__', '__delattr__', '__delitem__', '__dir__', '__doc__', '__eq__', '__format__', '__ge__', '__getattribute__', '__getitem__', '__getstate__', '__gt__', '__hash__', '__init__', '__init_subclass__', '__ior__', '__iter__', '__le__', '__len__', '__lt__', '__ne__', '__new__', '__or__', '__reduce__', '__reduce_ex__', '__repr__', '__reversed__', '__ror__', '__setattr__', '__setitem__', '__sizeof__', '__str__', '__subclasshook__', 'clear', 'copy', 'fromkeys', 'get', 'items', 'keys', 'pop', 'popitem', 'setdefault', 'update', 'values']\n",
      "{'one': 1, 'two': 2}\n"
     ]
    }
   ],
   "source": [
    "my_dixi = {1: \"one\", 2: \"two\"}\n",
    "print(dir(my_dixi))\n",
    "other_dixi = {\"one\": 1, \"two\": 2}\n",
    "print(other_dixi)"
   ]
  },
  {
   "cell_type": "code",
   "execution_count": 10,
   "id": "7f13f2d8-2c0b-43f8-8b65-b13728077131",
   "metadata": {},
   "outputs": [
    {
     "name": "stdout",
     "output_type": "stream",
     "text": [
      "['__add__', '__class__', '__class_getitem__', '__contains__', '__delattr__', '__delitem__', '__dir__', '__doc__', '__eq__', '__format__', '__ge__', '__getattribute__', '__getitem__', '__getstate__', '__gt__', '__hash__', '__iadd__', '__imul__', '__init__', '__init_subclass__', '__iter__', '__le__', '__len__', '__lt__', '__mul__', '__ne__', '__new__', '__reduce__', '__reduce_ex__', '__repr__', '__reversed__', '__rmul__', '__setattr__', '__setitem__', '__sizeof__', '__str__', '__subclasshook__', 'append', 'clear', 'copy', 'count', 'extend', 'index', 'insert', 'pop', 'remove', 'reverse', 'sort']\n"
     ]
    }
   ],
   "source": [
    "my_list = [\"one\", \"two\"]\n",
    "print(dir(my_list))"
   ]
  },
  {
   "cell_type": "code",
   "execution_count": 2,
   "id": "5c58eb8e-9207-4b65-9446-42f79aa6979a",
   "metadata": {},
   "outputs": [
    {
     "name": "stdout",
     "output_type": "stream",
     "text": [
      "['__and__', '__class__', '__class_getitem__', '__contains__', '__delattr__', '__dir__', '__doc__', '__eq__', '__format__', '__ge__', '__getattribute__', '__getstate__', '__gt__', '__hash__', '__iand__', '__init__', '__init_subclass__', '__ior__', '__isub__', '__iter__', '__ixor__', '__le__', '__len__', '__lt__', '__ne__', '__new__', '__or__', '__rand__', '__reduce__', '__reduce_ex__', '__repr__', '__ror__', '__rsub__', '__rxor__', '__setattr__', '__sizeof__', '__str__', '__sub__', '__subclasshook__', '__xor__', 'add', 'clear', 'copy', 'difference', 'difference_update', 'discard', 'intersection', 'intersection_update', 'isdisjoint', 'issubset', 'issuperset', 'pop', 'remove', 'symmetric_difference', 'symmetric_difference_update', 'union', 'update']\n"
     ]
    }
   ],
   "source": [
    "my_set = {1,2,3,4,5}\n",
    "print(dir(my_set))"
   ]
  },
  {
   "cell_type": "code",
   "execution_count": 1,
   "id": "d9b41d0f-1709-448d-8364-32cffe4c4dfe",
   "metadata": {},
   "outputs": [
    {
     "name": "stdout",
     "output_type": "stream",
     "text": [
      "['__add__', '__class__', '__class_getitem__', '__contains__', '__delattr__', '__dir__', '__doc__', '__eq__', '__format__', '__ge__', '__getattribute__', '__getitem__', '__getnewargs__', '__getstate__', '__gt__', '__hash__', '__init__', '__init_subclass__', '__iter__', '__le__', '__len__', '__lt__', '__mul__', '__ne__', '__new__', '__reduce__', '__reduce_ex__', '__repr__', '__rmul__', '__setattr__', '__sizeof__', '__str__', '__subclasshook__', 'count', 'index']\n"
     ]
    }
   ],
   "source": [
    "my_tuple = (120, 53, 28)\n",
    "print(dir(my_tuple))"
   ]
  },
  {
   "cell_type": "markdown",
   "id": "b1066366-578c-4e63-9ded-ad86a85c8c66",
   "metadata": {},
   "source": [
    "## enumerate()"
   ]
  },
  {
   "cell_type": "code",
   "execution_count": 11,
   "id": "ee4df001-8b93-402e-88a6-3ced2126e61e",
   "metadata": {},
   "outputs": [
    {
     "name": "stdout",
     "output_type": "stream",
     "text": [
      "python\n",
      "dart\n",
      "golang\n",
      "c\n"
     ]
    }
   ],
   "source": [
    "languages = [\"python\", \"dart\", \"golang\", \"c\"]\n",
    "for language in languages:\n",
    "    print(language)"
   ]
  },
  {
   "cell_type": "code",
   "execution_count": 12,
   "id": "7a805ef7-acf1-4beb-aa40-24be58d145fc",
   "metadata": {},
   "outputs": [
    {
     "name": "stdout",
     "output_type": "stream",
     "text": [
      "Index is: 0 | Languange is: python\n",
      "Index is: 1 | Languange is: dart\n",
      "Index is: 2 | Languange is: golang\n",
      "Index is: 3 | Languange is: c\n"
     ]
    }
   ],
   "source": [
    "for index, lang in enumerate(languages):\n",
    "    print(\"Index is: {} | Languange is: {}\".format(index, lang))"
   ]
  },
  {
   "cell_type": "code",
   "execution_count": 13,
   "id": "89a64421-eed5-4096-a0e3-ebc57ef7f9be",
   "metadata": {},
   "outputs": [
    {
     "name": "stdout",
     "output_type": "stream",
     "text": [
      "Posición es: 1 | Lenguaje es: python\n",
      "Posición es: 2 | Lenguaje es: dart\n",
      "Posición es: 3 | Lenguaje es: golang\n",
      "Posición es: 4 | Lenguaje es: c\n"
     ]
    }
   ],
   "source": [
    "for index, lang in enumerate(languages, start=1):\n",
    "    print(\"Posición es: {} | Lenguaje es: {}\".format(index, lang))"
   ]
  },
  {
   "cell_type": "code",
   "execution_count": 4,
   "id": "26650e2a-f9c8-4ad2-a4ae-164d3fa66337",
   "metadata": {},
   "outputs": [
    {
     "name": "stdout",
     "output_type": "stream",
     "text": [
      "Requirement already satisfied: requests in c:\\users\\cel\\anaconda3\\lib\\site-packages (2.32.3)\n",
      "Requirement already satisfied: charset-normalizer<4,>=2 in c:\\users\\cel\\anaconda3\\lib\\site-packages (from requests) (3.3.2)\n",
      "Requirement already satisfied: idna<4,>=2.5 in c:\\users\\cel\\anaconda3\\lib\\site-packages (from requests) (3.7)\n",
      "Requirement already satisfied: urllib3<3,>=1.21.1 in c:\\users\\cel\\anaconda3\\lib\\site-packages (from requests) (2.2.3)\n",
      "Requirement already satisfied: certifi>=2017.4.17 in c:\\users\\cel\\anaconda3\\lib\\site-packages (from requests) (2024.8.30)\n"
     ]
    }
   ],
   "source": [
    "! pip install requests"
   ]
  },
  {
   "cell_type": "code",
   "execution_count": 6,
   "id": "6e6c7ff6-43bd-44ea-95c8-0bcbd0b5cbb5",
   "metadata": {},
   "outputs": [
    {
     "name": "stdout",
     "output_type": "stream",
     "text": [
      "['ConnectTimeout', 'ConnectionError', 'DependencyWarning', 'FileModeWarning', 'HTTPError', 'JSONDecodeError', 'NullHandler', 'PreparedRequest', 'ReadTimeout', 'Request', 'RequestException', 'RequestsDependencyWarning', 'Response', 'Session', 'Timeout', 'TooManyRedirects', 'URLRequired', '__author__', '__author_email__', '__build__', '__builtins__', '__cached__', '__cake__', '__copyright__', '__description__', '__doc__', '__file__', '__license__', '__loader__', '__name__', '__package__', '__path__', '__spec__', '__title__', '__url__', '__version__', '_check_cryptography', '_internal_utils', 'adapters', 'api', 'auth', 'certs', 'chardet_version', 'charset_normalizer_version', 'check_compatibility', 'codes', 'compat', 'cookies', 'delete', 'exceptions', 'get', 'head', 'hooks', 'logging', 'models', 'options', 'packages', 'patch', 'post', 'put', 'request', 'session', 'sessions', 'ssl', 'status_codes', 'structures', 'urllib3', 'utils', 'warnings']\n"
     ]
    }
   ],
   "source": [
    "import requests\n",
    "print(dir(requests))"
   ]
  },
  {
   "cell_type": "markdown",
   "id": "c5b559b2-b28e-4d17-a972-ebfc55f37b72",
   "metadata": {},
   "source": [
    "# Función Format"
   ]
  },
  {
   "cell_type": "code",
   "execution_count": 7,
   "id": "3ec1e9f9-8ab7-4669-8247-38f40ba496bf",
   "metadata": {},
   "outputs": [
    {
     "name": "stdout",
     "output_type": "stream",
     "text": [
      "El tipo de dato de my_var es <class 'int'>\n",
      "El tipo de valor de my_var es 10\n"
     ]
    }
   ],
   "source": [
    "my_var = 10\n",
    "print(\"El tipo de dato de my_var es {}\".format(type(my_var)))\n",
    "print(\"El tipo de valor de my_var es {}\".format(my_var))"
   ]
  },
  {
   "cell_type": "code",
   "execution_count": 8,
   "id": "7b8b2da0-940e-4abc-b047-f5045178a9bd",
   "metadata": {},
   "outputs": [
    {
     "name": "stdout",
     "output_type": "stream",
     "text": [
      "['golang', 'java', 'c++', 'dart']\n"
     ]
    },
    {
     "data": {
      "text/plain": [
       "<enumerate at 0x25123734ae0>"
      ]
     },
     "execution_count": 8,
     "metadata": {},
     "output_type": "execute_result"
    }
   ],
   "source": [
    "languages = [\"golang\", \"java\", \"c++\", \"dart\"]\n",
    "print(languages)\n",
    "enumerate(languages)"
   ]
  },
  {
   "cell_type": "code",
   "execution_count": 10,
   "id": "6ad1b2a4-4e3a-4ec6-9cc7-131d2ed792c3",
   "metadata": {},
   "outputs": [
    {
     "name": "stdout",
     "output_type": "stream",
     "text": [
      "Index: 1 | Language: golang\n",
      "Index: 2 | Language: java\n",
      "Index: 3 | Language: c++\n",
      "Index: 4 | Language: dart\n"
     ]
    }
   ],
   "source": [
    "for index, lang in enumerate(languages, start=1):\n",
    "    print(\"Index: {} | Language: {}\".format(index, lang))"
   ]
  },
  {
   "cell_type": "markdown",
   "id": "fb4da794-ee39-47dd-a9d6-a304e461888f",
   "metadata": {},
   "source": [
    "## Funciones Lambda"
   ]
  },
  {
   "cell_type": "code",
   "execution_count": 14,
   "id": "d85d6991-6b65-4e2e-894c-006b0239e1dc",
   "metadata": {},
   "outputs": [
    {
     "name": "stdout",
     "output_type": "stream",
     "text": [
      "<map object at 0x000002512379A170>\n"
     ]
    },
    {
     "data": {
      "text/plain": [
       "[100, 200, 300, 400, 500, 600, 700, 800, 900]"
      ]
     },
     "execution_count": 14,
     "metadata": {},
     "output_type": "execute_result"
    }
   ],
   "source": [
    "decenas = [10,20,30,40,50,60,70,80,90]\n",
    "centenas = map(lambda value:value*10, decenas)\n",
    "print(centenas)\n",
    "list(centenas)"
   ]
  },
  {
   "cell_type": "code",
   "execution_count": null,
   "id": "85f8f9eb-e976-42a2-8dc4-d5d940a40fad",
   "metadata": {},
   "outputs": [],
   "source": []
  }
 ],
 "metadata": {
  "kernelspec": {
   "display_name": "Python 3 (ipykernel)",
   "language": "python",
   "name": "python3"
  },
  "language_info": {
   "codemirror_mode": {
    "name": "ipython",
    "version": 3
   },
   "file_extension": ".py",
   "mimetype": "text/x-python",
   "name": "python",
   "nbconvert_exporter": "python",
   "pygments_lexer": "ipython3",
   "version": "3.12.7"
  }
 },
 "nbformat": 4,
 "nbformat_minor": 5
}
