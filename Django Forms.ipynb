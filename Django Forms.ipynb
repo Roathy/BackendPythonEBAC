{
 "cells": [
  {
   "cell_type": "markdown",
   "id": "7090ed0a-2bad-44f6-8341-81e061cac0dd",
   "metadata": {},
   "source": [
    "# Intro a Django Forms"
   ]
  },
  {
   "cell_type": "markdown",
   "id": "0fb54e42-2633-4264-885b-40dc5902d1b9",
   "metadata": {},
   "source": [
    "Form: una forma de recolectar datos de los usuario\n",
    "\n",
    "1. GET - Obtener datos como usuarios\n",
    "2. POST - Guardar datos como usuarios"
   ]
  },
  {
   "cell_type": "code",
   "execution_count": null,
   "id": "6b471d92-41d7-4932-be96-77d7bd038c60",
   "metadata": {},
   "outputs": [],
   "source": [
    "python manage.py startapp forms_test"
   ]
  },
  {
   "cell_type": "markdown",
   "id": "234890f0-bfdc-4616-b50d-d126925f44ee",
   "metadata": {},
   "source": [
    "### src/forms_test/forms.py"
   ]
  },
  {
   "cell_type": "code",
   "execution_count": null,
   "id": "883f1101-8893-465b-aecf-3b0d6aa22847",
   "metadata": {},
   "outputs": [],
   "source": [
    "from django import forms\n",
    "\n",
    "class SearchForm(forms.Form):\n",
    "    q = forms.CharField()"
   ]
  },
  {
   "cell_type": "markdown",
   "id": "18bfcd53-7848-4b37-94a3-9173b424850e",
   "metadata": {},
   "source": [
    "### src/forms_test/urls.py"
   ]
  },
  {
   "cell_type": "code",
   "execution_count": null,
   "id": "fe23170b-cd7c-4ae0-be11-8cfa5f4c5d9f",
   "metadata": {},
   "outputs": [],
   "source": [
    "from django.contrib import admin\n",
    "from django.urls import path\n",
    "\n",
    "from .views import home\n",
    "\n",
    "urlpatterns = [\n",
    "    path(\"admin/\", admin.site.urls),\n",
    "    path(\"\", home),\n",
    "]"
   ]
  },
  {
   "cell_type": "markdown",
   "id": "b4f5be5b-6b94-4e47-810d-b8afd8eac1b4",
   "metadata": {},
   "source": [
    "### src/forms_test/views.py"
   ]
  },
  {
   "cell_type": "code",
   "execution_count": null,
   "id": "66b60467-b727-4b9e-889d-1e84f4e12a65",
   "metadata": {},
   "outputs": [],
   "source": [
    "from django.shortcuts import render\n",
    "from .forms import SearchForm\n",
    "\n",
    "def home(request):\n",
    "    form = SearchForm()\n",
    "    return render(request, \"forms.html\", {\"form\":form})"
   ]
  },
  {
   "cell_type": "markdown",
   "id": "c4bafa70-8836-4aae-afcd-1c895c01aae2",
   "metadata": {},
   "source": [
    "### src/config/settings.py"
   ]
  },
  {
   "cell_type": "code",
   "execution_count": null,
   "id": "d6bd39cc-a8af-4ad3-a659-8d82fc86f714",
   "metadata": {},
   "outputs": [],
   "source": [
    "    \"forms_test.apps.FormsTestConfig\", # <-------"
   ]
  },
  {
   "cell_type": "markdown",
   "id": "c329c779-087a-40ef-bc50-086bddfa818b",
   "metadata": {},
   "source": [
    "### src/config/urls.py"
   ]
  },
  {
   "cell_type": "code",
   "execution_count": null,
   "id": "58b15701-ba3e-4f6f-9aea-a63ebb73f4e0",
   "metadata": {},
   "outputs": [],
   "source": [
    "    path(\"forms/\", include(\"forms_test.urls\")), # <-------"
   ]
  },
  {
   "cell_type": "markdown",
   "id": "ca7f1efa-4548-471e-9722-a438ccc9485b",
   "metadata": {},
   "source": [
    "# Tipos de campos de entrada para el form"
   ]
  },
  {
   "cell_type": "markdown",
   "id": "2ab75e59-a741-45aa-82d1-9f9b0d7dc25f",
   "metadata": {},
   "source": [
    "### src/forms_test/forms.py"
   ]
  },
  {
   "cell_type": "code",
   "execution_count": null,
   "id": "2a19be92-70e3-4781-9cb0-88c3315b0e26",
   "metadata": {},
   "outputs": [],
   "source": [
    "from django import forms\n",
    "\n",
    "class TestForm(forms.Form):\n",
    "    text_input = forms.CharField()\n",
    "    bool_input = forms.BooleanField()\n",
    "    int_input = forms.IntegerField()\n",
    "    email_input = forms.EmailField()"
   ]
  },
  {
   "cell_type": "markdown",
   "id": "f1f9a3ff-5d87-4421-8b39-81c87c7506d1",
   "metadata": {},
   "source": [
    "### src/forms_test/views.py"
   ]
  },
  {
   "cell_type": "code",
   "execution_count": null,
   "id": "5afd57a5-0609-4887-9a8a-00e71157929e",
   "metadata": {},
   "outputs": [],
   "source": [
    "from django.shortcuts import render\n",
    "\n",
    "from .forms import TestForm\n",
    "\n",
    "def home(request)\n",
    "    form = TestForm(request.POST or None)\n",
    "    return render(request, \"forms.html\", {\"form\": form})"
   ]
  },
  {
   "cell_type": "markdown",
   "id": "92a40d03-8283-491b-a865-3665a191adc7",
   "metadata": {},
   "source": [
    "## Obtener datos de un Django Form"
   ]
  },
  {
   "cell_type": "markdown",
   "id": "02b20a40-a413-4243-865a-b31515346334",
   "metadata": {},
   "source": [
    "### src/forms_test/views.py"
   ]
  },
  {
   "cell_type": "code",
   "execution_count": null,
   "id": "34e6b607-51b0-4179-80f9-3c2d7afb11d6",
   "metadata": {},
   "outputs": [],
   "source": [
    "from django.shortcuts import render\n",
    "\n",
    "from .forms import SearchForm\n",
    "\n",
    "def home(request):\n",
    "    form = SearchForm()\n",
    "    if form.is_valid():\n",
    "        print(form.cleaned_data)\n",
    "    return render(request, \"forms.html\", {\"form\": form})"
   ]
  },
  {
   "cell_type": "markdown",
   "id": "3bc5a95b-49b1-4449-a176-e44647f5db20",
   "metadata": {},
   "source": [
    "## Validaciones básicas para el Form"
   ]
  },
  {
   "cell_type": "markdown",
   "id": "5689fcc1-d2e7-4608-bb60-494b1525bfa3",
   "metadata": {},
   "source": [
    "### src/forms_test/forms.py"
   ]
  },
  {
   "cell_type": "code",
   "execution_count": null,
   "id": "7c38c0e5-e497-42d7-819f-d1dd6938288b",
   "metadata": {},
   "outputs": [],
   "source": [
    "from dejango import forms\n",
    "\n",
    "class TestForms(forms.Form):\n",
    "    text_input = forms.CharField()\n",
    "    bool_input = forms.BooleanField()\n",
    "    int_input = forms.IntegerField()\n",
    "    email_input = forms.EmailField()\n",
    "\n",
    "    def clean_int_input(self, *args, **kwargs):\n",
    "        entero = self.cleaned_data.get(\"text_input\")\n",
    "        if (entero<0):\n",
    "            raise.ValidatorError(\"El valor debe ser positivo\")\n",
    "        return entero\n",
    "\n",
    "    def clean_text_input(self, *args, **kwargs):\n",
    "        texto = self.cleaned_data.get(\"text_input\")\n",
    "        if(len(texto) < 30):\n",
    "            raise.ValidatorError(\"Ingresa al menos 30 caracteres\")\n",
    "        return texto"
   ]
  },
  {
   "cell_type": "markdown",
   "id": "72b687cf-ad2d-43e0-a449-922c95a50c54",
   "metadata": {},
   "source": [
    "## Datos iniciales en un Form\n",
    "- En el Form\n",
    "- En el View"
   ]
  },
  {
   "cell_type": "markdown",
   "id": "5967f6c0-45a3-4ecd-86ad-2a6ffc8ab2de",
   "metadata": {},
   "source": [
    "### src/forms_test/forms.py\n",
    "- Estas configuraciones toman segundo orden de prioridad, es posible que no sean mostradas"
   ]
  },
  {
   "cell_type": "code",
   "execution_count": null,
   "id": "385af73a-5719-4120-bb12-d2d79befd070",
   "metadata": {},
   "outputs": [],
   "source": [
    "from django import forms\n",
    "\n",
    "class SearchForm(forms.Form):\n",
    "    text_input = forms.CharField()\n",
    "    bool_input = forms.BooleanField(initial=True)\n",
    "    int_input = forms.IntegerField()\n",
    "    email_input = forms.EmailField()\n",
    "    \n",
    "    def clean_int_input(self, *args, **kwargs):\n",
    "        entero = self.cleaned_data.get(\"int_input\")\n",
    "        if(entero < 0):\n",
    "            raise forms.ValidationError(\"El número no puede ser negativo\")\n",
    "        return entero\n",
    "    \n",
    "    def clean_text_input(self, *args, **kwargs):\n",
    "        texto = self.cleaned_data.get(\"text_input\")\n",
    "        if(len(texto) < 30):\n",
    "            raise forms.ValidationError(\"Utiliza al menos 30 caracteres\")\n",
    "        return texto"
   ]
  },
  {
   "cell_type": "markdown",
   "id": "b8ba4f99-e905-4dfe-aeda-feed8e28e0eb",
   "metadata": {},
   "source": [
    "### src/forms_test/views.py\n",
    "- Estas configuraciones toman primer orden de prioridad y son mostradas "
   ]
  },
  {
   "cell_type": "code",
   "execution_count": null,
   "id": "bfc9426f-7029-400e-9781-5fbb3eb76af6",
   "metadata": {},
   "outputs": [],
   "source": [
    "from django.shortcuts import render\n",
    "\n",
    "from .forms import SearchForm\n",
    "\n",
    "def home(request):\n",
    "    initial_data = {\n",
    "        \"text_input\": \"base text\",\n",
    "        # \"bool_input\": True,\n",
    "        \"int_input\": 1,\n",
    "        \"email_input\": \"sample@mail.ml\"\n",
    "    }\n",
    "    form = SearchForm(request.POST or None, initial=initial_data)\n",
    "    if form.is_valid():\n",
    "        print(form.cleaned_data)\n",
    "    return render(request, \"forms.html\", {\"form\": form})"
   ]
  },
  {
   "cell_type": "markdown",
   "id": "f7253424-00b4-4fb0-9037-b4db99c87478",
   "metadata": {},
   "source": [
    "## Etiquetas y Widgets de Forms\n",
    "- Por default la etiqueta del input será la misma que el nombre del campo en el formato\n",
    "- Asignar un valor al atributo \"label\" sobreescribe el valor default"
   ]
  },
  {
   "cell_type": "markdown",
   "id": "b1e8fdc1-94b4-4e2d-96f7-b7fcb74be000",
   "metadata": {},
   "source": [
    "### src/forms_test/forms.py"
   ]
  },
  {
   "cell_type": "code",
   "execution_count": null,
   "id": "ef557d3b-cabe-498b-9910-74aef3db6de8",
   "metadata": {},
   "outputs": [],
   "source": [
    "from django import forms\n",
    "import datetime\n",
    "\n",
    "YEARS = range(1920, datetime.date.today().year + 1)\n",
    "\n",
    "# El usuario ve el segundo valor de la tupla\n",
    "# El primer valor es el que se envía al servidor\n",
    "CHOICES = [\n",
    "    (\"a\", \"Opción A\"),\n",
    "    (\"b\", \"Opción B\"),\n",
    "    (\"c\", \"Opción C\"),\n",
    "]\n",
    "\n",
    "class SearchForm(forms.Form):\n",
    "    date_input = forms.DateField(\n",
    "        initial=datetime.date.today,  # Establecer la fecha actual\n",
    "        widget=forms.SelectDateWidget(years=YEARS),  # Permitir hasta el año actual\n",
    "        label=\"Fecha:\"\n",
    "    )\n",
    "    text_input = forms.CharField(\n",
    "        label=\"Descripción:\",\n",
    "        widget=forms.Textarea(attrs={\"cols\": 90, \"rows\": 3})\n",
    "    )\n",
    "    bool_input = forms.BooleanField(label=\"Asignar:\", initial=True)\n",
    "    int_input = forms.IntegerField(label=\"Cantidad:\")\n",
    "    email_input = forms.EmailField(label=\"Email:\")\n",
    "    options_input = forms.CharField(\n",
    "        label=\"Selecciona una opción:\",\n",
    "        widget=forms.Select(choices=CHOICES)\n",
    "    )\n",
    "    radio_input = forms.CharField(\n",
    "        label=\"Selecciona una opción:\",\n",
    "        widget=forms.RadioSelect(choices=CHOICES)\n",
    "    )\n",
    "    checkbox_input = forms.CharField(\n",
    "        label=\"Selecciona las que apliquen:\",\n",
    "        widget=forms.CheckboxSelectMultiple(choices=CHOICES)\n",
    "    )\n",
    "    \n",
    "    def clean_int_input(self):\n",
    "        entero = self.cleaned_data.get(\"int_input\")\n",
    "        if(entero < 0):\n",
    "            raise forms.ValidationError(\"El número no puede ser negativo\")\n",
    "        return entero\n",
    "    \n",
    "    def clean_text_input(self):\n",
    "        texto = self.cleaned_data.get(\"text_input\")\n",
    "        if(len(texto) < 30):\n",
    "            raise forms.ValidationError(\"Utiliza al menos 30 caracteres\")\n",
    "        return texto"
   ]
  },
  {
   "cell_type": "markdown",
   "id": "4fba2f44-41e4-40b0-bcc9-6584c96625ff",
   "metadata": {},
   "source": [
    "## Model Form"
   ]
  },
  {
   "cell_type": "markdown",
   "id": "d9c15507-8dd6-43d4-84d0-67783d0273cb",
   "metadata": {},
   "source": [
    "### src/forms_test/forms.py"
   ]
  },
  {
   "cell_type": "code",
   "execution_count": null,
   "id": "eb47d3a2-2fb7-468b-a40b-01c4b8d51e1f",
   "metadata": {},
   "outputs": [],
   "source": [
    "... from .models import Product\n",
    "\n",
    "class ProductModelForm(forms.ModelForm):\n",
    "    class Meta:\n",
    "        model = Product\n",
    "        fields = [\n",
    "            \"title\",\n",
    "            \"slug\",\n",
    "            \"price\",\n",
    "        ]\n",
    "        exclude = []"
   ]
  },
  {
   "cell_type": "markdown",
   "id": "bab9df1c-9033-47a0-8f06-814b8eac8e7e",
   "metadata": {},
   "source": [
    "### src/forms_test/models.py"
   ]
  },
  {
   "cell_type": "code",
   "execution_count": null,
   "id": "23cfdce3-387a-42df-9df7-6b71f7e541c1",
   "metadata": {},
   "outputs": [],
   "source": [
    "from django.db import models\n",
    "from django.db import models\n",
    "\n",
    "class Product(models.Model):\n",
    "    title = models.CharField(max_length=255)\n",
    "    slug = models.SlugField(max_length=255, unique=True)\n",
    "    price = models.FloatField()"
   ]
  },
  {
   "cell_type": "markdown",
   "id": "634fb1fe-2129-4de4-94da-41b4c55007ba",
   "metadata": {},
   "source": [
    "### src/forms_test/admin.py"
   ]
  },
  {
   "cell_type": "code",
   "execution_count": null,
   "id": "bf1ab32e-c556-4f3a-8bf9-54ebe11e2173",
   "metadata": {},
   "outputs": [],
   "source": [
    "from django.contrib import admin\n",
    "\n",
    "from .models import Product\n",
    "\n",
    "admin.site.register(Product)"
   ]
  },
  {
   "cell_type": "markdown",
   "id": "3eec6cb5-7929-4b1e-9be1-115dd331dfce",
   "metadata": {},
   "source": [
    "## Django Formsets"
   ]
  },
  {
   "cell_type": "markdown",
   "id": "2c516949-8216-4fd5-a249-e05f5e980d8f",
   "metadata": {},
   "source": [
    "### src/templates/base.html"
   ]
  },
  {
   "cell_type": "code",
   "execution_count": null,
   "id": "70f6648d-cad4-48a4-bc84-f98edc181b98",
   "metadata": {},
   "outputs": [],
   "source": [
    "<body>\n",
    "    <div class=\"container\">\n",
    "        {% block content %}\n",
    "        {% endblock %}\n",
    "    </div>\n",
    "</body>"
   ]
  },
  {
   "cell_type": "markdown",
   "id": "4a8799b0-a889-41d8-8979-72076cd32008",
   "metadata": {},
   "source": [
    "### src/templates/formset_view.html"
   ]
  },
  {
   "cell_type": "code",
   "execution_count": null,
   "id": "8446f5ee-0194-40f0-9059-cd8b24e789a8",
   "metadata": {},
   "outputs": [],
   "source": [
    "{% extends \"base.html\" %}\n",
    "\n",
    "{% block content %}\n",
    "\n",
    "<h1>Formset View</h1>\n",
    "\n",
    "<form action=\"\" method=\"POST\">\n",
    "    {% csrf_token %}\n",
    "\n",
    "    {{ formset.management_form }}\n",
    "    {% for form in formset %}\n",
    "        <div>\n",
    "            {{form.as_p}}\n",
    "            <br/>\n",
    "        </div>\n",
    "    {% endfor %}\n",
    "\n",
    "    <input type=\"submit\" value=\"Guardar\">\n",
    "</form>"
   ]
  },
  {
   "cell_type": "markdown",
   "id": "f936aab9-a469-4bf5-a8f4-85eb064e3ff0",
   "metadata": {},
   "source": [
    "### src/forms_test/views.py"
   ]
  },
  {
   "cell_type": "code",
   "execution_count": null,
   "id": "38411444-52f8-4a22-8c2d-6fb0765114ce",
   "metadata": {},
   "outputs": [],
   "source": [
    "from django.shortcuts import render\n",
    "from django.forms import formset_factory, modelformset_factory\n",
    "\n",
    "from .forms import SearchForm, ProductModelForm\n",
    "\n",
    "def home(request):\n",
    "    TestFormSet = formset_factory(SearchForm, extra=3)\n",
    "    formset = TestFormSet(request.POST or None)\n",
    "    \n",
    "    for form in formset:\n",
    "        print(form.data)\n",
    "    context = {\n",
    "        \"formset\": formset,\n",
    "    }\n",
    "    # initial_data = {\n",
    "        # \"text_input\": \"base text\",\n",
    "        # \"bool_input\": True,\n",
    "        # \"int_input\": 1,\n",
    "        # \"email_input\": \"sample@mail.ml\"\n",
    "    # }\n",
    "    # form = SearchForm(request.POST or None, initial=initial_data)\n",
    "    # if form.is_valid():\n",
    "        # print(form.cleaned_data)\n",
    "    return render(request, \"formset_view.html\", context)"
   ]
  },
  {
   "cell_type": "markdown",
   "id": "520269c4-e6dc-4d5a-8bc9-5a82481ddbd8",
   "metadata": {},
   "source": [
    "## Django ModelFormsets\n",
    "- Es un grupo de ModelForms"
   ]
  },
  {
   "cell_type": "markdown",
   "id": "3ea94e68-f798-4e79-904f-29cbac79ae81",
   "metadata": {},
   "source": [
    "### src/forms_test/views.py"
   ]
  },
  {
   "cell_type": "code",
   "execution_count": null,
   "id": "dd2b3fa5-f4ad-46c0-8438-44b0fab2ee1d",
   "metadata": {},
   "outputs": [],
   "source": [
    "from django.forms import formset_factory, modelformset_factory\n",
    "from django.shortcuts import render\n",
    "\n",
    "from .forms import SearchForm, ProductModelForm\n",
    "from .models import Product\n",
    "\n",
    "def home(request):\n",
    "    ProductModelFormSet = modelformset_factory(Product, form=ProductModelForm)\n",
    "    formset = ProductModelFormSet(request.POST or None, queryset=Product.objects.all())\n",
    "    \n",
    "    print(\"formset.data\")\n",
    "    print(formset.data)\n",
    "    print(\"formset.errors\")\n",
    "    print(formset.errors)\n",
    "    \n",
    "    # formset.clean()\n",
    "    if formset.is_valid():\n",
    "        print(\"ModelFormset es válido\")\n",
    "        formset.save()\n",
    "    \n",
    "    # for form in formset:\n",
    "        # print(form.data)\n",
    "    context = {\n",
    "        \"formset\": formset,\n",
    "    }\n",
    "    # initial_data = {\n",
    "        # \"text_input\": \"base text\",\n",
    "        # \"bool_input\": True,\n",
    "        # \"int_input\": 1,\n",
    "        # \"email_input\": \"sample@mail.ml\"\n",
    "    # }\n",
    "    # form = SearchForm(request.POST or None, initial=initial_data)\n",
    "    # if form.is_valid():\n",
    "        # print(form.cleaned_data)\n",
    "    return render(request, \"formset_view.html\", context)"
   ]
  },
  {
   "cell_type": "code",
   "execution_count": null,
   "id": "cfe23caa-5c18-4426-9d14-b8107961fbb4",
   "metadata": {},
   "outputs": [],
   "source": []
  },
  {
   "cell_type": "code",
   "execution_count": null,
   "id": "877e38c3-020c-4ee7-aefb-5163ed5e5f70",
   "metadata": {},
   "outputs": [],
   "source": []
  },
  {
   "cell_type": "code",
   "execution_count": null,
   "id": "3f7693b6-2954-40a3-97e4-0d8f16e33d94",
   "metadata": {},
   "outputs": [],
   "source": []
  },
  {
   "cell_type": "code",
   "execution_count": null,
   "id": "0d044e85-4597-4db5-b6e6-37def298a6f6",
   "metadata": {},
   "outputs": [],
   "source": []
  },
  {
   "cell_type": "code",
   "execution_count": null,
   "id": "57a047e2-06b7-4ff9-bf1a-20dbfc56d848",
   "metadata": {},
   "outputs": [],
   "source": []
  },
  {
   "cell_type": "code",
   "execution_count": null,
   "id": "1e116817-f499-4d3a-941f-cc097eb0060e",
   "metadata": {},
   "outputs": [],
   "source": []
  },
  {
   "cell_type": "code",
   "execution_count": null,
   "id": "4e080d37-6c63-412d-a9dd-2c7a73b1317c",
   "metadata": {},
   "outputs": [],
   "source": []
  },
  {
   "cell_type": "code",
   "execution_count": null,
   "id": "62037287-7de0-4036-ba34-e20a80768e29",
   "metadata": {},
   "outputs": [],
   "source": []
  },
  {
   "cell_type": "code",
   "execution_count": null,
   "id": "7cc4a42f-587e-4351-9717-6a34d7b7b6bd",
   "metadata": {},
   "outputs": [],
   "source": []
  },
  {
   "cell_type": "code",
   "execution_count": null,
   "id": "fe142807-73a5-4fa6-a49a-9e36ae53d788",
   "metadata": {},
   "outputs": [],
   "source": []
  },
  {
   "cell_type": "code",
   "execution_count": null,
   "id": "9a0232d1-8c6a-42b8-846f-f7a310cb7197",
   "metadata": {},
   "outputs": [],
   "source": []
  },
  {
   "cell_type": "code",
   "execution_count": null,
   "id": "e3873001-0790-478a-908e-635f175ce45e",
   "metadata": {},
   "outputs": [],
   "source": []
  },
  {
   "cell_type": "code",
   "execution_count": null,
   "id": "6231c5d6-2256-4c1c-87b9-618106c29246",
   "metadata": {},
   "outputs": [],
   "source": []
  },
  {
   "cell_type": "code",
   "execution_count": null,
   "id": "37d4699b-b52d-45d4-a427-b21739a8a90a",
   "metadata": {},
   "outputs": [],
   "source": []
  },
  {
   "cell_type": "code",
   "execution_count": null,
   "id": "6455b4d9-6134-430e-a625-4df0b519eb6d",
   "metadata": {},
   "outputs": [],
   "source": []
  },
  {
   "cell_type": "code",
   "execution_count": null,
   "id": "40b1aa30-6b42-4caf-b767-d403f16e4515",
   "metadata": {},
   "outputs": [],
   "source": []
  },
  {
   "cell_type": "code",
   "execution_count": null,
   "id": "c34d5208-8465-446c-a6ae-4440dd4d4066",
   "metadata": {},
   "outputs": [],
   "source": []
  },
  {
   "cell_type": "code",
   "execution_count": null,
   "id": "947a6b4b-f813-4d0f-9e3b-e3c2a99898c4",
   "metadata": {},
   "outputs": [],
   "source": []
  }
 ],
 "metadata": {
  "kernelspec": {
   "display_name": "Python [conda env:base] *",
   "language": "python",
   "name": "conda-base-py"
  },
  "language_info": {
   "codemirror_mode": {
    "name": "ipython",
    "version": 3
   },
   "file_extension": ".py",
   "mimetype": "text/x-python",
   "name": "python",
   "nbconvert_exporter": "python",
   "pygments_lexer": "ipython3",
   "version": "3.12.7"
  }
 },
 "nbformat": 4,
 "nbformat_minor": 5
}
