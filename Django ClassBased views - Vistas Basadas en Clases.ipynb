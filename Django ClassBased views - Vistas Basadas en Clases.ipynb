{
 "cells": [
  {
   "cell_type": "markdown",
   "id": "d80c4a95-2151-4a28-9808-00c04192ba83",
   "metadata": {},
   "source": [
    "# Vistas basadas en clases (CBV)"
   ]
  },
  {
   "cell_type": "code",
   "execution_count": null,
   "id": "b80d0285-8a4e-44af-9f70-7237b2e42d7e",
   "metadata": {},
   "outputs": [],
   "source": [
    "python manage.py startapp products"
   ]
  },
  {
   "cell_type": "markdown",
   "id": "cf73f992-d1db-4534-992e-84ace36392ec",
   "metadata": {},
   "source": [
    "## products/views.py"
   ]
  },
  {
   "cell_type": "code",
   "execution_count": null,
   "id": "1ac22537-1bca-4f12-a4e4-2509f3bdf091",
   "metadata": {},
   "outputs": [],
   "source": [
    "from django.shortcuts import render\n",
    "from django.views.generic import View, ListView\n",
    "from django.decorations.http import require_http_methods\n",
    "\n",
    "from .models import Product, Post, User\n",
    "\n",
    "# Create your views here.\n",
    "def product_list_view(request):\n",
    "    if request.method == \"POST\":\n",
    "        print(request.POST)\n",
    "    print(request.method == \"POST\")\n",
    "    return render(request, \"template\", {})\n",
    "\n",
    "class ProductHomeView(View):\n",
    "    def get(self, request, *args, **kwargs):\n",
    "        return render(request, \"template\", {})\n",
    "    \n",
    "    def post(self, request, *args, **ksargs):\n",
    "        print(render.POST)\n",
    "        return render(request, \"template\", {})\n",
    "    \n",
    "class ProductListView(ListView):\n",
    "    queryset = Product.objects.all()\n",
    "\n",
    "product_list_view = ProductListView.as_view()\n",
    "\n",
    "class BlogPostListView(ListView):\n",
    "    queryset = Post.objects.all()\n",
    "\n",
    "class UsersPostsListView(ListView):\n",
    "    queryset = User.objects.all()"
   ]
  },
  {
   "cell_type": "markdown",
   "id": "92ffd9dc-6f33-4bc5-bc3e-5b0b3b01f89a",
   "metadata": {},
   "source": [
    "# TemplateView"
   ]
  },
  {
   "cell_type": "markdown",
   "id": "be1aa0ec-b4e1-4572-b17c-aa2c3fddb76b",
   "metadata": {},
   "source": [
    "### src/templates/about.html"
   ]
  },
  {
   "cell_type": "code",
   "execution_count": null,
   "id": "c70c3a22-c6e3-4129-8211-2d3bf2fad28f",
   "metadata": {},
   "outputs": [],
   "source": [
    "<h1>Acerca del Ecommerce</h1>"
   ]
  },
  {
   "cell_type": "markdown",
   "id": "5f91e235-dc56-4b83-af9a-41ff05cafc2a",
   "metadata": {},
   "source": [
    "### src/products/views.py"
   ]
  },
  {
   "cell_type": "code",
   "execution_count": null,
   "id": "cd108fb9-525e-420e-a49f-06bb97b2ac32",
   "metadata": {},
   "outputs": [],
   "source": [
    "from django.views.generic import View, ListView, TemplateView\n",
    "from django.shortcuts import render\n",
    "\n",
    "from .models import Product\n",
    "\n",
    "class AboutUsView(View):\n",
    "    def get(self, request):\n",
    "        return render(request, \"about.html\", {})\n",
    "\n",
    "class AboutUsTemplateView(TemplateView):\n",
    "    def get(self, request):\n",
    "        return render(request, \"about.html\", {})"
   ]
  },
  {
   "cell_type": "markdown",
   "id": "e6429568-6171-4f6a-aa0f-b9c9046bd185",
   "metadata": {},
   "source": [
    "### src/products/urls.py"
   ]
  },
  {
   "cell_type": "code",
   "execution_count": null,
   "id": "4d9cc5a1-957c-4cad-be6c-d4e1c5dd3b4b",
   "metadata": {},
   "outputs": [],
   "source": [
    "from django.contrib import admin\n",
    "from django.urls import path\n",
    "from django.views.generic import TemplateView\n",
    "\n",
    "from products import views\n",
    "\n",
    "urlpatterns = [\n",
    "    path(\"admin/\", admin.site.urls),\n",
    "    path(\"about/\", TemplateView.as_view(template_name=\"about.html\")),\n",
    "    path(\"team/\", TemplateView.as_view(template_name=\"team.html\")),\n",
    "]"
   ]
  },
  {
   "cell_type": "markdown",
   "id": "d1a4da9f-b0af-4f38-b191-5ff2206b6e58",
   "metadata": {},
   "source": [
    "### src/config/settings.py"
   ]
  },
  {
   "cell_type": "code",
   "execution_count": null,
   "id": "2c80c6aa-72b3-47a1-9a52-eb08e381b74a",
   "metadata": {},
   "outputs": [],
   "source": [
    "INSTALLED_APPS = [\n",
    "    \"products.apps.ProductsConfig\", # <-------\n",
    "    ...\n",
    "]"
   ]
  },
  {
   "cell_type": "markdown",
   "id": "66fc9618-db13-4a4f-be32-b420470a45b8",
   "metadata": {},
   "source": [
    "### src/config/urls.py"
   ]
  },
  {
   "cell_type": "code",
   "execution_count": null,
   "id": "befeff11-7803-4a0f-ae79-53a780191b7a",
   "metadata": {},
   "outputs": [],
   "source": [
    "urlpatterns = [\n",
    "    path(\"products/\", include(\"products.urls\")),\n",
    "    ...\n",
    "]"
   ]
  },
  {
   "cell_type": "markdown",
   "id": "7ef5cff2-b35b-4faa-b48d-bca7b83e804f",
   "metadata": {},
   "source": [
    "## RedirectView o Vista de Redireccionamiento"
   ]
  },
  {
   "cell_type": "markdown",
   "id": "79963e15-4927-4402-ab61-aeba24c05273",
   "metadata": {},
   "source": [
    "### src/products/urls.py"
   ]
  },
  {
   "cell_type": "code",
   "execution_count": null,
   "id": "4ad682ab-1e69-404c-8b2f-acca8c8bed65",
   "metadata": {},
   "outputs": [],
   "source": [
    "drom django.views.generic import TemplateView, RedirectView # <-------\n",
    "\n",
    "urlpatterns = [\n",
    "    path(\"about-us/\", RedirectView.as_view(url=\"/products/about/\")), # <-------\n",
    "    ...\n",
    "]"
   ]
  },
  {
   "cell_type": "markdown",
   "id": "8fc5aca3-692c-4554-97c7-48730442a497",
   "metadata": {},
   "source": [
    "## DetailView y ListView"
   ]
  },
  {
   "cell_type": "markdown",
   "id": "039ecbb3-0545-48e2-a581-858b9a6cc301",
   "metadata": {},
   "source": [
    "### src/products/models.py"
   ]
  },
  {
   "cell_type": "code",
   "execution_count": null,
   "id": "affca8c6-77a7-4449-953b-bb1d47f0d5ba",
   "metadata": {},
   "outputs": [],
   "source": [
    "from django.db import models\n",
    "\n",
    "class Product(models.Model):\n",
    "    title = models.CharField(max_length=255)\n",
    "    slug = models.SlugField(max_length=255, unique=True)"
   ]
  },
  {
   "cell_type": "markdown",
   "id": "b2800e17-4d2f-4b9c-8066-c4996c4017e1",
   "metadata": {},
   "source": [
    "### src/products/views.py"
   ]
  },
  {
   "cell_type": "code",
   "execution_count": null,
   "id": "08fd6063-6e61-4910-85f4-0119dda70901",
   "metadata": {},
   "outputs": [],
   "source": [
    "from django.http import HttpResponseRedirect\n",
    "from django.views.generic import DetailView, ListView\n",
    "from django.shortcuts import render\n",
    "\n",
    "from .models import Product\n",
    "\n",
    "class ProductDetailView(DetailView):\n",
    "    model = Product\n",
    "\n",
    "class ProductListView(ListView):\n",
    "    model = Product"
   ]
  },
  {
   "cell_type": "markdown",
   "id": "c3f2f505-fa12-409d-8ea5-17106790dbdb",
   "metadata": {},
   "source": [
    "### src/products/urls.py"
   ]
  },
  {
   "cell_type": "code",
   "execution_count": null,
   "id": "a3cecff7-f46c-42bd-aa4c-9f6d24ab4db5",
   "metadata": {},
   "outputs": [],
   "source": [
    "from django.contrib import admin\n",
    "from django.urls import path\n",
    "from djnago.views.generic import TemplateView, RedirectView\n",
    "\n",
    "from products.views import ProductListView, ProductDetailView\n",
    "\n",
    "urlpatterns = [\n",
    "    ...\n",
    "    path(\"products/\", ProductListView.as_view()),\n",
    "    path(\"products/<int:pk>\", ProductDetailView.as_view()),\n",
    "    ...\n",
    "]"
   ]
  },
  {
   "cell_type": "markdown",
   "id": "21132c76-93f4-4318-9089-fad0d2a96097",
   "metadata": {},
   "source": [
    "### src/templates/products/product_list.html\n",
    "### src/templates/products/product_details.html"
   ]
  },
  {
   "cell_type": "markdown",
   "id": "cfe9cf18-c4ba-476d-b2c0-10bea54f006f",
   "metadata": {},
   "source": [
    "### src/products/admin.py"
   ]
  },
  {
   "cell_type": "code",
   "execution_count": null,
   "id": "838c1128-0f0f-4859-867b-fb168cfdfd01",
   "metadata": {},
   "outputs": [],
   "source": [
    "from django.contrib import admin\n",
    "\n",
    "from .models import Product\n",
    "\n",
    "# Register your models here.\n",
    "admin.site.register(Product)"
   ]
  },
  {
   "cell_type": "markdown",
   "id": "fc275591-295a-4e2f-9651-7c5cc0087160",
   "metadata": {},
   "source": [
    "## Obtener la Data del contexto"
   ]
  },
  {
   "cell_type": "code",
   "execution_count": null,
   "id": "6df339ea-f5c8-43c7-91f8-bb8c802d1657",
   "metadata": {},
   "outputs": [],
   "source": [
    "class ProductListView(ListView):\n",
    "    ...\n",
    "\n",
    "    def get_context_data(self, *args, **kwargs):\n",
    "        context = super().get_context_data(*args, **kwargs)\n",
    "        print(context)\n",
    "        context[\"title\"] = \"Ecommerce\"\n",
    "        return context"
   ]
  },
  {
   "cell_type": "markdown",
   "id": "c608516c-be65-42a0-bcc5-d17ce443c6cf",
   "metadata": {},
   "source": [
    "### src/templates/products/product_list.html"
   ]
  },
  {
   "cell_type": "code",
   "execution_count": null,
   "id": "f4699c24-367c-43c5-8d76-56ca242baa8e",
   "metadata": {},
   "outputs": [],
   "source": [
    "{{ title }}\n",
    "\n",
    "{% for product in object_list %}\n",
    "    <li> {{ object.title }} - {{ object.slug }} </li>\n",
    "{% endfor %}"
   ]
  },
  {
   "cell_type": "markdown",
   "id": "7f8b17de-83b0-40e0-9270-edf8a5aa8af0",
   "metadata": {},
   "source": [
    "## Modelos Proxy"
   ]
  },
  {
   "cell_type": "markdown",
   "id": "1d7ce38d-e290-410f-8cd1-d11e8d557744",
   "metadata": {},
   "source": [
    "### src/products/models.py"
   ]
  },
  {
   "cell_type": "code",
   "execution_count": null,
   "id": "c376cf8b-26c8-477c-ada9-a1f639100ac8",
   "metadata": {},
   "outputs": [],
   "source": [
    "...\n",
    "\n",
    "class DigitalProduct(Product):\n",
    "    class Meta:\n",
    "        proxy = True"
   ]
  },
  {
   "cell_type": "markdown",
   "id": "6df822ff-abf1-4aff-81fc-2f47a0170c14",
   "metadata": {},
   "source": [
    "### src/products/views.py"
   ]
  },
  {
   "cell_type": "code",
   "execution_count": null,
   "id": "ccd19b17-9c7c-4eb5-9bc5-92fd6201df66",
   "metadata": {},
   "outputs": [],
   "source": [
    "...\n",
    "\n",
    "class DigitalProductListView(ListView):\n",
    "    model = DigitalProduct\n",
    "    template_name = \"products/product_list.html\"\n",
    "\n",
    "    def get_context_data(self, *args, **kwargs):\n",
    "        context = super().get_context_data(*args, **kwargs)\n",
    "        print(context)\n",
    "        context[\"title\"] = \"Ecommerce\"\n",
    "        return context"
   ]
  },
  {
   "cell_type": "markdown",
   "id": "82da5470-2d13-4996-964a-bdfa0c87069a",
   "metadata": {},
   "source": [
    "### src/products/admin.py"
   ]
  },
  {
   "cell_type": "code",
   "execution_count": null,
   "id": "2c671073-c3a2-4a2e-ac09-a88ea4428a4a",
   "metadata": {},
   "outputs": [],
   "source": [
    "from django.contrib import admin\n",
    "\n",
    "from .models import Product, DigitalProduct\n",
    "\n",
    "# Register your models here.\n",
    "admin.site.register(Product)\n",
    "admin.site.register(DigitalProduct)"
   ]
  },
  {
   "cell_type": "markdown",
   "id": "0c5ce3fd-d612-4601-995e-0fc7a1abf6b5",
   "metadata": {},
   "source": [
    "### src/products/mixins.py"
   ]
  },
  {
   "cell_type": "code",
   "execution_count": null,
   "id": "4ef07631-b6df-4e74-9965-f1f24d9a6fe9",
   "metadata": {},
   "outputs": [],
   "source": [
    "class TemplateTitleMixin(object):\n",
    "    title = None\n",
    "\n",
    "    def get_context_data(self, *args, **kwargs):\n",
    "        context = super().get_context_data(*args, **kwargs)\n",
    "        context[\"title\"] = self.get_title()\n",
    "        return context\n",
    "\n",
    "    def get_title(self):\n",
    "        return self.title"
   ]
  },
  {
   "cell_type": "markdown",
   "id": "21423703-4b5a-4f09-b508-adfa9b7bf252",
   "metadata": {},
   "source": [
    "### src/products/views.py"
   ]
  },
  {
   "cell_type": "code",
   "execution_count": null,
   "id": "b6d1209c-8ee1-4f8f-bcfe-7daf92c76ebe",
   "metadata": {},
   "outputs": [],
   "source": [
    "class ProductListView(ListView, TemplateTitleMixin):\n",
    "    title = \"Productos físicos\"\n",
    "    model = Product\n",
    "\n",
    "class DigitalProductListView(ListView, TemplateTitleMixin):\n",
    "    title = \"Productos digitales\"\n",
    "    model = DigitalProduct\n",
    "    template_name = \"products/product_list.html\""
   ]
  },
  {
   "cell_type": "markdown",
   "id": "a1108504-0866-43c2-a56e-1395722438f6",
   "metadata": {},
   "source": [
    "### src/templates/products/product_list.html"
   ]
  },
  {
   "cell_type": "code",
   "execution_count": null,
   "id": "052620f1-5e25-4a35-999a-96f0879d9c66",
   "metadata": {},
   "outputs": [],
   "source": [
    "{% if title %}\n",
    "    <h1>{{ title }}</h1>\n",
    "{% endif %}\n",
    "\n",
    "{% for product in object_list %}\n",
    "    <li> {{ product.title }} - {{ product.slug }} </li>\n",
    "{% endfor %}"
   ]
  },
  {
   "cell_type": "markdown",
   "id": "7a42d76e-d702-44d4-8dd9-70c1cc02d7c1",
   "metadata": {},
   "source": [
    "## RedirectView basada en la instancia del Modelo"
   ]
  },
  {
   "cell_type": "markdown",
   "id": "41b5f8a9-fd20-4952-8cc3-7da85ad50fee",
   "metadata": {},
   "source": [
    "### src/products/views.py"
   ]
  },
  {
   "cell_type": "code",
   "execution_count": null,
   "id": "e08a53c0-61f9-4bdc-9be9-293b5a53c783",
   "metadata": {},
   "outputs": [],
   "source": [
    "from django.http import HttpResponseRedirect\n",
    "from django.views.generic import ListView, DetailView, RedirectView\n",
    "from django.shortcuts import render, get_object_or_404\n",
    "\n",
    "from .mixins import TemplateTitleMixin\n",
    "from .models import Product, DigitalProduct\n",
    "\n",
    "class ProductIDRedirectView(RedirectView):\n",
    "    def get_redirect_url(self, *args, **kwargs):\n",
    "        url_params = self.kwargs\n",
    "        pk = url_params.get(\"pk\")\n",
    "        obj = get_object_or_404(Product, pk=pk)\n",
    "        slug = obj.slug\n",
    "        return f\"/products/products/{slug}\"\n",
    "\n",
    "class ProductRedirectView(RedirectView):\n",
    "        def get_redirect_url(self, *args, **kwargs):\n",
    "            url_params = self.kwargs\n",
    "            slug = url_params.get(\"slug\")\n",
    "            return f\"/products/products/{slug}\""
   ]
  },
  {
   "cell_type": "markdown",
   "id": "1334e57c-47ad-4530-a97a-b079d80d81b0",
   "metadata": {},
   "source": [
    "### src/products/models.py"
   ]
  },
  {
   "cell_type": "code",
   "execution_count": null,
   "id": "39840a4e-b034-4b01-82ae-5e649fbbdef7",
   "metadata": {},
   "outputs": [],
   "source": [
    "from django.db import models\n",
    "\n",
    "class Product(models.Model):\n",
    "    title = models.CharField(max_length=255)\n",
    "    slug = models.SlugField(max_length=255, unique=True)\n",
    "\n",
    "class DigitalProduct(Product):\n",
    "    class Meta:\n",
    "        proxy = True"
   ]
  },
  {
   "cell_type": "markdown",
   "id": "6d3b1cb6-429b-4c4d-8bf9-9eab5a8a0a5b",
   "metadata": {},
   "source": [
    "### src/templates/products/product_detail.html"
   ]
  },
  {
   "cell_type": "code",
   "execution_count": null,
   "id": "0708131c-cbe2-4cb3-8c5b-9cf6f287f9c5",
   "metadata": {},
   "outputs": [],
   "source": [
    "{% if title %}\n",
    "    <h1> {{ title }} </h1>\n",
    "{% endif %}\n",
    "\n",
    " {{ object.pk }}\n",
    " {{ object.title }}\n",
    " {{ object.slug }}"
   ]
  },
  {
   "cell_type": "markdown",
   "id": "bcb8200a-159f-4db0-8917-61f7a52213b7",
   "metadata": {},
   "source": [
    "### src/products/urls.py"
   ]
  },
  {
   "cell_type": "code",
   "execution_count": null,
   "id": "4bb84c4f-1b9f-4363-a1e9-37901abfb169",
   "metadata": {},
   "outputs": [],
   "source": [
    "from django.contrib import admin\n",
    "from django.urls import path\n",
    "from django.views.generic import TemplateView, RedirectView\n",
    "\n",
    "from products.views import ProductListView, ProductDetailView, DigitalProductListView, ProductIDRedirectView, ProductRedirectView\n",
    "\n",
    "path(\"products/<int:pk>\", ProductDetailView.as_view()),\n",
    "path(\"products/<slug:slug>\", ProductDetailView.as_view()),\n",
    "path(\"p/<int:pk>/\", ProductIDredirectView.as_view()),\n",
    "path(\"p/<slug:slug>/\", ProductRedirectView.as_view()),"
   ]
  },
  {
   "cell_type": "markdown",
   "id": "90dd7228-2e41-4520-a528-7de463221278",
   "metadata": {},
   "source": [
    "## Mixin para proteger con Login"
   ]
  },
  {
   "cell_type": "markdown",
   "id": "137e3602-ae14-4f6b-8b0f-52c72ab5276b",
   "metadata": {},
   "source": [
    "### src/products/views.py"
   ]
  },
  {
   "cell_type": "code",
   "execution_count": null,
   "id": "c66151f0-d69d-4bfa-8f27-6574174b85ff",
   "metadata": {},
   "outputs": [],
   "source": [
    "...\n",
    "from django.contrib.auth.mixins import LoginRequiredMixin # <-------\n",
    "\n",
    "class ProtectedProductDetailView(LoginRequiredMixin, DetailView): # <-------\n",
    "    model = Product\n",
    "..."
   ]
  },
  {
   "cell_type": "markdown",
   "id": "85607a57-7833-48f1-b6f7-8fe166fc23f8",
   "metadata": {},
   "source": [
    "### src/products/urls.py"
   ]
  },
  {
   "cell_type": "code",
   "execution_count": null,
   "id": "06aaae8e-0020-4b2c-80d1-43ebbd215eaf",
   "metadata": {},
   "outputs": [],
   "source": [
    "...\n",
    "    path(\"my-products/<slug:slug>\", ProtectedProductDetailView.as_view()), # <-------"
   ]
  },
  {
   "cell_type": "markdown",
   "id": "dc0d52f0-90e0-4cc7-b8b2-ceeacd6b819b",
   "metadata": {},
   "source": [
    "## Model Form"
   ]
  },
  {
   "cell_type": "markdown",
   "id": "f947df96-791b-4371-9c6e-ed208337512c",
   "metadata": {},
   "source": [
    "###  src/products/models.py"
   ]
  },
  {
   "cell_type": "code",
   "execution_count": null,
   "id": "886955bf-b701-4cbe-b880-a8f64a52a890",
   "metadata": {},
   "outputs": [],
   "source": [
    "from django.conf import settings # <-------\n",
    "from django.db import models\n",
    "\n",
    "User = settings.AUTH_USER_MODEL # <-------\n",
    "\n",
    "class Product(models.Model):\n",
    "    user = models.ForeignKey(User, blank=True, null=True, on_delete=models.SET_NULL) # <-------\n",
    "    title = models.CharField(max_length=255)\n",
    "    slug = models.SlugField(max_length=255, unique=True)\n",
    "\n",
    "class DigitalProduct(Product):\n",
    "    class Meta:\n",
    "        proxy = True"
   ]
  },
  {
   "cell_type": "markdown",
   "id": "c25b9042-d2c4-4dc3-97f5-5d2b1c716562",
   "metadata": {},
   "source": [
    "### src/products/forms.py"
   ]
  },
  {
   "cell_type": "code",
   "execution_count": null,
   "id": "82a0a106-7341-4df3-b0f9-b219713df829",
   "metadata": {},
   "outputs": [],
   "source": [
    "from django import forms\n",
    "\n",
    "from .models import Product\n",
    "\n",
    "class ProductModelForm(forms.Modelform):\n",
    "    class Meta:\n",
    "        model = Product\n",
    "        fields = [\n",
    "            \"title\",\n",
    "            \"slug\",\n",
    "        ]"
   ]
  },
  {
   "cell_type": "markdown",
   "id": "d55ce408-f7a5-455a-97a4-d41474e672e6",
   "metadata": {},
   "source": [
    "## CreateView\n",
    "### src/products/views.py"
   ]
  },
  {
   "cell_type": "code",
   "execution_count": null,
   "id": "673e3e24-9ac0-4469-a0c2-759fab53870d",
   "metadata": {},
   "outputs": [],
   "source": [
    "from django.http import HttpResponseRedirect\n",
    "from django.contrib.auth.mixins import LoginRequiredMixin\n",
    "from django.views.generic import (\n",
    "    ListView,\n",
    "    DetailView,\n",
    "    RedirectView,\n",
    "    TemplateView,\n",
    "    CreateView, # <-------\n",
    ")\n",
    "from django.shortcuts import render, get_object_or_404\n",
    "\n",
    "from .forms import ProductModelForm # <-------\n",
    "from .mixins import TemplateTitleMixin\n",
    "from .models import Product, DigitalProduct\n",
    "\n",
    "class ProtectedProductCreateView(LoginRequiredMixin, CreateView):\n",
    "    form_class = ProductModelForm\n",
    "    template_name = \"forms.html\"\n",
    "    \n",
    "    def form_valid(self, form):\n",
    "        form.instance.user = self.request.user\n",
    "        return super().form_valid(form)\n",
    "    \n",
    "    # def form_invalid(self, form):"
   ]
  },
  {
   "cell_type": "markdown",
   "id": "0598be7a-4c5e-4d5f-ac47-b3b20128df0e",
   "metadata": {},
   "source": [
    "### src/products/urls.py"
   ]
  },
  {
   "cell_type": "code",
   "execution_count": null,
   "id": "9155670c-940c-4f92-b100-d2bdff99ddeb",
   "metadata": {},
   "outputs": [],
   "source": [
    "    path(\"my-products/create/\", ProtectedProductCreateView.as_view()), # <-------"
   ]
  },
  {
   "cell_type": "markdown",
   "id": "5c380b16-79b1-484a-8e55-8d3101a2e2be",
   "metadata": {},
   "source": [
    "### src/templates/forms.html"
   ]
  },
  {
   "cell_type": "markdown",
   "id": "af635fce-cf00-4a18-9ab3-70dd37dfb79d",
   "metadata": {},
   "source": [
    "<form method=\"POST\" action=\".\">\n",
    "    {% csrf_token %}\n",
    "    {{ form.as_p }}\n",
    "\n",
    "    <input type=\"submit\" value=\"Guardar\">\n",
    "</form>"
   ]
  },
  {
   "cell_type": "markdown",
   "id": "25bc2747-e699-4836-a62a-170110e06a8e",
   "metadata": {},
   "source": [
    "### src/products/models.py"
   ]
  },
  {
   "cell_type": "code",
   "execution_count": null,
   "id": "8a0204db-75c4-4a5b-b4ea-c989080e1175",
   "metadata": {},
   "outputs": [],
   "source": [
    "from django.conf import settings \n",
    "from django.db import models\n",
    "\n",
    "User = settings.AUTH_USER_MODEL \n",
    "\n",
    "class Product(models.Model):\n",
    "    user = models.ForeignKey(User, blank=True, null=True, on_delete=models.SET_NULL) \n",
    "    title = models.CharField(max_length=255)\n",
    "    slug = models.SlugField(max_length=255, unique=True)\n",
    "    \n",
    "    def get_absolute_url(self): # <-------\n",
    "        return f\"/products/products/{self.slug}/\"\n",
    "    \n",
    "\n",
    "class DigitalProduct(Product):\n",
    "    class Meta:\n",
    "        proxy = True"
   ]
  },
  {
   "cell_type": "markdown",
   "id": "9aa7e008-8086-4f57-878b-e7c432037df0",
   "metadata": {},
   "source": [
    "### src/products/urls.py"
   ]
  },
  {
   "cell_type": "code",
   "execution_count": null,
   "id": "d8cf0663-9713-438b-ba91-9661a438841b",
   "metadata": {},
   "outputs": [],
   "source": [
    "    # path(\"my-products/<slug:slug>\", ProtectedProductDetailView.as_view()),\n",
    "    path(\"my-products/create/\", ProtectedProductCreateView.as_view()), # <-------\n",
    "]"
   ]
  },
  {
   "cell_type": "markdown",
   "id": "a75cbea8-fd41-41cb-811a-7545dd17be75",
   "metadata": {},
   "source": [
    "## UpdateView y DeleteView"
   ]
  },
  {
   "cell_type": "markdown",
   "id": "dbfca66b-fd38-459d-a685-29346465fd7c",
   "metadata": {},
   "source": [
    "### src/products/views.py"
   ]
  },
  {
   "cell_type": "code",
   "execution_count": null,
   "id": "5f28d0be-6f8c-49c4-8572-49a1e9bc3420",
   "metadata": {},
   "outputs": [],
   "source": [
    "from django.contrib.auth.mixins import LoginRequiredMixin\n",
    "from django.http import HttpResponseRedirect\n",
    "from django.views.generic import(\n",
    "    ListView,\n",
    "    DetailView,RedirectView,\n",
    "    CreateView,\n",
    "    UpdateView, # <-------\n",
    "    DeleteView, # <-------\n",
    "]\n",
    "\n",
    "from django.shortcuts import render, get_object_or_404\n",
    "\n",
    "from .forms import ProductModelForm\n",
    "from .mixins import TemplateTitleMixin\n",
    "from .models import Product, DigitalProduct\n",
    "\n",
    "class ProtectedProductUpdateView(LoginRequiredMixin, UpdateView):\n",
    "    form_class = ProductModelForm\n",
    "    template_name = \"products/product_detail.html\"\n",
    "\n",
    "    def get_queryset(self):\n",
    "        return Product.objects.filter(user=self.request.user)\n",
    "\n",
    "    def get_success_url(self):\n",
    "        return self.object.get_edit_url()\n",
    "\n",
    "class ProtectedProductDeleteView(LoginRequiredMixin, DeleteView):\n",
    "    template_name = \"forms_delete.html\"\n",
    "\n",
    "    def get_queryset(self):\n",
    "        return Product.objects.filter(user=self.request.user)\n",
    "\n",
    "    def get_success_url(self):\n",
    "        return \"/products/products\""
   ]
  },
  {
   "cell_type": "markdown",
   "id": "ee078635-4f75-4364-a94a-e6b2ab18cc80",
   "metadata": {},
   "source": [
    "### src/products/urls.py"
   ]
  },
  {
   "cell_type": "code",
   "execution_count": null,
   "id": "f5c856d8-59e6-4e4f-8879-9a0ecfa9709a",
   "metadata": {},
   "outputs": [],
   "source": [
    "from products.views import(\n",
    "...\n",
    "    ProtectedProductUpdateView, # <-------\n",
    "    ProtectedProductDeleteView, # <-------\n",
    ")\n",
    "\n",
    "urlpatterns = [\n",
    "    ...\n",
    "    path(\"my-products/<slug:slug>/\", ProtectedProductUpdateView.as_view()),\n",
    "    path(\"my-products/<slug:slug>/\", ProtectedProductDeleteView.as_view()),\n",
    "]"
   ]
  },
  {
   "cell_type": "markdown",
   "id": "b11a9077-bea7-46ee-a78d-4c39b8b3e728",
   "metadata": {},
   "source": [
    "### src/templates/products/product_detail.html"
   ]
  },
  {
   "cell_type": "code",
   "execution_count": null,
   "id": "fdd87609-710a-41ca-8c48-4dd71b6121d0",
   "metadata": {},
   "outputs": [],
   "source": [
    "{% if title %}\n",
    "    <h1>{{ title }}</h1>\n",
    "{% endif %}\n",
    "\n",
    " {{ object.pk }}\n",
    " {{ object.title }}\n",
    " {{ object.slug }}\n",
    "\n",
    " {% if form %}\n",
    "     {% include 'forms.html\" with form=form delete_url=object.get_delete_url %}\n",
    "{% endif %}"
   ]
  },
  {
   "cell_type": "markdown",
   "id": "00c6ed98-f9e4-4c86-9f0a-5f04da1df207",
   "metadata": {},
   "source": [
    "### src/products/models.py"
   ]
  },
  {
   "cell_type": "code",
   "execution_count": null,
   "id": "b53683ae-89e8-4177-903a-46c4449d873f",
   "metadata": {},
   "outputs": [],
   "source": [
    "from django.conf import settings\n",
    "from django.db import models\n",
    "\n",
    "User = settings.AUTH_USER_MODEL\n",
    "\n",
    "class Product(models.Model):\n",
    "    user = models.ForeignKey(User, blank=True, null=True, on_delete=models.SET_NULL)\n",
    "    title = models.CharField(max_length=255)\n",
    "    slug = models.SlugField(max_length=255, unique=True)\n",
    "\n",
    "    def get_absolute_url(self):\n",
    "        return f\"/products/products/{self.slug}\"\n",
    "\n",
    "    def get_edit_url(self):\n",
    "        return f\"/products/my-products/{self.slug}\"\n",
    "\n",
    "    def get_delete_url(self):\n",
    "        return f\"/products/my-products/{self.slug}/delete\""
   ]
  },
  {
   "cell_type": "markdown",
   "id": "3d30cf0b-c79b-478a-bd0d-ddbacb58cdcf",
   "metadata": {},
   "source": [
    "### src/templates/forms.html"
   ]
  },
  {
   "cell_type": "code",
   "execution_count": null,
   "id": "3a2a99dd-9971-47a9-a00b-923eef446d4a",
   "metadata": {},
   "outputs": [],
   "source": [
    "<form method=\"POST\" action=\".\">\n",
    "    {% csrf_token %} # indica que el request proviene de una fuente de confianza\n",
    "    {{ form.as_p }} # indicamos que el form muestre todos los campos\n",
    "    <input type=\"submit\" value=\"Guardar\"> # botón con etiqueta Guardar\n",
    "    {% if delete_url %} # \n",
    "        <a href=\"{{ delete_url }}\">Eliminar</a>\n",
    "    {% endif %}\n",
    "</form>"
   ]
  },
  {
   "cell_type": "markdown",
   "id": "40c25131-e9ff-4010-ac06-b2d23c1e8488",
   "metadata": {},
   "source": [
    "### src/templates/products/forms_delete.html\n"
   ]
  },
  {
   "cell_type": "code",
   "execution_count": null,
   "id": "6f5e18e8-8cea-4637-9956-1ba73ad84ab4",
   "metadata": {},
   "outputs": [],
   "source": [
    "<form method=\"POST\" action=\"{{ object.get_delete_url}}\">\n",
    "    {% csrf_token %}\n",
    "    <h1>¿Estás seguro que quieres eliminar \"{{ object.title }}\"?</h1>\n",
    "    <input type=\"submit\" value=\"Confirmar\">\n",
    "</form>"
   ]
  },
  {
   "cell_type": "code",
   "execution_count": null,
   "id": "6056744b-d4cb-4cc7-b60c-fe37392f95de",
   "metadata": {},
   "outputs": [],
   "source": []
  },
  {
   "cell_type": "code",
   "execution_count": null,
   "id": "19ffa139-938e-4b28-872b-2a648fd667cc",
   "metadata": {},
   "outputs": [],
   "source": []
  },
  {
   "cell_type": "code",
   "execution_count": null,
   "id": "5b0bbee8-7073-4744-a695-11dc00cf9050",
   "metadata": {},
   "outputs": [],
   "source": []
  },
  {
   "cell_type": "code",
   "execution_count": null,
   "id": "78b0a027-9e14-42e7-9a63-5b469768db9c",
   "metadata": {},
   "outputs": [],
   "source": []
  },
  {
   "cell_type": "code",
   "execution_count": null,
   "id": "7c40a146-35c9-4b15-a4fd-04b67bd4e302",
   "metadata": {},
   "outputs": [],
   "source": []
  },
  {
   "cell_type": "code",
   "execution_count": null,
   "id": "5837278e-959b-4df3-8fe9-bbe56019ac93",
   "metadata": {},
   "outputs": [],
   "source": []
  },
  {
   "cell_type": "code",
   "execution_count": null,
   "id": "0fb90576-1c34-400c-9bc8-bd1b905c8b3c",
   "metadata": {},
   "outputs": [],
   "source": []
  },
  {
   "cell_type": "code",
   "execution_count": null,
   "id": "aaea7dc7-7639-43e1-a684-9b524178ab1f",
   "metadata": {},
   "outputs": [],
   "source": []
  },
  {
   "cell_type": "code",
   "execution_count": null,
   "id": "a32ec05e-6ce7-4c92-8bb6-fc3d686cd99a",
   "metadata": {},
   "outputs": [],
   "source": []
  },
  {
   "cell_type": "code",
   "execution_count": null,
   "id": "14f356f8-470a-4ff1-88b9-da42f9bedc7e",
   "metadata": {},
   "outputs": [],
   "source": []
  }
 ],
 "metadata": {
  "kernelspec": {
   "display_name": "Python [conda env:base] *",
   "language": "python",
   "name": "conda-base-py"
  },
  "language_info": {
   "codemirror_mode": {
    "name": "ipython",
    "version": 3
   },
   "file_extension": ".py",
   "mimetype": "text/x-python",
   "name": "python",
   "nbconvert_exporter": "python",
   "pygments_lexer": "ipython3",
   "version": "3.12.7"
  }
 },
 "nbformat": 4,
 "nbformat_minor": 5
}
